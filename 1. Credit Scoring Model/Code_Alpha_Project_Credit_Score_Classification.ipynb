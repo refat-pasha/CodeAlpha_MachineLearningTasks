{
  "cells": [
    {
      "cell_type": "markdown",
      "metadata": {
        "id": "SLzN0poPI-rZ"
      },
      "source": [
        "---\n",
        "\n",
        "# **Credit Score Prediction**\n",
        "\n",
        "## **Author** : *Refat Pasha*\n",
        "\n",
        "----\n",
        "\n",
        "\n",
        "\n",
        "<br>\n",
        "\n",
        "### **Steps Involved in This Notebook Inculde**\n",
        "\n",
        "- **Data Prparation**\n",
        "- **Data Analysis**\n",
        "- **Statical Analysis**\n",
        "- **Feature Engineering**\n",
        "- **Model Training**\n",
        "- **Model Evaluation**\n",
        "- **Saving Best Model**"
      ]
    },
    {
      "cell_type": "markdown",
      "metadata": {
        "id": "o4wTdLpo1l5P"
      },
      "source": [
        "----\n",
        "\n",
        "### **Import Libraries**\n",
        "\n",
        "----"
      ]
    },
    {
      "cell_type": "code",
      "execution_count": 1,
      "metadata": {
        "id": "ymVQZ6bHIx7m"
      },
      "outputs": [],
      "source": [
        "import os\n",
        "import pandas as pd\n",
        "import numpy as np\n",
        "import seaborn as sns\n",
        "import matplotlib.pyplot as plt\n",
        "%matplotlib inline\n",
        "\n",
        "from sklearn.model_selection import train_test_split, cross_val_score\n",
        "from sklearn.preprocessing import StandardScaler, OneHotEncoder, LabelEncoder\n",
        "from sklearn.linear_model import LogisticRegression\n",
        "from sklearn.neighbors import KNeighborsClassifier\n",
        "from sklearn.svm import SVC\n",
        "from sklearn.tree import DecisionTreeClassifier, plot_tree\n",
        "from sklearn.ensemble import RandomForestClassifier, AdaBoostClassifier, GradientBoostingClassifier\n",
        "from xgboost import XGBClassifier\n",
        "from sklearn.naive_bayes import GaussianNB\n",
        "from sklearn.metrics import accuracy_score, confusion_matrix, classification_report, mean_absolute_error, mean_squared_error, r2_score\n",
        "\n",
        "# to perform statistical test\n",
        "from sklearn.feature_selection import chi2 # for categorical fetures\n",
        "from sklearn.feature_selection import f_classif # for numerical features (Anova f-test)\n",
        "\n",
        "# impot pipeline\n",
        "from sklearn.pipeline import Pipeline\n",
        "\n",
        "import warnings\n",
        "warnings.filterwarnings('ignore')\n",
        "\n",
        "from sklearn.experimental import enable_iterative_imputer\n",
        "from sklearn.impute import IterativeImputer"
      ]
    },
    {
      "cell_type": "markdown",
      "metadata": {
        "id": "n9H2cliZ1s7_"
      },
      "source": [
        "----\n",
        "\n",
        "### **Load the dataset**\n",
        "\n",
        "----"
      ]
    },
    {
      "cell_type": "code",
      "execution_count": 2,
      "metadata": {
        "id": "I5MqLUhhJo4g"
      },
      "outputs": [],
      "source": [
        "df = pd.read_csv('Credit_Score_Clean.csv')"
      ]
    },
    {
      "cell_type": "markdown",
      "metadata": {
        "id": "orVPqRrf1yH6"
      },
      "source": [
        "----\n",
        "\n",
        "### **First 5 rows of Dataset**\n",
        "\n",
        "----"
      ]
    },
    {
      "cell_type": "code",
      "execution_count": 3,
      "metadata": {
        "colab": {
          "base_uri": "https://localhost:8080/",
          "height": 255
        },
        "id": "40HDZLKqJ07k",
        "outputId": "54859e55-82cd-4909-9643-76d40c0ca7e1"
      },
      "outputs": [
        {
          "data": {
            "text/html": [
              "<div>\n",
              "<style scoped>\n",
              "    .dataframe tbody tr th:only-of-type {\n",
              "        vertical-align: middle;\n",
              "    }\n",
              "\n",
              "    .dataframe tbody tr th {\n",
              "        vertical-align: top;\n",
              "    }\n",
              "\n",
              "    .dataframe thead th {\n",
              "        text-align: right;\n",
              "    }\n",
              "</style>\n",
              "<table border=\"1\" class=\"dataframe\">\n",
              "  <thead>\n",
              "    <tr style=\"text-align: right;\">\n",
              "      <th></th>\n",
              "      <th>Age</th>\n",
              "      <th>Occupation</th>\n",
              "      <th>Annual_Income</th>\n",
              "      <th>Num_Bank_Accounts</th>\n",
              "      <th>Num_Credit_Card</th>\n",
              "      <th>Interest_Rate</th>\n",
              "      <th>Num_of_Loan</th>\n",
              "      <th>Delay_from_due_date</th>\n",
              "      <th>Num_of_Delayed_Payment</th>\n",
              "      <th>Changed_Credit_Limit</th>\n",
              "      <th>...</th>\n",
              "      <th>Credit_Mix</th>\n",
              "      <th>Outstanding_Debt</th>\n",
              "      <th>Credit_Utilization_Ratio</th>\n",
              "      <th>Payment_of_Min_Amount</th>\n",
              "      <th>Total_EMI_per_month</th>\n",
              "      <th>Amount_invested_monthly</th>\n",
              "      <th>Payment_Behaviour</th>\n",
              "      <th>Monthly_Balance</th>\n",
              "      <th>Credit_Score</th>\n",
              "      <th>Credit_History_Age_Months</th>\n",
              "    </tr>\n",
              "  </thead>\n",
              "  <tbody>\n",
              "    <tr>\n",
              "      <th>0</th>\n",
              "      <td>23</td>\n",
              "      <td>Scientist</td>\n",
              "      <td>19114.12</td>\n",
              "      <td>3</td>\n",
              "      <td>4</td>\n",
              "      <td>3</td>\n",
              "      <td>4</td>\n",
              "      <td>5</td>\n",
              "      <td>4</td>\n",
              "      <td>6.27</td>\n",
              "      <td>...</td>\n",
              "      <td>Good</td>\n",
              "      <td>809.98</td>\n",
              "      <td>31.377862</td>\n",
              "      <td>No</td>\n",
              "      <td>49.574949</td>\n",
              "      <td>199.458074</td>\n",
              "      <td>Low_spent_Small_value_payments</td>\n",
              "      <td>223.451310</td>\n",
              "      <td>Good</td>\n",
              "      <td>268</td>\n",
              "    </tr>\n",
              "    <tr>\n",
              "      <th>1</th>\n",
              "      <td>23</td>\n",
              "      <td>Scientist</td>\n",
              "      <td>19114.12</td>\n",
              "      <td>3</td>\n",
              "      <td>4</td>\n",
              "      <td>3</td>\n",
              "      <td>4</td>\n",
              "      <td>6</td>\n",
              "      <td>0</td>\n",
              "      <td>11.27</td>\n",
              "      <td>...</td>\n",
              "      <td>Good</td>\n",
              "      <td>809.98</td>\n",
              "      <td>24.797347</td>\n",
              "      <td>No</td>\n",
              "      <td>49.574949</td>\n",
              "      <td>41.420153</td>\n",
              "      <td>High_spent_Medium_value_payments</td>\n",
              "      <td>341.489231</td>\n",
              "      <td>Good</td>\n",
              "      <td>269</td>\n",
              "    </tr>\n",
              "    <tr>\n",
              "      <th>2</th>\n",
              "      <td>23</td>\n",
              "      <td>Scientist</td>\n",
              "      <td>19114.12</td>\n",
              "      <td>3</td>\n",
              "      <td>4</td>\n",
              "      <td>3</td>\n",
              "      <td>4</td>\n",
              "      <td>3</td>\n",
              "      <td>8</td>\n",
              "      <td>11.27</td>\n",
              "      <td>...</td>\n",
              "      <td>Good</td>\n",
              "      <td>809.98</td>\n",
              "      <td>22.537593</td>\n",
              "      <td>No</td>\n",
              "      <td>49.574949</td>\n",
              "      <td>178.344067</td>\n",
              "      <td>Low_spent_Small_value_payments</td>\n",
              "      <td>244.565317</td>\n",
              "      <td>Good</td>\n",
              "      <td>271</td>\n",
              "    </tr>\n",
              "    <tr>\n",
              "      <th>3</th>\n",
              "      <td>23</td>\n",
              "      <td>Scientist</td>\n",
              "      <td>19114.12</td>\n",
              "      <td>3</td>\n",
              "      <td>4</td>\n",
              "      <td>3</td>\n",
              "      <td>4</td>\n",
              "      <td>3</td>\n",
              "      <td>6</td>\n",
              "      <td>11.27</td>\n",
              "      <td>...</td>\n",
              "      <td>Good</td>\n",
              "      <td>809.98</td>\n",
              "      <td>23.933795</td>\n",
              "      <td>No</td>\n",
              "      <td>49.574949</td>\n",
              "      <td>24.785217</td>\n",
              "      <td>High_spent_Medium_value_payments</td>\n",
              "      <td>358.124168</td>\n",
              "      <td>Standard</td>\n",
              "      <td>0</td>\n",
              "    </tr>\n",
              "    <tr>\n",
              "      <th>4</th>\n",
              "      <td>28</td>\n",
              "      <td>Teacher</td>\n",
              "      <td>34847.84</td>\n",
              "      <td>2</td>\n",
              "      <td>4</td>\n",
              "      <td>6</td>\n",
              "      <td>1</td>\n",
              "      <td>7</td>\n",
              "      <td>1</td>\n",
              "      <td>7.42</td>\n",
              "      <td>...</td>\n",
              "      <td>Good</td>\n",
              "      <td>605.03</td>\n",
              "      <td>38.550848</td>\n",
              "      <td>No</td>\n",
              "      <td>18.816215</td>\n",
              "      <td>40.391238</td>\n",
              "      <td>High_spent_Large_value_payments</td>\n",
              "      <td>484.591214</td>\n",
              "      <td>Good</td>\n",
              "      <td>320</td>\n",
              "    </tr>\n",
              "  </tbody>\n",
              "</table>\n",
              "<p>5 rows × 21 columns</p>\n",
              "</div>"
            ],
            "text/plain": [
              "   Age Occupation  Annual_Income  Num_Bank_Accounts  Num_Credit_Card  \\\n",
              "0   23  Scientist       19114.12                  3                4   \n",
              "1   23  Scientist       19114.12                  3                4   \n",
              "2   23  Scientist       19114.12                  3                4   \n",
              "3   23  Scientist       19114.12                  3                4   \n",
              "4   28    Teacher       34847.84                  2                4   \n",
              "\n",
              "   Interest_Rate  Num_of_Loan  Delay_from_due_date  Num_of_Delayed_Payment  \\\n",
              "0              3            4                    5                       4   \n",
              "1              3            4                    6                       0   \n",
              "2              3            4                    3                       8   \n",
              "3              3            4                    3                       6   \n",
              "4              6            1                    7                       1   \n",
              "\n",
              "   Changed_Credit_Limit  ...  Credit_Mix Outstanding_Debt  \\\n",
              "0                  6.27  ...        Good           809.98   \n",
              "1                 11.27  ...        Good           809.98   \n",
              "2                 11.27  ...        Good           809.98   \n",
              "3                 11.27  ...        Good           809.98   \n",
              "4                  7.42  ...        Good           605.03   \n",
              "\n",
              "   Credit_Utilization_Ratio  Payment_of_Min_Amount Total_EMI_per_month  \\\n",
              "0                 31.377862                     No           49.574949   \n",
              "1                 24.797347                     No           49.574949   \n",
              "2                 22.537593                     No           49.574949   \n",
              "3                 23.933795                     No           49.574949   \n",
              "4                 38.550848                     No           18.816215   \n",
              "\n",
              "   Amount_invested_monthly                 Payment_Behaviour Monthly_Balance  \\\n",
              "0               199.458074    Low_spent_Small_value_payments      223.451310   \n",
              "1                41.420153  High_spent_Medium_value_payments      341.489231   \n",
              "2               178.344067    Low_spent_Small_value_payments      244.565317   \n",
              "3                24.785217  High_spent_Medium_value_payments      358.124168   \n",
              "4                40.391238   High_spent_Large_value_payments      484.591214   \n",
              "\n",
              "   Credit_Score Credit_History_Age_Months  \n",
              "0          Good                       268  \n",
              "1          Good                       269  \n",
              "2          Good                       271  \n",
              "3      Standard                         0  \n",
              "4          Good                       320  \n",
              "\n",
              "[5 rows x 21 columns]"
            ]
          },
          "execution_count": 3,
          "metadata": {},
          "output_type": "execute_result"
        }
      ],
      "source": [
        "df.head()"
      ]
    },
    {
      "cell_type": "markdown",
      "metadata": {
        "id": "KTycdI6k13W5"
      },
      "source": [
        "----\n",
        "\n",
        "### **Shape of dataset**\n",
        "\n",
        "----"
      ]
    },
    {
      "cell_type": "code",
      "execution_count": 4,
      "metadata": {
        "colab": {
          "base_uri": "https://localhost:8080/"
        },
        "id": "PZjhL8KxJ-R2",
        "outputId": "b78e8749-9dda-4d1c-eac5-72a3a5c5a5d3"
      },
      "outputs": [
        {
          "name": "stdout",
          "output_type": "stream",
          "text": [
            "Dataset has 31711 rows and 21 columns\n"
          ]
        }
      ],
      "source": [
        "print(f'Dataset has {df.shape[0]} rows and {df.shape[1]} columns')"
      ]
    },
    {
      "cell_type": "markdown",
      "metadata": {
        "id": "i1VcLuyz19vB"
      },
      "source": [
        "----\n",
        "\n",
        "### **Check Numerical Features**\n",
        "\n",
        "----"
      ]
    },
    {
      "cell_type": "code",
      "execution_count": 5,
      "metadata": {
        "colab": {
          "base_uri": "https://localhost:8080/"
        },
        "id": "Wj03dHLKKR4J",
        "outputId": "7133ff01-b4ff-433e-b3e0-b56ab6ed1803"
      },
      "outputs": [
        {
          "name": "stdout",
          "output_type": "stream",
          "text": [
            "Numerical Features: ['Age', 'Annual_Income', 'Num_Bank_Accounts', 'Num_Credit_Card', 'Interest_Rate', 'Num_of_Loan', 'Delay_from_due_date', 'Num_of_Delayed_Payment', 'Changed_Credit_Limit', 'Num_Credit_Inquiries', 'Outstanding_Debt', 'Credit_Utilization_Ratio', 'Total_EMI_per_month', 'Amount_invested_monthly', 'Monthly_Balance', 'Credit_History_Age_Months']\n"
          ]
        }
      ],
      "source": [
        "numerical_features = df.select_dtypes(include=np.number).columns.tolist()\n",
        "print(\"Numerical Features:\", numerical_features)"
      ]
    },
    {
      "cell_type": "markdown",
      "metadata": {
        "id": "sA4LCKRj2M6f"
      },
      "source": [
        "----\n",
        "\n",
        "### **Check Catagorical Features**\n",
        "\n",
        "----"
      ]
    },
    {
      "cell_type": "code",
      "execution_count": 6,
      "metadata": {
        "colab": {
          "base_uri": "https://localhost:8080/"
        },
        "id": "TCIi_BjMKY-i",
        "outputId": "1dc1a1c8-8d62-4fbe-b32c-c198418367c9"
      },
      "outputs": [
        {
          "name": "stdout",
          "output_type": "stream",
          "text": [
            "Categorical Features: ['Occupation', 'Credit_Mix', 'Payment_of_Min_Amount', 'Payment_Behaviour', 'Credit_Score']\n"
          ]
        }
      ],
      "source": [
        "categorical_features = df.select_dtypes(include=['object']).columns.tolist()\n",
        "print(\"Categorical Features:\", categorical_features)"
      ]
    },
    {
      "cell_type": "markdown",
      "metadata": {
        "id": "I1rgbdpy2Upf"
      },
      "source": [
        "----\n",
        "\n",
        "### **Check Details of Dataset**\n",
        "\n",
        "----"
      ]
    },
    {
      "cell_type": "code",
      "execution_count": 7,
      "metadata": {
        "colab": {
          "base_uri": "https://localhost:8080/"
        },
        "id": "aXbMQIVbKhEj",
        "outputId": "46f87c54-bf38-458c-9828-c98349bf900f"
      },
      "outputs": [
        {
          "name": "stdout",
          "output_type": "stream",
          "text": [
            "<class 'pandas.core.frame.DataFrame'>\n",
            "RangeIndex: 31711 entries, 0 to 31710\n",
            "Data columns (total 21 columns):\n",
            " #   Column                     Non-Null Count  Dtype  \n",
            "---  ------                     --------------  -----  \n",
            " 0   Age                        31711 non-null  int64  \n",
            " 1   Occupation                 31711 non-null  object \n",
            " 2   Annual_Income              31711 non-null  float64\n",
            " 3   Num_Bank_Accounts          31711 non-null  int64  \n",
            " 4   Num_Credit_Card            31711 non-null  int64  \n",
            " 5   Interest_Rate              31711 non-null  int64  \n",
            " 6   Num_of_Loan                31711 non-null  int64  \n",
            " 7   Delay_from_due_date        31711 non-null  int64  \n",
            " 8   Num_of_Delayed_Payment     31711 non-null  int64  \n",
            " 9   Changed_Credit_Limit       31711 non-null  float64\n",
            " 10  Num_Credit_Inquiries       31711 non-null  float64\n",
            " 11  Credit_Mix                 31711 non-null  object \n",
            " 12  Outstanding_Debt           31711 non-null  float64\n",
            " 13  Credit_Utilization_Ratio   31711 non-null  float64\n",
            " 14  Payment_of_Min_Amount      31711 non-null  object \n",
            " 15  Total_EMI_per_month        31711 non-null  float64\n",
            " 16  Amount_invested_monthly    31711 non-null  float64\n",
            " 17  Payment_Behaviour          31711 non-null  object \n",
            " 18  Monthly_Balance            31711 non-null  float64\n",
            " 19  Credit_Score               31711 non-null  object \n",
            " 20  Credit_History_Age_Months  31711 non-null  int64  \n",
            "dtypes: float64(8), int64(8), object(5)\n",
            "memory usage: 5.1+ MB\n"
          ]
        }
      ],
      "source": [
        "df.info()"
      ]
    },
    {
      "cell_type": "markdown",
      "metadata": {
        "id": "8u51He-52hnI"
      },
      "source": [
        "\n",
        "----\n",
        "\n",
        "### **Check for missing Values**\n",
        "\n",
        "----\n"
      ]
    },
    {
      "cell_type": "code",
      "execution_count": 8,
      "metadata": {
        "colab": {
          "base_uri": "https://localhost:8080/",
          "height": 742
        },
        "id": "KuQhLbc_LhWz",
        "outputId": "b0699e40-2f01-40f0-a735-67d6601faa25"
      },
      "outputs": [
        {
          "data": {
            "text/plain": [
              "Age                          0\n",
              "Occupation                   0\n",
              "Annual_Income                0\n",
              "Num_Bank_Accounts            0\n",
              "Num_Credit_Card              0\n",
              "Interest_Rate                0\n",
              "Num_of_Loan                  0\n",
              "Delay_from_due_date          0\n",
              "Num_of_Delayed_Payment       0\n",
              "Changed_Credit_Limit         0\n",
              "Num_Credit_Inquiries         0\n",
              "Credit_Mix                   0\n",
              "Outstanding_Debt             0\n",
              "Credit_Utilization_Ratio     0\n",
              "Payment_of_Min_Amount        0\n",
              "Total_EMI_per_month          0\n",
              "Amount_invested_monthly      0\n",
              "Payment_Behaviour            0\n",
              "Monthly_Balance              0\n",
              "Credit_Score                 0\n",
              "Credit_History_Age_Months    0\n",
              "dtype: int64"
            ]
          },
          "execution_count": 8,
          "metadata": {},
          "output_type": "execute_result"
        }
      ],
      "source": [
        "df.isnull().sum()"
      ]
    },
    {
      "cell_type": "markdown",
      "metadata": {
        "id": "fPC-4jpd2kuC"
      },
      "source": [
        "----\n",
        "\n",
        "### **Let's see statistical description of dataset**\n",
        "\n",
        "----"
      ]
    },
    {
      "cell_type": "code",
      "execution_count": 9,
      "metadata": {
        "colab": {
          "base_uri": "https://localhost:8080/",
          "height": 320
        },
        "id": "A2Cx9LUfLZVz",
        "outputId": "ee5ddbb2-bc9e-4e07-cca9-64ead2cd5fd0"
      },
      "outputs": [
        {
          "data": {
            "text/html": [
              "<div>\n",
              "<style scoped>\n",
              "    .dataframe tbody tr th:only-of-type {\n",
              "        vertical-align: middle;\n",
              "    }\n",
              "\n",
              "    .dataframe tbody tr th {\n",
              "        vertical-align: top;\n",
              "    }\n",
              "\n",
              "    .dataframe thead th {\n",
              "        text-align: right;\n",
              "    }\n",
              "</style>\n",
              "<table border=\"1\" class=\"dataframe\">\n",
              "  <thead>\n",
              "    <tr style=\"text-align: right;\">\n",
              "      <th></th>\n",
              "      <th>Age</th>\n",
              "      <th>Annual_Income</th>\n",
              "      <th>Num_Bank_Accounts</th>\n",
              "      <th>Num_Credit_Card</th>\n",
              "      <th>Interest_Rate</th>\n",
              "      <th>Num_of_Loan</th>\n",
              "      <th>Delay_from_due_date</th>\n",
              "      <th>Num_of_Delayed_Payment</th>\n",
              "      <th>Changed_Credit_Limit</th>\n",
              "      <th>Num_Credit_Inquiries</th>\n",
              "      <th>Outstanding_Debt</th>\n",
              "      <th>Credit_Utilization_Ratio</th>\n",
              "      <th>Total_EMI_per_month</th>\n",
              "      <th>Amount_invested_monthly</th>\n",
              "      <th>Monthly_Balance</th>\n",
              "      <th>Credit_History_Age_Months</th>\n",
              "    </tr>\n",
              "  </thead>\n",
              "  <tbody>\n",
              "    <tr>\n",
              "      <th>count</th>\n",
              "      <td>31711.000000</td>\n",
              "      <td>3.171100e+04</td>\n",
              "      <td>31711.000000</td>\n",
              "      <td>31711.000000</td>\n",
              "      <td>31711.000000</td>\n",
              "      <td>31711.000000</td>\n",
              "      <td>31711.000000</td>\n",
              "      <td>31711.000000</td>\n",
              "      <td>31711.000000</td>\n",
              "      <td>31711.000000</td>\n",
              "      <td>31711.000000</td>\n",
              "      <td>31711.000000</td>\n",
              "      <td>31711.000000</td>\n",
              "      <td>31711.000000</td>\n",
              "      <td>31711.000000</td>\n",
              "      <td>31711.000000</td>\n",
              "    </tr>\n",
              "    <tr>\n",
              "      <th>mean</th>\n",
              "      <td>35.135032</td>\n",
              "      <td>1.749045e+05</td>\n",
              "      <td>4.415818</td>\n",
              "      <td>4.801583</td>\n",
              "      <td>10.256504</td>\n",
              "      <td>2.234114</td>\n",
              "      <td>14.985967</td>\n",
              "      <td>26.493299</td>\n",
              "      <td>8.601820</td>\n",
              "      <td>3.903030</td>\n",
              "      <td>776.983756</td>\n",
              "      <td>32.522218</td>\n",
              "      <td>59.287714</td>\n",
              "      <td>181.502288</td>\n",
              "      <td>439.647331</td>\n",
              "      <td>243.861026</td>\n",
              "    </tr>\n",
              "    <tr>\n",
              "      <th>std</th>\n",
              "      <td>11.037186</td>\n",
              "      <td>1.415577e+06</td>\n",
              "      <td>2.305062</td>\n",
              "      <td>1.673844</td>\n",
              "      <td>5.916633</td>\n",
              "      <td>1.700965</td>\n",
              "      <td>9.353937</td>\n",
              "      <td>215.388313</td>\n",
              "      <td>5.119076</td>\n",
              "      <td>2.813889</td>\n",
              "      <td>443.968460</td>\n",
              "      <td>5.135545</td>\n",
              "      <td>53.461204</td>\n",
              "      <td>196.253121</td>\n",
              "      <td>225.424866</td>\n",
              "      <td>108.853693</td>\n",
              "    </tr>\n",
              "    <tr>\n",
              "      <th>min</th>\n",
              "      <td>14.000000</td>\n",
              "      <td>7.006520e+03</td>\n",
              "      <td>0.000000</td>\n",
              "      <td>0.000000</td>\n",
              "      <td>1.000000</td>\n",
              "      <td>0.000000</td>\n",
              "      <td>0.000000</td>\n",
              "      <td>0.000000</td>\n",
              "      <td>0.000000</td>\n",
              "      <td>0.000000</td>\n",
              "      <td>0.230000</td>\n",
              "      <td>20.832487</td>\n",
              "      <td>0.000000</td>\n",
              "      <td>0.000000</td>\n",
              "      <td>0.000000</td>\n",
              "      <td>0.000000</td>\n",
              "    </tr>\n",
              "    <tr>\n",
              "      <th>25%</th>\n",
              "      <td>26.000000</td>\n",
              "      <td>2.211810e+04</td>\n",
              "      <td>3.000000</td>\n",
              "      <td>4.000000</td>\n",
              "      <td>6.000000</td>\n",
              "      <td>1.000000</td>\n",
              "      <td>8.000000</td>\n",
              "      <td>6.000000</td>\n",
              "      <td>4.550000</td>\n",
              "      <td>2.000000</td>\n",
              "      <td>388.920000</td>\n",
              "      <td>28.299138</td>\n",
              "      <td>16.414812</td>\n",
              "      <td>61.938256</td>\n",
              "      <td>293.841559</td>\n",
              "      <td>195.000000</td>\n",
              "    </tr>\n",
              "    <tr>\n",
              "      <th>50%</th>\n",
              "      <td>35.000000</td>\n",
              "      <td>3.699394e+04</td>\n",
              "      <td>4.000000</td>\n",
              "      <td>5.000000</td>\n",
              "      <td>9.000000</td>\n",
              "      <td>2.000000</td>\n",
              "      <td>13.000000</td>\n",
              "      <td>11.000000</td>\n",
              "      <td>8.370000</td>\n",
              "      <td>4.000000</td>\n",
              "      <td>780.210000</td>\n",
              "      <td>32.501616</td>\n",
              "      <td>46.162077</td>\n",
              "      <td>121.191802</td>\n",
              "      <td>369.698223</td>\n",
              "      <td>256.000000</td>\n",
              "    </tr>\n",
              "    <tr>\n",
              "      <th>75%</th>\n",
              "      <td>44.000000</td>\n",
              "      <td>7.452061e+04</td>\n",
              "      <td>6.000000</td>\n",
              "      <td>6.000000</td>\n",
              "      <td>14.000000</td>\n",
              "      <td>3.000000</td>\n",
              "      <td>22.000000</td>\n",
              "      <td>15.000000</td>\n",
              "      <td>11.620000</td>\n",
              "      <td>6.000000</td>\n",
              "      <td>1182.500000</td>\n",
              "      <td>36.731398</td>\n",
              "      <td>89.163419</td>\n",
              "      <td>225.891543</td>\n",
              "      <td>523.103061</td>\n",
              "      <td>329.000000</td>\n",
              "    </tr>\n",
              "    <tr>\n",
              "      <th>max</th>\n",
              "      <td>56.000000</td>\n",
              "      <td>2.419806e+07</td>\n",
              "      <td>10.000000</td>\n",
              "      <td>10.000000</td>\n",
              "      <td>34.000000</td>\n",
              "      <td>9.000000</td>\n",
              "      <td>60.000000</td>\n",
              "      <td>4397.000000</td>\n",
              "      <td>26.900000</td>\n",
              "      <td>12.000000</td>\n",
              "      <td>1499.920000</td>\n",
              "      <td>49.564519</td>\n",
              "      <td>199.904691</td>\n",
              "      <td>1903.080048</td>\n",
              "      <td>1602.040519</td>\n",
              "      <td>404.000000</td>\n",
              "    </tr>\n",
              "  </tbody>\n",
              "</table>\n",
              "</div>"
            ],
            "text/plain": [
              "                Age  Annual_Income  Num_Bank_Accounts  Num_Credit_Card  \\\n",
              "count  31711.000000   3.171100e+04       31711.000000     31711.000000   \n",
              "mean      35.135032   1.749045e+05           4.415818         4.801583   \n",
              "std       11.037186   1.415577e+06           2.305062         1.673844   \n",
              "min       14.000000   7.006520e+03           0.000000         0.000000   \n",
              "25%       26.000000   2.211810e+04           3.000000         4.000000   \n",
              "50%       35.000000   3.699394e+04           4.000000         5.000000   \n",
              "75%       44.000000   7.452061e+04           6.000000         6.000000   \n",
              "max       56.000000   2.419806e+07          10.000000        10.000000   \n",
              "\n",
              "       Interest_Rate   Num_of_Loan  Delay_from_due_date  \\\n",
              "count   31711.000000  31711.000000         31711.000000   \n",
              "mean       10.256504      2.234114            14.985967   \n",
              "std         5.916633      1.700965             9.353937   \n",
              "min         1.000000      0.000000             0.000000   \n",
              "25%         6.000000      1.000000             8.000000   \n",
              "50%         9.000000      2.000000            13.000000   \n",
              "75%        14.000000      3.000000            22.000000   \n",
              "max        34.000000      9.000000            60.000000   \n",
              "\n",
              "       Num_of_Delayed_Payment  Changed_Credit_Limit  Num_Credit_Inquiries  \\\n",
              "count            31711.000000          31711.000000          31711.000000   \n",
              "mean                26.493299              8.601820              3.903030   \n",
              "std                215.388313              5.119076              2.813889   \n",
              "min                  0.000000              0.000000              0.000000   \n",
              "25%                  6.000000              4.550000              2.000000   \n",
              "50%                 11.000000              8.370000              4.000000   \n",
              "75%                 15.000000             11.620000              6.000000   \n",
              "max               4397.000000             26.900000             12.000000   \n",
              "\n",
              "       Outstanding_Debt  Credit_Utilization_Ratio  Total_EMI_per_month  \\\n",
              "count      31711.000000              31711.000000         31711.000000   \n",
              "mean         776.983756                 32.522218            59.287714   \n",
              "std          443.968460                  5.135545            53.461204   \n",
              "min            0.230000                 20.832487             0.000000   \n",
              "25%          388.920000                 28.299138            16.414812   \n",
              "50%          780.210000                 32.501616            46.162077   \n",
              "75%         1182.500000                 36.731398            89.163419   \n",
              "max         1499.920000                 49.564519           199.904691   \n",
              "\n",
              "       Amount_invested_monthly  Monthly_Balance  Credit_History_Age_Months  \n",
              "count             31711.000000     31711.000000               31711.000000  \n",
              "mean                181.502288       439.647331                 243.861026  \n",
              "std                 196.253121       225.424866                 108.853693  \n",
              "min                   0.000000         0.000000                   0.000000  \n",
              "25%                  61.938256       293.841559                 195.000000  \n",
              "50%                 121.191802       369.698223                 256.000000  \n",
              "75%                 225.891543       523.103061                 329.000000  \n",
              "max                1903.080048      1602.040519                 404.000000  "
            ]
          },
          "execution_count": 9,
          "metadata": {},
          "output_type": "execute_result"
        }
      ],
      "source": [
        "df.describe()"
      ]
    },
    {
      "cell_type": "markdown",
      "metadata": {
        "id": "Xe9DCM8i2yZ4"
      },
      "source": [
        "----\n",
        "\n",
        "### **Let's Explore catagorical Columns**\n",
        "\n",
        "----"
      ]
    },
    {
      "cell_type": "code",
      "execution_count": 10,
      "metadata": {
        "colab": {
          "base_uri": "https://localhost:8080/"
        },
        "id": "BacHJSsiKnoy",
        "outputId": "1861b82f-2dae-4184-8d57-dc7f10b0a867"
      },
      "outputs": [
        {
          "data": {
            "text/plain": [
              "array(['Scientist', 'Teacher', 'Entrepreneur', 'Developer', 'Lawyer',\n",
              "       'Journalist', 'Engineer', 'Accountant', 'Musician', 'Architect',\n",
              "       'Writer', 'Manager', 'Media_Manager', 'Doctor', 'Mechanic'],\n",
              "      dtype=object)"
            ]
          },
          "execution_count": 10,
          "metadata": {},
          "output_type": "execute_result"
        }
      ],
      "source": [
        "df['Occupation'].unique()"
      ]
    },
    {
      "cell_type": "markdown",
      "metadata": {
        "id": "vnv1FlyP3EHp"
      },
      "source": [
        "----\n",
        "\n",
        "### **Plot occupation using pie chart**\n",
        "\n",
        "----"
      ]
    },
    {
      "cell_type": "code",
      "execution_count": 11,
      "metadata": {
        "colab": {
          "base_uri": "https://localhost:8080/",
          "height": 675
        },
        "id": "tIm2_fvZOLuI",
        "outputId": "f3189d24-9987-4bfc-c705-0fab886e611d"
      },
      "outputs": [
        {
          "data": {
            "image/png": "[encoded data removed]",
            "text/plain": [
              "<Figure size 800x800 with 1 Axes>"
            ]
          },
          "metadata": {},
          "output_type": "display_data"
        }
      ],
      "source": [
        "# Plot occupation using pie chart\n",
        "occupation_counts = df['Occupation'].value_counts()\n",
        "plt.figure(figsize=(8, 8))\n",
        "plt.pie(occupation_counts, labels=occupation_counts.index, autopct='%1.1f%%', startangle=90)\n",
        "plt.title('Distribution of Occupations')\n",
        "plt.show()\n"
      ]
    },
    {
      "cell_type": "code",
      "execution_count": 12,
      "metadata": {
        "colab": {
          "base_uri": "https://localhost:8080/"
        },
        "id": "9_2YUTPPOkko",
        "outputId": "8e842e17-d740-4a0b-8c5b-0dc3e8903979"
      },
      "outputs": [
        {
          "data": {
            "text/plain": [
              "array(['Good', 'Standard', 'Bad'], dtype=object)"
            ]
          },
          "execution_count": 12,
          "metadata": {},
          "output_type": "execute_result"
        }
      ],
      "source": [
        "# 'Credit_Mix'\n",
        "\n",
        "df['Credit_Mix'].unique()"
      ]
    },
    {
      "cell_type": "code",
      "execution_count": 13,
      "metadata": {
        "colab": {
          "base_uri": "https://localhost:8080/"
        },
        "id": "XsW05lWUOr1Z",
        "outputId": "1f513106-eac0-45da-86d3-828cef98579e"
      },
      "outputs": [
        {
          "data": {
            "text/plain": [
              "array(['No', 'NM', 'Yes'], dtype=object)"
            ]
          },
          "execution_count": 13,
          "metadata": {},
          "output_type": "execute_result"
        }
      ],
      "source": [
        "# Payment_of_Min_Amount\n",
        "\n",
        "df['Payment_of_Min_Amount'].unique()"
      ]
    },
    {
      "cell_type": "code",
      "execution_count": 14,
      "metadata": {
        "colab": {
          "base_uri": "https://localhost:8080/"
        },
        "id": "EY-_T181O0EB",
        "outputId": "8f121826-0aa0-4835-d1d9-325a372b441c"
      },
      "outputs": [
        {
          "data": {
            "text/plain": [
              "array(['Low_spent_Small_value_payments',\n",
              "       'High_spent_Medium_value_payments',\n",
              "       'High_spent_Large_value_payments',\n",
              "       'Low_spent_Medium_value_payments',\n",
              "       'Low_spent_Large_value_payments',\n",
              "       'High_spent_Small_value_payments'], dtype=object)"
            ]
          },
          "execution_count": 14,
          "metadata": {},
          "output_type": "execute_result"
        }
      ],
      "source": [
        "# Payment_Behaviour\n",
        "\n",
        "df['Payment_Behaviour'].unique()"
      ]
    },
    {
      "cell_type": "code",
      "execution_count": 15,
      "metadata": {
        "colab": {
          "base_uri": "https://localhost:8080/"
        },
        "id": "OJk5vLgkO6VN",
        "outputId": "b5920f91-06ba-430f-d6fb-111bfcd6c8d5"
      },
      "outputs": [
        {
          "data": {
            "text/plain": [
              "array(['Good', 'Standard', 'Poor'], dtype=object)"
            ]
          },
          "execution_count": 15,
          "metadata": {},
          "output_type": "execute_result"
        }
      ],
      "source": [
        "# Credit_Score\n",
        "\n",
        "df['Credit_Score'].unique()"
      ]
    },
    {
      "cell_type": "code",
      "execution_count": 16,
      "metadata": {
        "colab": {
          "base_uri": "https://localhost:8080/",
          "height": 209
        },
        "id": "D32h64NuQZXx",
        "outputId": "0df034bb-b598-4ab8-8346-f4344c78c847"
      },
      "outputs": [
        {
          "data": {
            "text/plain": [
              "Credit_Score\n",
              "Standard    19730\n",
              "Good         7551\n",
              "Poor         4430\n",
              "Name: count, dtype: int64"
            ]
          },
          "execution_count": 16,
          "metadata": {},
          "output_type": "execute_result"
        }
      ],
      "source": [
        "df['Credit_Score'].value_counts()"
      ]
    },
    {
      "cell_type": "markdown",
      "metadata": {
        "id": "eYPYUeRX3pm1"
      },
      "source": [
        "----\n",
        "\n",
        "### **Feature Engineering**\n",
        "\n",
        "----"
      ]
    },
    {
      "cell_type": "code",
      "execution_count": 17,
      "metadata": {
        "colab": {
          "base_uri": "https://localhost:8080/"
        },
        "id": "NrohwKnEp1yV",
        "outputId": "0b710b5d-80ce-404f-a928-48b4526bf237"
      },
      "outputs": [
        {
          "name": "stdout",
          "output_type": "stream",
          "text": [
            "Credit_Score\n",
            "1    27281\n",
            "0     4430\n",
            "Name: count, dtype: int64\n"
          ]
        }
      ],
      "source": [
        "# prompt: i want to make a binary classification as this is my target column\n",
        "\n",
        "# Create a new column 'Credit_Score' with 1 for 'Good' and 'Standard' and 0 for 'Poor'\n",
        "df['Credit_Score'] = df['Credit_Score'].apply(lambda x: 1 if x in ['Good', 'Standard'] else 0)\n",
        "\n",
        "# Now you have a binary classification target variable\n",
        "print(df['Credit_Score'].value_counts())\n"
      ]
    },
    {
      "cell_type": "code",
      "execution_count": 18,
      "metadata": {
        "colab": {
          "base_uri": "https://localhost:8080/",
          "height": 255
        },
        "id": "yZZOjIRcRWQ6",
        "outputId": "3bee6037-29b2-4d66-b2b8-8ecec2358aea"
      },
      "outputs": [
        {
          "data": {
            "text/html": [
              "<div>\n",
              "<style scoped>\n",
              "    .dataframe tbody tr th:only-of-type {\n",
              "        vertical-align: middle;\n",
              "    }\n",
              "\n",
              "    .dataframe tbody tr th {\n",
              "        vertical-align: top;\n",
              "    }\n",
              "\n",
              "    .dataframe thead th {\n",
              "        text-align: right;\n",
              "    }\n",
              "</style>\n",
              "<table border=\"1\" class=\"dataframe\">\n",
              "  <thead>\n",
              "    <tr style=\"text-align: right;\">\n",
              "      <th></th>\n",
              "      <th>Age</th>\n",
              "      <th>Occupation</th>\n",
              "      <th>Annual_Income</th>\n",
              "      <th>Num_Bank_Accounts</th>\n",
              "      <th>Num_Credit_Card</th>\n",
              "      <th>Interest_Rate</th>\n",
              "      <th>Num_of_Loan</th>\n",
              "      <th>Delay_from_due_date</th>\n",
              "      <th>Num_of_Delayed_Payment</th>\n",
              "      <th>Changed_Credit_Limit</th>\n",
              "      <th>...</th>\n",
              "      <th>Credit_Mix</th>\n",
              "      <th>Outstanding_Debt</th>\n",
              "      <th>Credit_Utilization_Ratio</th>\n",
              "      <th>Payment_of_Min_Amount</th>\n",
              "      <th>Total_EMI_per_month</th>\n",
              "      <th>Amount_invested_monthly</th>\n",
              "      <th>Payment_Behaviour</th>\n",
              "      <th>Monthly_Balance</th>\n",
              "      <th>Credit_Score</th>\n",
              "      <th>Credit_History_Age_Months</th>\n",
              "    </tr>\n",
              "  </thead>\n",
              "  <tbody>\n",
              "    <tr>\n",
              "      <th>6148</th>\n",
              "      <td>28</td>\n",
              "      <td>Doctor</td>\n",
              "      <td>13913.795</td>\n",
              "      <td>7</td>\n",
              "      <td>4</td>\n",
              "      <td>11</td>\n",
              "      <td>3</td>\n",
              "      <td>25</td>\n",
              "      <td>15</td>\n",
              "      <td>0.00</td>\n",
              "      <td>...</td>\n",
              "      <td>Standard</td>\n",
              "      <td>1470.31</td>\n",
              "      <td>37.080114</td>\n",
              "      <td>Yes</td>\n",
              "      <td>24.636451</td>\n",
              "      <td>57.069533</td>\n",
              "      <td>Low_spent_Large_value_payments</td>\n",
              "      <td>303.942308</td>\n",
              "      <td>1</td>\n",
              "      <td>206</td>\n",
              "    </tr>\n",
              "    <tr>\n",
              "      <th>3949</th>\n",
              "      <td>29</td>\n",
              "      <td>Writer</td>\n",
              "      <td>20000.410</td>\n",
              "      <td>2</td>\n",
              "      <td>5</td>\n",
              "      <td>5</td>\n",
              "      <td>1</td>\n",
              "      <td>12</td>\n",
              "      <td>2</td>\n",
              "      <td>1.48</td>\n",
              "      <td>...</td>\n",
              "      <td>Good</td>\n",
              "      <td>446.57</td>\n",
              "      <td>35.765910</td>\n",
              "      <td>No</td>\n",
              "      <td>10.975637</td>\n",
              "      <td>72.383708</td>\n",
              "      <td>Low_spent_Large_value_payments</td>\n",
              "      <td>376.110739</td>\n",
              "      <td>0</td>\n",
              "      <td>330</td>\n",
              "    </tr>\n",
              "    <tr>\n",
              "      <th>13803</th>\n",
              "      <td>43</td>\n",
              "      <td>Doctor</td>\n",
              "      <td>56366.580</td>\n",
              "      <td>5</td>\n",
              "      <td>3</td>\n",
              "      <td>20</td>\n",
              "      <td>2</td>\n",
              "      <td>11</td>\n",
              "      <td>17</td>\n",
              "      <td>19.93</td>\n",
              "      <td>...</td>\n",
              "      <td>Standard</td>\n",
              "      <td>327.80</td>\n",
              "      <td>26.500781</td>\n",
              "      <td>Yes</td>\n",
              "      <td>65.360058</td>\n",
              "      <td>232.099787</td>\n",
              "      <td>Low_spent_Medium_value_payments</td>\n",
              "      <td>472.261656</td>\n",
              "      <td>1</td>\n",
              "      <td>281</td>\n",
              "    </tr>\n",
              "    <tr>\n",
              "      <th>6828</th>\n",
              "      <td>16</td>\n",
              "      <td>Writer</td>\n",
              "      <td>19980.360</td>\n",
              "      <td>4</td>\n",
              "      <td>3</td>\n",
              "      <td>6</td>\n",
              "      <td>3</td>\n",
              "      <td>30</td>\n",
              "      <td>0</td>\n",
              "      <td>19.44</td>\n",
              "      <td>...</td>\n",
              "      <td>Standard</td>\n",
              "      <td>1477.83</td>\n",
              "      <td>27.910168</td>\n",
              "      <td>Yes</td>\n",
              "      <td>25.805439</td>\n",
              "      <td>184.117462</td>\n",
              "      <td>Low_spent_Small_value_payments</td>\n",
              "      <td>230.680099</td>\n",
              "      <td>1</td>\n",
              "      <td>262</td>\n",
              "    </tr>\n",
              "    <tr>\n",
              "      <th>31020</th>\n",
              "      <td>15</td>\n",
              "      <td>Accountant</td>\n",
              "      <td>31767.330</td>\n",
              "      <td>5</td>\n",
              "      <td>3</td>\n",
              "      <td>19</td>\n",
              "      <td>0</td>\n",
              "      <td>21</td>\n",
              "      <td>18</td>\n",
              "      <td>13.84</td>\n",
              "      <td>...</td>\n",
              "      <td>Standard</td>\n",
              "      <td>969.19</td>\n",
              "      <td>30.540187</td>\n",
              "      <td>Yes</td>\n",
              "      <td>0.000000</td>\n",
              "      <td>30.029575</td>\n",
              "      <td>High_spent_Medium_value_payments</td>\n",
              "      <td>490.898175</td>\n",
              "      <td>1</td>\n",
              "      <td>393</td>\n",
              "    </tr>\n",
              "  </tbody>\n",
              "</table>\n",
              "<p>5 rows × 21 columns</p>\n",
              "</div>"
            ],
            "text/plain": [
              "       Age  Occupation  Annual_Income  Num_Bank_Accounts  Num_Credit_Card  \\\n",
              "6148    28      Doctor      13913.795                  7                4   \n",
              "3949    29      Writer      20000.410                  2                5   \n",
              "13803   43      Doctor      56366.580                  5                3   \n",
              "6828    16      Writer      19980.360                  4                3   \n",
              "31020   15  Accountant      31767.330                  5                3   \n",
              "\n",
              "       Interest_Rate  Num_of_Loan  Delay_from_due_date  \\\n",
              "6148              11            3                   25   \n",
              "3949               5            1                   12   \n",
              "13803             20            2                   11   \n",
              "6828               6            3                   30   \n",
              "31020             19            0                   21   \n",
              "\n",
              "       Num_of_Delayed_Payment  Changed_Credit_Limit  ...  Credit_Mix  \\\n",
              "6148                       15                  0.00  ...    Standard   \n",
              "3949                        2                  1.48  ...        Good   \n",
              "13803                      17                 19.93  ...    Standard   \n",
              "6828                        0                 19.44  ...    Standard   \n",
              "31020                      18                 13.84  ...    Standard   \n",
              "\n",
              "      Outstanding_Debt  Credit_Utilization_Ratio  Payment_of_Min_Amount  \\\n",
              "6148           1470.31                 37.080114                    Yes   \n",
              "3949            446.57                 35.765910                     No   \n",
              "13803           327.80                 26.500781                    Yes   \n",
              "6828           1477.83                 27.910168                    Yes   \n",
              "31020           969.19                 30.540187                    Yes   \n",
              "\n",
              "      Total_EMI_per_month  Amount_invested_monthly  \\\n",
              "6148            24.636451                57.069533   \n",
              "3949            10.975637                72.383708   \n",
              "13803           65.360058               232.099787   \n",
              "6828            25.805439               184.117462   \n",
              "31020            0.000000                30.029575   \n",
              "\n",
              "                      Payment_Behaviour Monthly_Balance  Credit_Score  \\\n",
              "6148     Low_spent_Large_value_payments      303.942308             1   \n",
              "3949     Low_spent_Large_value_payments      376.110739             0   \n",
              "13803   Low_spent_Medium_value_payments      472.261656             1   \n",
              "6828     Low_spent_Small_value_payments      230.680099             1   \n",
              "31020  High_spent_Medium_value_payments      490.898175             1   \n",
              "\n",
              "       Credit_History_Age_Months  \n",
              "6148                         206  \n",
              "3949                         330  \n",
              "13803                        281  \n",
              "6828                         262  \n",
              "31020                        393  \n",
              "\n",
              "[5 rows x 21 columns]"
            ]
          },
          "execution_count": 18,
          "metadata": {},
          "output_type": "execute_result"
        }
      ],
      "source": [
        "df.sample(5)"
      ]
    },
    {
      "cell_type": "markdown",
      "metadata": {
        "id": "9hVotnXQ3vg9"
      },
      "source": [
        "----\n",
        "\n",
        "### **Statistical Test**\n",
        "\n",
        "----"
      ]
    },
    {
      "cell_type": "code",
      "execution_count": 19,
      "metadata": {
        "id": "4oEYZD9GRXGr"
      },
      "outputs": [],
      "source": [
        "# Chi-Squared Test\n",
        "\n",
        "categorical_cols = ['Occupation', 'Credit_Mix', 'Payment_of_Min_Amount', 'Payment_Behaviour', 'Credit_Score']"
      ]
    },
    {
      "cell_type": "code",
      "execution_count": 20,
      "metadata": {
        "id": "UGtjp9-1S9bH"
      },
      "outputs": [],
      "source": [
        "# Label encode each categorical column\n",
        "label_enc = LabelEncoder()\n",
        "for col in categorical_cols:\n",
        "    df[col] = label_enc.fit_transform(df[col])"
      ]
    },
    {
      "cell_type": "code",
      "execution_count": 21,
      "metadata": {
        "id": "d7ogh2lGS_2M"
      },
      "outputs": [],
      "source": [
        "# Define X1 (independent variables) and y1 (target)\n",
        "X1 = df[['Occupation', 'Credit_Mix', 'Payment_of_Min_Amount', 'Payment_Behaviour']]\n",
        "y1 = df['Credit_Score']"
      ]
    },
    {
      "cell_type": "code",
      "execution_count": 22,
      "metadata": {
        "colab": {
          "base_uri": "https://localhost:8080/"
        },
        "id": "GQhY95zGTQwC",
        "outputId": "8d489152-3387-4727-9653-ca28824a37b2"
      },
      "outputs": [
        {
          "name": "stdout",
          "output_type": "stream",
          "text": [
            "                 Feature       Score\n",
            "1             Credit_Mix  288.745515\n",
            "3      Payment_Behaviour  127.452384\n",
            "0             Occupation    4.753546\n",
            "2  Payment_of_Min_Amount    0.001643\n"
          ]
        }
      ],
      "source": [
        "# Perform Chi-Square test\n",
        "chi_scores = chi2(X1, y1)\n",
        "chi2_scores = pd.DataFrame({\"Feature\": X1.columns, \"Score\": chi_scores[0]})\n",
        "print(chi2_scores.sort_values(by=\"Score\", ascending=False))"
      ]
    },
    {
      "cell_type": "code",
      "execution_count": 23,
      "metadata": {
        "id": "Z52uv00FT2hq"
      },
      "outputs": [],
      "source": [
        "# Defining the target column\n",
        "y_for_f_test = df['Credit_Score']"
      ]
    },
    {
      "cell_type": "code",
      "execution_count": 24,
      "metadata": {
        "id": "e4LI2gnOUQdq"
      },
      "outputs": [
        {
          "ename": "NameError",
          "evalue": "name 'X_num_for_f_test' is not defined",
          "output_type": "error",
          "traceback": [
            "\u001b[1;31m---------------------------------------------------------------------------\u001b[0m",
            "\u001b[1;31mNameError\u001b[0m                                 Traceback (most recent call last)",
            "Cell \u001b[1;32mIn[24], line 2\u001b[0m\n\u001b[0;32m      1\u001b[0m \u001b[38;5;66;03m# Performing the ANOVA F-test\u001b[39;00m\n\u001b[1;32m----> 2\u001b[0m f_scores, p_values \u001b[38;5;241m=\u001b[39m f_classif(\u001b[43mX_num_for_f_test\u001b[49m, y_for_f_test)\n",
            "\u001b[1;31mNameError\u001b[0m: name 'X_num_for_f_test' is not defined"
          ]
        }
      ],
      "source": [
        "# Performing the ANOVA F-test\n",
        "f_scores, p_values = f_classif(X_num_for_f_test, y_for_f_test)"
      ]
    },
    {
      "cell_type": "code",
      "execution_count": null,
      "metadata": {
        "id": "0Erw7_noUSNC"
      },
      "outputs": [],
      "source": [
        "# Creating a DataFrame to store F-scores\n",
        "f_scores_df = pd.DataFrame({'Feature': X_num_for_f_test.columns, 'F-Score': f_scores})"
      ]
    },
    {
      "cell_type": "code",
      "execution_count": null,
      "metadata": {
        "colab": {
          "base_uri": "https://localhost:8080/"
        },
        "id": "WgFOxeSeUUDT",
        "outputId": "f2ceed6a-9c79-4916-dc9c-0bad663c3a44"
      },
      "outputs": [
        {
          "name": "stdout",
          "output_type": "stream",
          "text": [
            "                      Feature      F-Score\n",
            "6         Delay_from_due_date  1290.385124\n",
            "3             Num_Credit_Card  1030.110256\n",
            "9        Num_Credit_Inquiries   585.906436\n",
            "4               Interest_Rate   453.047239\n",
            "10           Outstanding_Debt   451.549924\n",
            "5                 Num_of_Loan   274.356620\n",
            "15  Credit_History_Age_Months    92.515418\n",
            "12        Total_EMI_per_month    28.425328\n",
            "8        Changed_Credit_Limit    27.130593\n",
            "13    Amount_invested_monthly    20.350875\n",
            "0                         Age    11.370137\n",
            "2           Num_Bank_Accounts     6.047901\n",
            "11   Credit_Utilization_Ratio     2.873588\n",
            "7      Num_of_Delayed_Payment     2.290066\n",
            "1               Annual_Income     0.064910\n",
            "14            Monthly_Balance     0.030461\n"
          ]
        }
      ],
      "source": [
        "# Sorting and displaying the F-scores\n",
        "print(f_scores_df.sort_values(by='F-Score', ascending=False))"
      ]
    },
    {
      "cell_type": "code",
      "execution_count": null,
      "metadata": {
        "id": "sPZ5FmFnUVq2"
      },
      "outputs": [],
      "source": [
        "# List of selected features (from the above chi-squared and F-test results)\n",
        "selected_features = [\n",
        "    'Credit_Mix', 'Payment_of_Min_Amount', 'Payment_Behaviour',\n",
        "    'Delay_from_due_date', 'Interest_Rate', 'Num_Credit_Card',\n",
        "    'Num_Bank_Accounts', 'Changed_Credit_Limit', 'Num_Credit_Inquiries',\n",
        "    'Num_of_Loan', 'Outstanding_Debt', 'Occupation'\n",
        "]"
      ]
    },
    {
      "cell_type": "markdown",
      "metadata": {
        "id": "Imgl8_l2317D"
      },
      "source": [
        "----\n",
        "\n",
        "### **Model Training**\n",
        "\n",
        "----"
      ]
    },
    {
      "cell_type": "code",
      "execution_count": null,
      "metadata": {
        "id": "2h2weo53Wl66"
      },
      "outputs": [],
      "source": [
        "# Define X (independent variables) and y (target variable)\n",
        "X = df[selected_features]\n",
        "y = df['Credit_Score']  # Assuming 'loan_eligibility' is the target"
      ]
    },
    {
      "cell_type": "code",
      "execution_count": null,
      "metadata": {
        "id": "Byi80S9yXUCq"
      },
      "outputs": [],
      "source": [
        "# Split the data into training and testing sets (80% train, 20% test)\n",
        "X_train, X_test, y_train, y_test = train_test_split(X, y, test_size=0.2, random_state=42)"
      ]
    },
    {
      "cell_type": "code",
      "execution_count": null,
      "metadata": {
        "id": "xCba1OYhXUjO"
      },
      "outputs": [],
      "source": [
        "# Scale the features\n",
        "scaler = StandardScaler()\n",
        "X_train_scaled = scaler.fit_transform(X_train)\n",
        "X_test_scaled = scaler.transform(X_test)"
      ]
    },
    {
      "cell_type": "code",
      "execution_count": null,
      "metadata": {
        "colab": {
          "base_uri": "https://localhost:8080/"
        },
        "id": "VLy7uvRHXW6C",
        "outputId": "647c3305-4579-4cd1-9237-b4d13d3cb0f1"
      },
      "outputs": [
        {
          "name": "stdout",
          "output_type": "stream",
          "text": [
            "Model: Random Forest\n",
            "Cross-validation Accuracy: 0.9124490518834942\n",
            "Test Accuracy: 0.9132902412107835\n",
            "\n",
            "Model: Gradient Boosting\n",
            "Cross-validation Accuracy: 0.8893094676609946\n",
            "Test Accuracy: 0.8948447107047138\n",
            "\n",
            "Model: Support Vector Machine\n",
            "Cross-validation Accuracy: 0.8595474693829569\n",
            "Test Accuracy: 0.8918492826738137\n",
            "\n",
            "Model: Logistic Regression\n",
            "Cross-validation Accuracy: 0.8729108581909483\n",
            "Test Accuracy: 0.8795522623364339\n",
            "\n",
            "Model: K-Nearest Neighbors\n",
            "Cross-validation Accuracy: 0.8879298621676538\n",
            "Test Accuracy: 0.8909033580324768\n",
            "\n",
            "Model: Decision Tree\n",
            "Cross-validation Accuracy: 0.8696783601126354\n",
            "Test Accuracy: 0.8749802932366388\n",
            "\n",
            "Model: Ada Boost\n",
            "Cross-validation Accuracy: 0.8789814393730137\n",
            "Test Accuracy: 0.8847548478637869\n",
            "\n",
            "Model: XG Boost\n",
            "Cross-validation Accuracy: 0.9020421825579881\n",
            "Test Accuracy: 0.9052498817594198\n",
            "\n",
            "Model: Naive Bayes\n",
            "Cross-validation Accuracy: 0.8749211686748326\n",
            "Test Accuracy: 0.8781333753744285\n",
            "\n",
            "Best Model: Pipeline(steps=[('model', RandomForestClassifier(random_state=42))])\n"
          ]
        }
      ],
      "source": [
        "# Create a list of models to evaluate\n",
        "models = [\n",
        "    ('Random Forest', RandomForestClassifier(random_state=42)),\n",
        "    ('Gradient Boosting', GradientBoostingClassifier(random_state=42)),\n",
        "    ('Support Vector Machine', SVC(random_state=42)),\n",
        "    ('Logistic Regression', LogisticRegression(random_state=42)),\n",
        "    ('K-Nearest Neighbors', KNeighborsClassifier()),\n",
        "    ('Decision Tree', DecisionTreeClassifier(random_state=42)),\n",
        "    ('Ada Boost', AdaBoostClassifier(random_state=42)),\n",
        "    ('XG Boost', XGBClassifier(random_state=42)),\n",
        "    ('Naive Bayes', GaussianNB())\n",
        "]\n",
        "\n",
        "best_model = None\n",
        "best_accuracy = 0.0\n",
        "\n",
        "# Iterate over the models and evaluate their performance\n",
        "for name, model in models:\n",
        "    # Create a pipeline for each model\n",
        "    pipeline = Pipeline([\n",
        "        # ('imputer', SimpleImputer(strategy='most_frequent')),\n",
        "        # ('encoder', OneHotEncoder(handle_unknown='ignore')),\n",
        "        ('model', model)\n",
        "    ])\n",
        "\n",
        "    # Perform cross-validation\n",
        "    scores = cross_val_score(pipeline, X_train, y_train, cv=5)\n",
        "\n",
        "    # Calculate mean accuracy\n",
        "    mean_accuracy = scores.mean()\n",
        "\n",
        "    # Fit the pipeline on the training data\n",
        "    pipeline.fit(X_train_scaled, y_train)\n",
        "\n",
        "    # Make predictions on the test data\n",
        "    y_pred = pipeline.predict(X_test_scaled)\n",
        "\n",
        "    # Calculate accuracy score\n",
        "    accuracy = accuracy_score(y_test, y_pred)\n",
        "\n",
        "    # Print the performance metrics\n",
        "    print(\"Model:\", name)\n",
        "    print(\"Cross-validation Accuracy:\", mean_accuracy)\n",
        "    print(\"Test Accuracy:\", accuracy)\n",
        "    print()\n",
        "\n",
        "    # Check if the current model has the best accuracy\n",
        "    if accuracy > best_accuracy:\n",
        "        best_accuracy = accuracy\n",
        "        best_model = pipeline\n",
        "\n",
        "# Retrieve the best model\n",
        "print(\"Best Model:\", best_model)"
      ]
    },
    {
      "cell_type": "markdown",
      "metadata": {
        "id": "_USNMTFc4Lge"
      },
      "source": [
        "----\n",
        "\n",
        "### **Model Evaluation**\n",
        "\n",
        "----"
      ]
    },
    {
      "cell_type": "code",
      "execution_count": null,
      "metadata": {
        "colab": {
          "base_uri": "https://localhost:8080/",
          "height": 564
        },
        "id": "x3470w5ObwGz",
        "outputId": "cc4df1e6-b0cc-4f07-a065-8a6ce4c618f0"
      },
      "outputs": [
        {
          "data": {
            "image/png": "[encoded data removed]",
            "text/plain": [
              "<Figure size 800x600 with 2 Axes>"
            ]
          },
          "metadata": {},
          "output_type": "display_data"
        }
      ],
      "source": [
        "# prompt: draw a confusion matrix of my models results\n",
        "\n",
        "from sklearn.metrics import confusion_matrix\n",
        "import seaborn as sns\n",
        "import matplotlib.pyplot as plt\n",
        "\n",
        "# Assuming 'y_pred' contains the predictions from your best model\n",
        "cm = confusion_matrix(y_test, y_pred)\n",
        "\n",
        "# Plot the confusion matrix\n",
        "plt.figure(figsize=(8, 6))\n",
        "sns.heatmap(cm, annot=True, fmt='d', cmap='Blues',\n",
        "            xticklabels=['Not Eligible', 'Eligible'],\n",
        "            yticklabels=['Not Eligible', 'Eligible'])\n",
        "plt.title('Confusion Matrix')\n",
        "plt.xlabel('Predicted Label')\n",
        "plt.ylabel('True Label')\n",
        "plt.show()\n"
      ]
    },
    {
      "cell_type": "markdown",
      "metadata": {
        "id": "02E5vBjz4Hd3"
      },
      "source": [
        "----\n",
        "\n",
        "### **Saving Best Model**\n",
        "\n",
        "----"
      ]
    },
    {
      "cell_type": "code",
      "execution_count": null,
      "metadata": {
        "id": "Ix7KWPK7Xc9X"
      },
      "outputs": [],
      "source": [
        "import pickle\n",
        "pickle.dump(best_model, open('01_credit_scoring_model.pkl', 'wb'))"
      ]
    },
    {
      "cell_type": "markdown",
      "metadata": {
        "id": "KUNw9eXn4BaN"
      },
      "source": [
        "----\n",
        "\n",
        "### **Making Prediction With Saved Model**\n",
        "\n",
        "----"
      ]
    },
    {
      "cell_type": "code",
      "execution_count": null,
      "metadata": {
        "colab": {
          "base_uri": "https://localhost:8080/"
        },
        "id": "ZLVk6kbPtEmF",
        "outputId": "24addf84-9ca9-419b-998e-70ee793d5c4c"
      },
      "outputs": [
        {
          "name": "stdout",
          "output_type": "stream",
          "text": [
            "User should not be given a loan.\n"
          ]
        }
      ],
      "source": [
        "# Sample data for prediction where the model predicts the user should be given a loan\n",
        "sample_data = pd.DataFrame({\n",
        "    'Credit_Mix': [2],\n",
        "    'Payment_of_Min_Amount': [1],\n",
        "    'Payment_Behaviour': [0],\n",
        "    'Delay_from_due_date': [10],\n",
        "    'Interest_Rate': [10.5],\n",
        "    'Num_Credit_Card': [3],\n",
        "    'Num_Bank_Accounts': [5],\n",
        "    'Changed_Credit_Limit': [1],\n",
        "    'Num_Credit_Inquiries': [2],\n",
        "    'Num_of_Loan': [2],\n",
        "    'Outstanding_Debt': [5000],\n",
        "    'Occupation': [2]\n",
        "})\n",
        "\n",
        "# Make prediction\n",
        "prediction = loaded_model.predict(sample_data)\n",
        "\n",
        "if prediction[0] == 1:\n",
        "  print(\"User should be given a loan.\")\n",
        "else:\n",
        "  print(\"User should not be given a loan.\")\n"
      ]
    },
    {
      "cell_type": "code",
      "execution_count": null,
      "metadata": {
        "id": "s-3hyeq0xyom"
      },
      "outputs": [],
      "source": []
    }
  ],
  "metadata": {
    "colab": {
      "provenance": []
    },
    "kernelspec": {
      "display_name": ".conda",
      "language": "python",
      "name": "python3"
    },
    "language_info": {
      "codemirror_mode": {
        "name": "ipython",
        "version": 3
      },
      "file_extension": ".py",
      "mimetype": "text/x-python",
      "name": "python",
      "nbconvert_exporter": "python",
      "pygments_lexer": "ipython3",
      "version": "3.10.18"
    }
  },
  "nbformat": 4,
  "nbformat_minor": 0
}
