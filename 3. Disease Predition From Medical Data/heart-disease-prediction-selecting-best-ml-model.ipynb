{
 "cells": [
  {
   "cell_type": "markdown",
   "id": "1c69f0cf",
   "metadata": {
    "id": "nTeHylmFq1I3",
    "papermill": {
     "duration": 0.04,
     "end_time": "2024-05-18T13:04:27.391995",
     "exception": false,
     "start_time": "2024-05-18T13:04:27.351995",
     "status": "completed"
    },
    "tags": []
   },
   "source": [
    "# **<font color='blue'>Import Libraries</font>**\n",
    "\n",
    "Let's start this dataset by importing all necessary libraries that we will need."
   ]
  },
  {
   "cell_type": "code",
   "execution_count": 287,
   "id": "44878d62",
   "metadata": {
    "execution": {
     "iopub.execute_input": "2024-05-18T13:04:27.474643Z",
     "iopub.status.busy": "2024-05-18T13:04:27.473423Z",
     "iopub.status.idle": "2024-05-18T13:04:31.602287Z",
     "shell.execute_reply": "2024-05-18T13:04:31.601029Z"
    },
    "id": "Z68e_rmhd0d-",
    "papermill": {
     "duration": 4.173819,
     "end_time": "2024-05-18T13:04:31.605812",
     "exception": false,
     "start_time": "2024-05-18T13:04:27.431993",
     "status": "completed"
    },
    "tags": []
   },
   "outputs": [],
   "source": [
    "# importing libraries\n",
    "\n",
    "# for data analysis\n",
    "import pandas as pd\n",
    "import numpy as np\n",
    "\n",
    "# for data visualization\n",
    "import matplotlib.pyplot as plt\n",
    "import seaborn as sns\n",
    "import plotly.express as px\n",
    "\n",
    "# for data preprocessing\n",
    "from sklearn.preprocessing import LabelEncoder,StandardScaler,MinMaxScaler,OneHotEncoder\n",
    "\n",
    "# for imputing missing values\n",
    "from sklearn.impute import SimpleImputer,KNNImputer\n",
    "\n",
    "# import iterative imputer\n",
    "from sklearn.experimental import enable_iterative_imputer\n",
    "from sklearn.impute import IterativeImputer\n",
    "\n",
    "# for machine learning\n",
    "from sklearn.model_selection import train_test_split,GridSearchCV,cross_val_score,RandomizedSearchCV\n",
    "\n",
    "# Given that we anticipate solving our dependent feature through classification, we will proceed to import libraries tailored for classification tasks.\n",
    "from sklearn.linear_model import LinearRegression\n",
    "from sklearn.neighbors import KNeighborsClassifier\n",
    "from sklearn.tree import DecisionTreeClassifier\n",
    "from sklearn.svm import SVC\n",
    "from sklearn.ensemble import RandomForestClassifier,RandomForestRegressor ,AdaBoostClassifier ,GradientBoostingClassifier\n",
    "from xgboost import XGBClassifier\n",
    "\n",
    "# for classification evaluation metrices\n",
    "from sklearn.metrics import accuracy_score,classification_report,confusion_matrix,mean_absolute_error,precision_score,mean_squared_error,r2_score\n",
    "\n",
    "# to perform statistical test\n",
    "from sklearn.feature_selection import chi2 # for categorical fetures\n",
    "from sklearn.feature_selection import f_classif # for numerical features (Anova f-test)\n",
    "\n",
    "# for ignoring warnings\n",
    "import warnings\n",
    "warnings.filterwarnings('ignore')"
   ]
  },
  {
   "cell_type": "markdown",
   "id": "9c4b2d83",
   "metadata": {
    "id": "RBF0IJCEwATN",
    "papermill": {
     "duration": 0.039693,
     "end_time": "2024-05-18T13:04:31.689113",
     "exception": false,
     "start_time": "2024-05-18T13:04:31.649420",
     "status": "completed"
    },
    "tags": []
   },
   "source": [
    "# **<font color='blue'>Load the dataset</font>**\n",
    "- Let's Load and Explore thhe dataset."
   ]
  },
  {
   "cell_type": "code",
   "execution_count": 288,
   "id": "cf6b6761",
   "metadata": {
    "execution": {
     "iopub.execute_input": "2024-05-18T13:04:31.773428Z",
     "iopub.status.busy": "2024-05-18T13:04:31.772000Z",
     "iopub.status.idle": "2024-05-18T13:04:31.837037Z",
     "shell.execute_reply": "2024-05-18T13:04:31.836149Z"
    },
    "id": "dMlzYd52wR3B",
    "outputId": "2340e984-dfc9-48bf-93e7-ea5ba700cdbc",
    "papermill": {
     "duration": 0.110428,
     "end_time": "2024-05-18T13:04:31.840186",
     "exception": false,
     "start_time": "2024-05-18T13:04:31.729758",
     "status": "completed"
    },
    "tags": []
   },
   "outputs": [
    {
     "data": {
      "text/html": [
       "<div>\n",
       "<style scoped>\n",
       "    .dataframe tbody tr th:only-of-type {\n",
       "        vertical-align: middle;\n",
       "    }\n",
       "\n",
       "    .dataframe tbody tr th {\n",
       "        vertical-align: top;\n",
       "    }\n",
       "\n",
       "    .dataframe thead th {\n",
       "        text-align: right;\n",
       "    }\n",
       "</style>\n",
       "<table border=\"1\" class=\"dataframe\">\n",
       "  <thead>\n",
       "    <tr style=\"text-align: right;\">\n",
       "      <th></th>\n",
       "      <th>id</th>\n",
       "      <th>age</th>\n",
       "      <th>sex</th>\n",
       "      <th>dataset</th>\n",
       "      <th>cp</th>\n",
       "      <th>trestbps</th>\n",
       "      <th>chol</th>\n",
       "      <th>fbs</th>\n",
       "      <th>restecg</th>\n",
       "      <th>thalch</th>\n",
       "      <th>exang</th>\n",
       "      <th>oldpeak</th>\n",
       "      <th>slope</th>\n",
       "      <th>ca</th>\n",
       "      <th>thal</th>\n",
       "      <th>num</th>\n",
       "    </tr>\n",
       "  </thead>\n",
       "  <tbody>\n",
       "    <tr>\n",
       "      <th>0</th>\n",
       "      <td>1</td>\n",
       "      <td>63</td>\n",
       "      <td>Male</td>\n",
       "      <td>Cleveland</td>\n",
       "      <td>typical angina</td>\n",
       "      <td>145.0</td>\n",
       "      <td>233.0</td>\n",
       "      <td>True</td>\n",
       "      <td>lv hypertrophy</td>\n",
       "      <td>150.0</td>\n",
       "      <td>False</td>\n",
       "      <td>2.3</td>\n",
       "      <td>downsloping</td>\n",
       "      <td>0.0</td>\n",
       "      <td>fixed defect</td>\n",
       "      <td>0</td>\n",
       "    </tr>\n",
       "    <tr>\n",
       "      <th>1</th>\n",
       "      <td>2</td>\n",
       "      <td>67</td>\n",
       "      <td>Male</td>\n",
       "      <td>Cleveland</td>\n",
       "      <td>asymptomatic</td>\n",
       "      <td>160.0</td>\n",
       "      <td>286.0</td>\n",
       "      <td>False</td>\n",
       "      <td>lv hypertrophy</td>\n",
       "      <td>108.0</td>\n",
       "      <td>True</td>\n",
       "      <td>1.5</td>\n",
       "      <td>flat</td>\n",
       "      <td>3.0</td>\n",
       "      <td>normal</td>\n",
       "      <td>2</td>\n",
       "    </tr>\n",
       "    <tr>\n",
       "      <th>2</th>\n",
       "      <td>3</td>\n",
       "      <td>67</td>\n",
       "      <td>Male</td>\n",
       "      <td>Cleveland</td>\n",
       "      <td>asymptomatic</td>\n",
       "      <td>120.0</td>\n",
       "      <td>229.0</td>\n",
       "      <td>False</td>\n",
       "      <td>lv hypertrophy</td>\n",
       "      <td>129.0</td>\n",
       "      <td>True</td>\n",
       "      <td>2.6</td>\n",
       "      <td>flat</td>\n",
       "      <td>2.0</td>\n",
       "      <td>reversable defect</td>\n",
       "      <td>1</td>\n",
       "    </tr>\n",
       "    <tr>\n",
       "      <th>3</th>\n",
       "      <td>4</td>\n",
       "      <td>37</td>\n",
       "      <td>Male</td>\n",
       "      <td>Cleveland</td>\n",
       "      <td>non-anginal</td>\n",
       "      <td>130.0</td>\n",
       "      <td>250.0</td>\n",
       "      <td>False</td>\n",
       "      <td>normal</td>\n",
       "      <td>187.0</td>\n",
       "      <td>False</td>\n",
       "      <td>3.5</td>\n",
       "      <td>downsloping</td>\n",
       "      <td>0.0</td>\n",
       "      <td>normal</td>\n",
       "      <td>0</td>\n",
       "    </tr>\n",
       "    <tr>\n",
       "      <th>4</th>\n",
       "      <td>5</td>\n",
       "      <td>41</td>\n",
       "      <td>Female</td>\n",
       "      <td>Cleveland</td>\n",
       "      <td>atypical angina</td>\n",
       "      <td>130.0</td>\n",
       "      <td>204.0</td>\n",
       "      <td>False</td>\n",
       "      <td>lv hypertrophy</td>\n",
       "      <td>172.0</td>\n",
       "      <td>False</td>\n",
       "      <td>1.4</td>\n",
       "      <td>upsloping</td>\n",
       "      <td>0.0</td>\n",
       "      <td>normal</td>\n",
       "      <td>0</td>\n",
       "    </tr>\n",
       "  </tbody>\n",
       "</table>\n",
       "</div>"
      ],
      "text/plain": [
       "   id  age     sex    dataset               cp  trestbps   chol    fbs  \\\n",
       "0   1   63    Male  Cleveland   typical angina     145.0  233.0   True   \n",
       "1   2   67    Male  Cleveland     asymptomatic     160.0  286.0  False   \n",
       "2   3   67    Male  Cleveland     asymptomatic     120.0  229.0  False   \n",
       "3   4   37    Male  Cleveland      non-anginal     130.0  250.0  False   \n",
       "4   5   41  Female  Cleveland  atypical angina     130.0  204.0  False   \n",
       "\n",
       "          restecg  thalch  exang  oldpeak        slope   ca  \\\n",
       "0  lv hypertrophy   150.0  False      2.3  downsloping  0.0   \n",
       "1  lv hypertrophy   108.0   True      1.5         flat  3.0   \n",
       "2  lv hypertrophy   129.0   True      2.6         flat  2.0   \n",
       "3          normal   187.0  False      3.5  downsloping  0.0   \n",
       "4  lv hypertrophy   172.0  False      1.4    upsloping  0.0   \n",
       "\n",
       "                thal  num  \n",
       "0       fixed defect    0  \n",
       "1             normal    2  \n",
       "2  reversable defect    1  \n",
       "3             normal    0  \n",
       "4             normal    0  "
      ]
     },
     "execution_count": 288,
     "metadata": {},
     "output_type": "execute_result"
    }
   ],
   "source": [
    "# load data from csv file placed locally in our pc\n",
    "df = pd.read_csv(\"heart_disease_uci.csv\")\n",
    "\n",
    "# print first 5 rows of dataset\n",
    "df.head()"
   ]
  },
  {
   "cell_type": "markdown",
   "id": "945db5fc",
   "metadata": {
    "id": "NoRrhaTowdpT",
    "papermill": {
     "duration": 0.040437,
     "end_time": "2024-05-18T13:04:31.924584",
     "exception": false,
     "start_time": "2024-05-18T13:04:31.884147",
     "status": "completed"
    },
    "tags": []
   },
   "source": [
    "# **<font color='blue'>Exploratory Data Analysis ( EDA )</font>**\n",
    "\n",
    "- Let's explore heart_disease_uci data."
   ]
  },
  {
   "cell_type": "markdown",
   "id": "3fef3658",
   "metadata": {
    "id": "Cv3sn8Yfy-mb",
    "papermill": {
     "duration": 0.04059,
     "end_time": "2024-05-18T13:04:32.008131",
     "exception": false,
     "start_time": "2024-05-18T13:04:31.967541",
     "status": "completed"
    },
    "tags": []
   },
   "source": [
    "### **Let's see a detailed information about this dataset's Features**"
   ]
  },
  {
   "cell_type": "code",
   "execution_count": 289,
   "id": "8084d1d9",
   "metadata": {
    "execution": {
     "iopub.execute_input": "2024-05-18T13:04:32.163908Z",
     "iopub.status.busy": "2024-05-18T13:04:32.162108Z",
     "iopub.status.idle": "2024-05-18T13:04:32.198347Z",
     "shell.execute_reply": "2024-05-18T13:04:32.196417Z"
    },
    "id": "txFDG2wFwwsU",
    "outputId": "96cb01ff-2d44-4f48-81b5-6ca9d5640796",
    "papermill": {
     "duration": 0.083612,
     "end_time": "2024-05-18T13:04:32.202506",
     "exception": false,
     "start_time": "2024-05-18T13:04:32.118894",
     "status": "completed"
    },
    "tags": []
   },
   "outputs": [
    {
     "name": "stdout",
     "output_type": "stream",
     "text": [
      "<class 'pandas.core.frame.DataFrame'>\n",
      "RangeIndex: 920 entries, 0 to 919\n",
      "Data columns (total 16 columns):\n",
      " #   Column    Non-Null Count  Dtype  \n",
      "---  ------    --------------  -----  \n",
      " 0   id        920 non-null    int64  \n",
      " 1   age       920 non-null    int64  \n",
      " 2   sex       920 non-null    object \n",
      " 3   dataset   920 non-null    object \n",
      " 4   cp        920 non-null    object \n",
      " 5   trestbps  861 non-null    float64\n",
      " 6   chol      890 non-null    float64\n",
      " 7   fbs       830 non-null    object \n",
      " 8   restecg   918 non-null    object \n",
      " 9   thalch    865 non-null    float64\n",
      " 10  exang     865 non-null    object \n",
      " 11  oldpeak   858 non-null    float64\n",
      " 12  slope     611 non-null    object \n",
      " 13  ca        309 non-null    float64\n",
      " 14  thal      434 non-null    object \n",
      " 15  num       920 non-null    int64  \n",
      "dtypes: float64(5), int64(3), object(8)\n",
      "memory usage: 115.1+ KB\n"
     ]
    }
   ],
   "source": [
    "# expploring datatype of each column\n",
    "df.info()"
   ]
  },
  {
   "cell_type": "markdown",
   "id": "a1e166c7",
   "metadata": {
    "id": "M4N7ZA6o5n_-",
    "papermill": {
     "duration": 0.042922,
     "end_time": "2024-05-18T13:04:32.300532",
     "exception": false,
     "start_time": "2024-05-18T13:04:32.257610",
     "status": "completed"
    },
    "tags": []
   },
   "source": [
    "### **Obseervation**\n",
    "Here are some observations about dataset\n",
    "\n",
    "- The dataset contains information on 920 entries, likely representing individuals.\n",
    "\n",
    "- Each entry has 16 columns, consisting of various features such as age, sex, cholesterol levels (chol), resting blood pressure (trestbps), etc.\n",
    "- Some columns have missing values, such as 'trestbps', 'chol', 'fbs', etc., indicating that not all data points are complete."
   ]
  },
  {
   "cell_type": "markdown",
   "id": "d82cb04a",
   "metadata": {
    "id": "gsaILNerzPgE",
    "papermill": {
     "duration": 0.057311,
     "end_time": "2024-05-18T13:04:32.401191",
     "exception": false,
     "start_time": "2024-05-18T13:04:32.343880",
     "status": "completed"
    },
    "tags": []
   },
   "source": [
    "### **Let's Check Shape of this Dataset**"
   ]
  },
  {
   "cell_type": "code",
   "execution_count": 290,
   "id": "3d836cb2",
   "metadata": {
    "execution": {
     "iopub.execute_input": "2024-05-18T13:04:32.513453Z",
     "iopub.status.busy": "2024-05-18T13:04:32.512437Z",
     "iopub.status.idle": "2024-05-18T13:04:32.518363Z",
     "shell.execute_reply": "2024-05-18T13:04:32.517526Z"
    },
    "id": "R1aIuOe_w0iu",
    "outputId": "de38584a-0bc3-46ac-f242-7a9b06f88f80",
    "papermill": {
     "duration": 0.062043,
     "end_time": "2024-05-18T13:04:32.520626",
     "exception": false,
     "start_time": "2024-05-18T13:04:32.458583",
     "status": "completed"
    },
    "tags": []
   },
   "outputs": [
    {
     "name": "stdout",
     "output_type": "stream",
     "text": [
      "This dataframe has 920 rows and 16 columns.\n"
     ]
    }
   ],
   "source": [
    "# let' view the shape of the data, number of rows & columns\n",
    "print(f\"This dataframe has {df.shape[0]} rows and {df.shape[1]} columns.\")"
   ]
  },
  {
   "cell_type": "markdown",
   "id": "1d34ffff",
   "metadata": {
    "id": "KxrERMOsxKy1",
    "papermill": {
     "duration": 0.042328,
     "end_time": "2024-05-18T13:04:32.606006",
     "exception": false,
     "start_time": "2024-05-18T13:04:32.563678",
     "status": "completed"
    },
    "tags": []
   },
   "source": [
    "# **<font color='blue'>Exploring `id`\t(Unique id for each patient) Feature</font>**"
   ]
  },
  {
   "cell_type": "code",
   "execution_count": 291,
   "id": "e4849b57",
   "metadata": {
    "execution": {
     "iopub.execute_input": "2024-05-18T13:04:32.709994Z",
     "iopub.status.busy": "2024-05-18T13:04:32.708986Z",
     "iopub.status.idle": "2024-05-18T13:04:32.718301Z",
     "shell.execute_reply": "2024-05-18T13:04:32.716812Z"
    },
    "id": "5rnRgk7ixG_1",
    "outputId": "95c77c40-7790-4918-9a01-c0b18e280a08",
    "papermill": {
     "duration": 0.068993,
     "end_time": "2024-05-18T13:04:32.720895",
     "exception": false,
     "start_time": "2024-05-18T13:04:32.651902",
     "status": "completed"
    },
    "tags": []
   },
   "outputs": [
    {
     "name": "stdout",
     "output_type": "stream",
     "text": [
      "The minimum id in id column is 1 and maximum id is 920.\n"
     ]
    }
   ],
   "source": [
    "# take a look at id column\n",
    "print(f\"The minimum id in id column is {df['id'].min()} and maximum id is {df['id'].max()}.\")"
   ]
  },
  {
   "cell_type": "markdown",
   "id": "f6802367",
   "metadata": {
    "id": "JSktyJxs1_s3",
    "papermill": {
     "duration": 0.042041,
     "end_time": "2024-05-18T13:04:32.805828",
     "exception": false,
     "start_time": "2024-05-18T13:04:32.763787",
     "status": "completed"
    },
    "tags": []
   },
   "source": [
    "# **<font color='blue'>Exploring `age`\t(Age of the patient in years) Feature</font>**"
   ]
  },
  {
   "cell_type": "code",
   "execution_count": 292,
   "id": "6d126857",
   "metadata": {
    "execution": {
     "iopub.execute_input": "2024-05-18T13:04:32.893025Z",
     "iopub.status.busy": "2024-05-18T13:04:32.892593Z",
     "iopub.status.idle": "2024-05-18T13:04:32.897829Z",
     "shell.execute_reply": "2024-05-18T13:04:32.896922Z"
    },
    "id": "cBlYb-Z5y6Q9",
    "outputId": "f6e9f57f-e0ef-4f02-fb5f-e8c43499b947",
    "papermill": {
     "duration": 0.05159,
     "end_time": "2024-05-18T13:04:32.900613",
     "exception": false,
     "start_time": "2024-05-18T13:04:32.849023",
     "status": "completed"
    },
    "tags": []
   },
   "outputs": [
    {
     "name": "stdout",
     "output_type": "stream",
     "text": [
      "The minimum age in age column is 28 and maximum age is 77.\n"
     ]
    }
   ],
   "source": [
    "# take a look at age column according to this dataset\n",
    "print(f\"The minimum age in age column is {df['age'].min()} and maximum age is {df['age'].max()}.\")"
   ]
  },
  {
   "cell_type": "markdown",
   "id": "3fc6f45a",
   "metadata": {
    "id": "TWWyVTSP3JzE",
    "papermill": {
     "duration": 0.041719,
     "end_time": "2024-05-18T13:04:32.984262",
     "exception": false,
     "start_time": "2024-05-18T13:04:32.942543",
     "status": "completed"
    },
    "tags": []
   },
   "source": [
    "### **Let's see visual representation of age column**"
   ]
  },
  {
   "cell_type": "code",
   "execution_count": 293,
   "id": "73f08c21",
   "metadata": {
    "execution": {
     "iopub.execute_input": "2024-05-18T13:04:33.074664Z",
     "iopub.status.busy": "2024-05-18T13:04:33.073936Z",
     "iopub.status.idle": "2024-05-18T13:04:33.543079Z",
     "shell.execute_reply": "2024-05-18T13:04:33.541742Z"
    },
    "id": "dK-FtfF112WL",
    "outputId": "b51fc540-f524-4501-ecbd-52ec7b2dafd9",
    "papermill": {
     "duration": 0.518216,
     "end_time": "2024-05-18T13:04:33.546183",
     "exception": false,
     "start_time": "2024-05-18T13:04:33.027967",
     "status": "completed"
    },
    "tags": []
   },
   "outputs": [
    {
     "data": {
      "image/png": "[encoded data removed]",
      "text/plain": [
       "<Figure size 1600x900 with 1 Axes>"
      ]
     },
     "metadata": {},
     "output_type": "display_data"
    }
   ],
   "source": [
    "# Draw a histogram to visualize the distribution of the age column\n",
    "plt.figure(figsize=(16, 9))\n",
    "sns.histplot(df[\"age\"], kde=True, color=\"Navy\")\n",
    "plt.show()"
   ]
  },
  {
   "cell_type": "code",
   "execution_count": 294,
   "id": "e0eca494",
   "metadata": {
    "execution": {
     "iopub.execute_input": "2024-05-18T13:04:33.632213Z",
     "iopub.status.busy": "2024-05-18T13:04:33.631787Z",
     "iopub.status.idle": "2024-05-18T13:04:34.106996Z",
     "shell.execute_reply": "2024-05-18T13:04:34.105637Z"
    },
    "id": "Yf2bJg1g2lGs",
    "outputId": "3a2658c3-4f08-4749-ac64-567bd49d2a3d",
    "papermill": {
     "duration": 0.521753,
     "end_time": "2024-05-18T13:04:34.110082",
     "exception": false,
     "start_time": "2024-05-18T13:04:33.588329",
     "status": "completed"
    },
    "tags": []
   },
   "outputs": [
    {
     "name": "stdout",
     "output_type": "stream",
     "text": [
      "Mean: 53.51086956521739\n",
      "Median: 54.0\n",
      "Mode: 54\n"
     ]
    },
    {
     "data": {
      "image/png": "[encoded data removed]",
      "text/plain": [
       "<Figure size 1600x900 with 1 Axes>"
      ]
     },
     "metadata": {},
     "output_type": "display_data"
    }
   ],
   "source": [
    "# Set the figure size to 16:9\n",
    "plt.figure(figsize=(16, 9))\n",
    "\n",
    "# Plot the mean, median and mode of each column using sns\n",
    "sns.histplot(df[\"age\"], kde=True)\n",
    "plt.axvline(df[\"age\"].mean(), color=\"r\")\n",
    "plt.axvline(df[\"age\"].median(), color=\"g\")\n",
    "plt.axvline(df[\"age\"].mode()[0], color=\"b\")\n",
    "\n",
    "\n",
    "# Print the mean, median and mode of each column\n",
    "print(\"Mean:\", df[\"age\"].mean())\n",
    "print(\"Median:\", df[\"age\"].median())\n",
    "print(\"Mode:\", df[\"age\"].mode()[0])"
   ]
  },
  {
   "cell_type": "markdown",
   "id": "c05f9da5",
   "metadata": {
    "id": "TxjuIH915d-u",
    "papermill": {
     "duration": 0.044825,
     "end_time": "2024-05-18T13:04:34.199296",
     "exception": false,
     "start_time": "2024-05-18T13:04:34.154471",
     "status": "completed"
    },
    "tags": []
   },
   "source": [
    "#### **Observations about \"age\" column**\n",
    "\n",
    "Here’s a concise summary of age column:\n",
    "\n",
    "- **The histogram represents the age distribution of a dataset.**\n",
    "\n",
    "  - The mean age is approximately 54 years.\n",
    "  - The distribution is slightly skewed to the right, indicating a larger younger population.\n",
    "\n",
    "- **The histogram peaks around the mid-50s age group.**\n",
    "\n",
    "  - A red vertical line indicates the mean value at approximately age 54.\n",
    "  - The data declines after this peak.\n",
    "\n",
    "- **Additional statistics:**\n",
    "  - Mean: 53.92\n",
    "  - Median: 54\n",
    "  - Mode: 58\n",
    "\n",
    "  <br>"
   ]
  },
  {
   "cell_type": "markdown",
   "id": "29e65019",
   "metadata": {
    "id": "nZzxD2bd7WTd",
    "papermill": {
     "duration": 0.045136,
     "end_time": "2024-05-18T13:04:34.291161",
     "exception": false,
     "start_time": "2024-05-18T13:04:34.246025",
     "status": "completed"
    },
    "tags": []
   },
   "source": [
    "# **<font color='blue'>Exploring `sex`\t(Male/Female) Feature</font>**"
   ]
  },
  {
   "cell_type": "code",
   "execution_count": 295,
   "id": "cbde4949",
   "metadata": {
    "execution": {
     "iopub.execute_input": "2024-05-18T13:04:34.384047Z",
     "iopub.status.busy": "2024-05-18T13:04:34.383385Z",
     "iopub.status.idle": "2024-05-18T13:04:34.391824Z",
     "shell.execute_reply": "2024-05-18T13:04:34.390979Z"
    },
    "id": "Vy57afvd7_Pm",
    "outputId": "352ff9b1-a1a4-47a6-c032-8023a07bfec4",
    "papermill": {
     "duration": 0.057849,
     "end_time": "2024-05-18T13:04:34.394220",
     "exception": false,
     "start_time": "2024-05-18T13:04:34.336371",
     "status": "completed"
    },
    "tags": []
   },
   "outputs": [
    {
     "data": {
      "text/plain": [
       "sex\n",
       "Male      726\n",
       "Female    194\n",
       "Name: count, dtype: int64"
      ]
     },
     "execution_count": 295,
     "metadata": {},
     "output_type": "execute_result"
    }
   ],
   "source": [
    "# find the count of male and female in sex column\n",
    "df[\"sex\"].value_counts()"
   ]
  },
  {
   "cell_type": "markdown",
   "id": "54a0365a",
   "metadata": {
    "id": "8mtnObw783YD",
    "papermill": {
     "duration": 0.044247,
     "end_time": "2024-05-18T13:04:34.482564",
     "exception": false,
     "start_time": "2024-05-18T13:04:34.438317",
     "status": "completed"
    },
    "tags": []
   },
   "source": [
    "### **Calculate Percentage of Males and Females in sex column**"
   ]
  },
  {
   "cell_type": "code",
   "execution_count": 296,
   "id": "51a9806f",
   "metadata": {
    "execution": {
     "iopub.execute_input": "2024-05-18T13:04:34.575154Z",
     "iopub.status.busy": "2024-05-18T13:04:34.574146Z",
     "iopub.status.idle": "2024-05-18T13:04:34.582175Z",
     "shell.execute_reply": "2024-05-18T13:04:34.581111Z"
    },
    "id": "AzsbZYwr4BRJ",
    "outputId": "bdaffa86-f182-44b8-97d1-d375de7f25f7",
    "papermill": {
     "duration": 0.057954,
     "end_time": "2024-05-18T13:04:34.584890",
     "exception": false,
     "start_time": "2024-05-18T13:04:34.526936",
     "status": "completed"
    },
    "tags": []
   },
   "outputs": [
    {
     "name": "stdout",
     "output_type": "stream",
     "text": [
      "Male Percentage in data: 78.91%\n",
      "Female Percentage in data: 21.09%\n",
      "Males are 274.23% more than females in the data.\n"
     ]
    }
   ],
   "source": [
    "# calculate percentage of male and female in sex column\n",
    "male = 726\n",
    "female = 194\n",
    "total = male + female\n",
    "\n",
    "# calculate percentage\n",
    "male_percentage = (male/total) * 100\n",
    "female_percentage = (female/total) * 100\n",
    "\n",
    "# print the result\n",
    "print(f\"Male Percentage in data: {male_percentage:.2f}%\")\n",
    "print(f\"Female Percentage in data: {female_percentage:.2f}%\")\n",
    "\n",
    "# difference\n",
    "difference_peercentage = ((male - female)/ female) * 100\n",
    "print(f\"Males are {difference_peercentage:.2f}% more than females in the data.\")"
   ]
  },
  {
   "cell_type": "markdown",
   "id": "a54505ce",
   "metadata": {
    "id": "yE_cVAzk-Azg",
    "papermill": {
     "duration": 0.042525,
     "end_time": "2024-05-18T13:04:34.670364",
     "exception": false,
     "start_time": "2024-05-18T13:04:34.627839",
     "status": "completed"
    },
    "tags": []
   },
   "source": [
    "### **Visualizing Distribution of sex in Dataset**"
   ]
  },
  {
   "cell_type": "code",
   "execution_count": 297,
   "id": "68968e51",
   "metadata": {
    "execution": {
     "iopub.execute_input": "2024-05-18T13:04:34.758591Z",
     "iopub.status.busy": "2024-05-18T13:04:34.757814Z",
     "iopub.status.idle": "2024-05-18T13:04:35.020224Z",
     "shell.execute_reply": "2024-05-18T13:04:35.018571Z"
    },
    "id": "VmJxnaKG8GV-",
    "outputId": "af29d2bb-8332-417d-b391-286d612a56c2",
    "papermill": {
     "duration": 0.309429,
     "end_time": "2024-05-18T13:04:35.022975",
     "exception": false,
     "start_time": "2024-05-18T13:04:34.713546",
     "status": "completed"
    },
    "tags": []
   },
   "outputs": [
    {
     "data": {
      "image/png": "[encoded data removed]",
      "text/plain": [
       "<Figure size 1600x900 with 1 Axes>"
      ]
     },
     "metadata": {},
     "output_type": "display_data"
    }
   ],
   "source": [
    "# Pie chart\n",
    "labels = ['Male', 'Female']\n",
    "sizes = [male_percentage, female_percentage]\n",
    "colors = ['#CCCCCC','MediumSlateBlue']\n",
    "\n",
    "fig1, ax1 = plt.subplots(figsize=(16, 9))\n",
    "ax1.pie(sizes, colors=colors, labels=labels, autopct='%1.1f%%', startangle=90)\n",
    "ax1.axis('equal')  # Equal aspect ratio ensures that pie is drawn as a circle.\n",
    "\n",
    "plt.title('Distribution of sex in Dataset')\n",
    "plt.show()"
   ]
  },
  {
   "cell_type": "markdown",
   "id": "5999e781",
   "metadata": {
    "id": "O9QLb-7S_NY-",
    "papermill": {
     "duration": 0.044568,
     "end_time": "2024-05-18T13:04:35.111962",
     "exception": false,
     "start_time": "2024-05-18T13:04:35.067394",
     "status": "completed"
    },
    "tags": []
   },
   "source": [
    "#### **Observation about sex column**\n",
    "\n",
    "Here’s a concise interpretation :\n",
    "\n",
    "- The majority (78.9%) of the dataset consists of males.\n",
    "- Females account for 21.1% of the dataset.\n",
    "\n",
    "Overall, there is a significant gender distribution in the data."
   ]
  },
  {
   "cell_type": "markdown",
   "id": "f46dc524",
   "metadata": {
    "id": "8qPSE3_8Bson",
    "papermill": {
     "duration": 0.043464,
     "end_time": "2024-05-18T13:04:35.198715",
     "exception": false,
     "start_time": "2024-05-18T13:04:35.155251",
     "status": "completed"
    },
    "tags": []
   },
   "source": [
    "# **<font color='blue'>Exploring `dataset`\t(Place of study) </font>**"
   ]
  },
  {
   "cell_type": "code",
   "execution_count": 298,
   "id": "0fde895b",
   "metadata": {
    "execution": {
     "iopub.execute_input": "2024-05-18T13:04:35.292697Z",
     "iopub.status.busy": "2024-05-18T13:04:35.292261Z",
     "iopub.status.idle": "2024-05-18T13:04:35.300619Z",
     "shell.execute_reply": "2024-05-18T13:04:35.299218Z"
    },
    "id": "feTi3MWIGw3Y",
    "outputId": "11443e9b-ef61-4371-cca3-8f1be08c6848",
    "papermill": {
     "duration": 0.059831,
     "end_time": "2024-05-18T13:04:35.303438",
     "exception": false,
     "start_time": "2024-05-18T13:04:35.243607",
     "status": "completed"
    },
    "tags": []
   },
   "outputs": [
    {
     "name": "stdout",
     "output_type": "stream",
     "text": [
      "Unique values count in dataset column: dataset\n",
      "Cleveland        304\n",
      "Hungary          293\n",
      "VA Long Beach    200\n",
      "Switzerland      123\n",
      "Name: count, dtype: int64\n"
     ]
    }
   ],
   "source": [
    "# let's find unique values count in dataset column\n",
    "print(\"Unique values count in dataset column:\",df[\"dataset\"].value_counts())"
   ]
  },
  {
   "cell_type": "markdown",
   "id": "b141f407",
   "metadata": {
    "id": "1gNRgPp4Ji8Q",
    "papermill": {
     "duration": 0.044683,
     "end_time": "2024-05-18T13:04:35.392898",
     "exception": false,
     "start_time": "2024-05-18T13:04:35.348215",
     "status": "completed"
    },
    "tags": []
   },
   "source": [
    "### **Let's visualize dataset Column**"
   ]
  },
  {
   "cell_type": "code",
   "execution_count": 299,
   "id": "c9362cdf",
   "metadata": {
    "execution": {
     "iopub.execute_input": "2024-05-18T13:04:35.483955Z",
     "iopub.status.busy": "2024-05-18T13:04:35.483561Z",
     "iopub.status.idle": "2024-05-18T13:04:35.795034Z",
     "shell.execute_reply": "2024-05-18T13:04:35.793746Z"
    },
    "id": "Uppm_PepHQb-",
    "outputId": "37f253d5-b634-4a2a-9eda-2e5b3a35ce86",
    "papermill": {
     "duration": 0.360332,
     "end_time": "2024-05-18T13:04:35.797818",
     "exception": false,
     "start_time": "2024-05-18T13:04:35.437486",
     "status": "completed"
    },
    "tags": []
   },
   "outputs": [
    {
     "data": {
      "image/png": "[encoded data removed]",
      "text/plain": [
       "<Figure size 1600x900 with 1 Axes>"
      ]
     },
     "metadata": {},
     "output_type": "display_data"
    }
   ],
   "source": [
    "import matplotlib.pyplot as plt\n",
    "\n",
    "# Define the categories and their corresponding values\n",
    "categories = ['Cleveland', 'Hungary', 'VA Long Beach', 'Switzerland']\n",
    "values = [304, 293, 200, 123]\n",
    "colors = ['blue', 'orange', 'green', 'red']\n",
    "\n",
    "# Create a bar plot\n",
    "plt.figure(figsize=(16, 9))\n",
    "plt.bar(categories, values, color=colors)\n",
    "\n",
    "# Add labels and title\n",
    "plt.xlabel('Categories')\n",
    "plt.ylabel('Values')\n",
    "plt.title('Places of Study')\n",
    "\n",
    "# Show plot\n",
    "plt.show()\n"
   ]
  },
  {
   "cell_type": "markdown",
   "id": "f80a8d3e",
   "metadata": {
    "id": "YFaurIKlJqgf",
    "papermill": {
     "duration": 0.045386,
     "end_time": "2024-05-18T13:04:35.888557",
     "exception": false,
     "start_time": "2024-05-18T13:04:35.843171",
     "status": "completed"
    },
    "tags": []
   },
   "source": [
    "### **Observations about dataset column**\n",
    "\n",
    "Here’s a concise interpretation of the heart disease study data from your graph:\n",
    "\n",
    "- Cleveland had the highest number of cases studied (304), followed closely by Hungary (293).\n",
    "\n",
    "- VA Long Beach conducted studies on 200 cases, while Switzerland had the fewest cases studied (123).\n",
    "\n",
    "Overall, Cleveland and Hungary were the primary locations for heart disease research in this dataset. Switzerland had the lowest number of cases studied."
   ]
  },
  {
   "cell_type": "markdown",
   "id": "bb5a1e9b",
   "metadata": {
    "id": "sWW5wF3OND0k",
    "papermill": {
     "duration": 0.044775,
     "end_time": "2024-05-18T13:04:35.978806",
     "exception": false,
     "start_time": "2024-05-18T13:04:35.934031",
     "status": "completed"
    },
    "tags": []
   },
   "source": [
    "### **Print the values count of the dataset column grouped by sex**"
   ]
  },
  {
   "cell_type": "code",
   "execution_count": 300,
   "id": "3e9ce87b",
   "metadata": {
    "execution": {
     "iopub.execute_input": "2024-05-18T13:04:36.072854Z",
     "iopub.status.busy": "2024-05-18T13:04:36.071837Z",
     "iopub.status.idle": "2024-05-18T13:04:36.084664Z",
     "shell.execute_reply": "2024-05-18T13:04:36.083248Z"
    },
    "id": "XmfjEJ3RM_k4",
    "outputId": "43608b9a-3ac4-41f3-fa35-b3f6024f0bf0",
    "papermill": {
     "duration": 0.063623,
     "end_time": "2024-05-18T13:04:36.087524",
     "exception": false,
     "start_time": "2024-05-18T13:04:36.023901",
     "status": "completed"
    },
    "tags": []
   },
   "outputs": [
    {
     "name": "stdout",
     "output_type": "stream",
     "text": [
      "sex     dataset      \n",
      "Female  Cleveland         97\n",
      "        Hungary           81\n",
      "        Switzerland       10\n",
      "        VA Long Beach      6\n",
      "Male    Hungary          212\n",
      "        Cleveland        207\n",
      "        VA Long Beach    194\n",
      "        Switzerland      113\n",
      "Name: count, dtype: int64\n"
     ]
    }
   ],
   "source": [
    "print(df.groupby(\"sex\")[\"dataset\"].value_counts())"
   ]
  },
  {
   "cell_type": "markdown",
   "id": "125f8428",
   "metadata": {
    "id": "BQ056vMjAtT1",
    "papermill": {
     "duration": 0.043747,
     "end_time": "2024-05-18T13:04:36.177188",
     "exception": false,
     "start_time": "2024-05-18T13:04:36.133441",
     "status": "completed"
    },
    "tags": []
   },
   "source": [
    "# **<font color='blue'>Exploring `cp`\t(Chest pain type 1. typical angina, 2. atypical angina, 3. non-anginal, 4. asymptomatic) </font>**\n",
    "\n",
    "1. Typical angina: Chest pain triggered by exertion or emotional stress, relieved by rest or nitroglycerin.\n",
    "\n",
    "2. Atypical angina: Chest discomfort that doesn't fit the typical pattern of angina, often with varying symptoms or triggers.\n",
    "\n",
    "3. Non-anginal: Chest pain not related to coronary artery disease, possibly due to musculoskeletal, gastrointestinal, or other causes.\n",
    "\n",
    "4. Asymptomatic: Absence of chest pain or discomfort, even in the presence of coronary artery disease, often detected through diagnostic testing."
   ]
  },
  {
   "cell_type": "code",
   "execution_count": 301,
   "id": "79963eb6",
   "metadata": {
    "execution": {
     "iopub.execute_input": "2024-05-18T13:04:36.273958Z",
     "iopub.status.busy": "2024-05-18T13:04:36.273261Z",
     "iopub.status.idle": "2024-05-18T13:04:36.281523Z",
     "shell.execute_reply": "2024-05-18T13:04:36.279940Z"
    },
    "id": "03UDckbe9hyK",
    "outputId": "8e1eca75-5d3c-479b-8672-e81d5a1e7f5c",
    "papermill": {
     "duration": 0.062999,
     "end_time": "2024-05-18T13:04:36.284369",
     "exception": false,
     "start_time": "2024-05-18T13:04:36.221370",
     "status": "completed"
    },
    "tags": []
   },
   "outputs": [
    {
     "name": "stdout",
     "output_type": "stream",
     "text": [
      "Value count of cp column: cp\n",
      "asymptomatic       496\n",
      "non-anginal        204\n",
      "atypical angina    174\n",
      "typical angina      46\n",
      "Name: count, dtype: int64\n"
     ]
    }
   ],
   "source": [
    "# let's check value count of cp column\n",
    "print(\"Value count of cp column:\",df[\"cp\"].value_counts())"
   ]
  },
  {
   "cell_type": "markdown",
   "id": "6133226a",
   "metadata": {
    "id": "fvcCzDCCPMAw",
    "papermill": {
     "duration": 0.045264,
     "end_time": "2024-05-18T13:04:36.375311",
     "exception": false,
     "start_time": "2024-05-18T13:04:36.330047",
     "status": "completed"
    },
    "tags": []
   },
   "source": [
    "### **Let's visualize cp on basis of dataset**"
   ]
  },
  {
   "cell_type": "code",
   "execution_count": 302,
   "id": "79f42d7d",
   "metadata": {
    "execution": {
     "iopub.execute_input": "2024-05-18T13:04:36.470182Z",
     "iopub.status.busy": "2024-05-18T13:04:36.469417Z",
     "iopub.status.idle": "2024-05-18T13:04:36.849075Z",
     "shell.execute_reply": "2024-05-18T13:04:36.847836Z"
    },
    "id": "kfRjPi1EKZH7",
    "outputId": "03cf8667-ac40-459a-fb10-73b12f44b312",
    "papermill": {
     "duration": 0.430232,
     "end_time": "2024-05-18T13:04:36.851654",
     "exception": false,
     "start_time": "2024-05-18T13:04:36.421422",
     "status": "completed"
    },
    "tags": []
   },
   "outputs": [
    {
     "data": {
      "image/png": "[encoded data removed]",
      "text/plain": [
       "<Figure size 1600x900 with 1 Axes>"
      ]
     },
     "metadata": {},
     "output_type": "display_data"
    }
   ],
   "source": [
    "# Set the figure size\n",
    "plt.figure(figsize=(16, 9))\n",
    "\n",
    "# Create the count plot\n",
    "sns.countplot(data=df, x=\"cp\", hue=\"dataset\")\n",
    "\n",
    "# Display the plot\n",
    "plt.show()"
   ]
  },
  {
   "cell_type": "markdown",
   "id": "cb0067a1",
   "metadata": {
    "id": "7GjbtBRLOs5s",
    "papermill": {
     "duration": 0.045802,
     "end_time": "2024-05-18T13:04:36.943152",
     "exception": false,
     "start_time": "2024-05-18T13:04:36.897350",
     "status": "completed"
    },
    "tags": []
   },
   "source": [
    "### **Let's visualize age on basis of cp**"
   ]
  },
  {
   "cell_type": "code",
   "execution_count": 303,
   "id": "2679595d",
   "metadata": {
    "execution": {
     "iopub.execute_input": "2024-05-18T13:04:37.038805Z",
     "iopub.status.busy": "2024-05-18T13:04:37.038029Z",
     "iopub.status.idle": "2024-05-18T13:04:39.219327Z",
     "shell.execute_reply": "2024-05-18T13:04:39.218017Z"
    },
    "id": "HCNXXFLUOSBE",
    "outputId": "607e0032-225a-498e-b063-1bbeca206413",
    "papermill": {
     "duration": 2.233456,
     "end_time": "2024-05-18T13:04:39.222534",
     "exception": false,
     "start_time": "2024-05-18T13:04:36.989078",
     "status": "completed"
    },
    "tags": []
   },
   "outputs": [
    {
     "data": {
      "application/vnd.plotly.v1+json": {
       "config": {
        "plotlyServerURL": "https://plot.ly"
       },
       "data": [
        {
         "bingroup": "x",
         "hovertemplate": "cp=typical angina<br>age=%{x}<br>count=%{y}<extra></extra>",
         "legendgroup": "typical angina",
         "marker": {
          "color": "#636efa",
          "pattern": {
           "shape": ""
          }
         },
         "name": "typical angina",
         "orientation": "v",
         "showlegend": true,
         "type": "histogram",
         "x": {
          "bdata": "P0A6QkUoMyI0QTs0KjtFOyY4PTw7QC0eIysvNjk+IisuNyA+PkNDQTE+PURKPg==",
          "dtype": "i1"
         },
         "xaxis": "x",
         "yaxis": "y"
        },
        {
         "bingroup": "x",
         "hovertemplate": "cp=asymptomatic<br>age=%{x}<br>count=%{y}<extra></extra>",
         "legendgroup": "asymptomatic",
         "marker": {
          "color": "#EF553B",
          "pattern": {
           "shape": ""
          }
         },
         "name": "asymptomatic",
         "orientation": "v",
         "showlegend": true,
         "type": "histogram",
         "x": {
          "bdata": "Q0M+OT81OTY8Kyg8OyorOTdBPTJBLDw2KTM6Njw7Qz5BLDw6LTU1Qj40OzwwLTk7PSc9OCsjP0EwPzc4Nj4zRiM5KjdARjM6PE06OSM1Oz5AOTQ4MDg8Mys+Qy0yQCstOjI+QjQuQDs1Py82Qjc2OC4xQzovNDk6QCtDPSo0KD1CLkc6OTc9OjosPz87OUQ5IyUlJScnKSosLC0tLS4uLi4vMDAwMTEyMjIzNDU1NTY3Nzg5Ojs9PR8hJSYmJigpKSsuLi4vMDAwMTIzNDY2Nzs8P0EgJicoLS4uMDAwMDI0NDU2NjY2Nzg5OikrLDAxMTQ0NDQ1Njc4ODs7QUIpKywvLzExMjI0NDhBIiMkJiYmJigpKiorKysuLi8vMDIyMjIzMzMzMzMzNDQ0NDU1NTU2NjY3Nzc4ODg4ODk5OTk5Ojo6Ozs7Ozw8PDw8PT09PT09PT0+Pj4+Pz8/Pz9AQEBBQUFBQkJEREVFRkY/LDw3QTs+OT4/Lj88OkBFMzw4Nk0/QDw8OjsoPSk5PzszPjVENTszPTk6QTk2SzxAOj1DPkE/RTM+S0M6PD8rQT9APTI7N0FIMkA3Pzs4SjY5NkYwQjdLQDs3OT0pRyY3OEVASEU4PkM5RTMwRUA1Qzo9QDo8OTc4OUozPjU+LjY3Og==",
          "dtype": "i1"
         },
         "xaxis": "x",
         "yaxis": "y"
        },
        {
         "bingroup": "x",
         "hovertemplate": "cp=non-anginal<br>age=%{x}<br>count=%{y}<extra></extra>",
         "legendgroup": "non-anginal",
         "marker": {
          "color": "#00cc96",
          "pattern": {
           "shape": ""
          }
         },
         "name": "non-anginal",
         "orientation": "v",
         "showlegend": true,
         "type": "histogram",
         "x": {
          "bdata": "JTg0OTA6MjpALD07OjNBNTI2LjY8Ni5BQTMnRCwvNTM+LD9HMTk+OjM2MyszQDovKTxDRDYwNEYrNSpFMkQ5QCUpKTYnQzQxNjwzKkwsLDsqQicvQyYhJCQkJSUmJycnKCgoKioqKy0uLi8wMDExMzMzNDQ1NTY2Nzc4ODg6Ozs8LzExMjo2Oi8zNTYmJi0vLzU1ODg4OTs8PT5ISUJCPDw/P0o0Nzc0PTsqNzw4RUgzNygjP0QwLTE+PkwwPkc1Ojg6NkUlSjc9PTpE",
          "dtype": "i1"
         },
         "xaxis": "x",
         "yaxis": "y"
        },
        {
         "bingroup": "x",
         "hovertemplate": "cp=atypical angina<br>age=%{x}<br>count=%{y}<extra></extra>",
         "legendgroup": "atypical angina",
         "marker": {
          "color": "#ab63fa",
          "pattern": {
           "shape": ""
          }
         },
         "name": "atypical angina",
         "orientation": "v",
         "showlegend": true,
         "type": "histogram",
         "x": {
          "bdata": "KTg4LDAxOkcpLDA0NDYpLSwdNz47NC0uNi0/QjYyNy4iSjEqKSk+Rjk6OSM6ODg3KTkcHR0fICAgIiIiIyMkJSUmJicnJycnKCgpKSkpKSkqKiorKysrKyssLC0tLS4vLzAwMDAwMDExMTEyMjIyMzMzNDQ0NDQ1NTU1NjY2NjY2NjY2NjY2Nzc3Nzc3ODk6Ojs7PiMkOSw3ODo6NTU3Sjw4Pzg+Oj83PT02OT8+",
          "dtype": "i1"
         },
         "xaxis": "x",
         "yaxis": "y"
        }
       ],
       "layout": {
        "barmode": "relative",
        "legend": {
         "title": {
          "text": "cp"
         },
         "tracegroupgap": 0
        },
        "margin": {
         "t": 60
        },
        "template": {
         "data": {
          "bar": [
           {
            "error_x": {
             "color": "#2a3f5f"
            },
            "error_y": {
             "color": "#2a3f5f"
            },
            "marker": {
             "line": {
              "color": "#E5ECF6",
              "width": 0.5
             },
             "pattern": {
              "fillmode": "overlay",
              "size": 10,
              "solidity": 0.2
             }
            },
            "type": "bar"
           }
          ],
          "barpolar": [
           {
            "marker": {
             "line": {
              "color": "#E5ECF6",
              "width": 0.5
             },
             "pattern": {
              "fillmode": "overlay",
              "size": 10,
              "solidity": 0.2
             }
            },
            "type": "barpolar"
           }
          ],
          "carpet": [
           {
            "aaxis": {
             "endlinecolor": "#2a3f5f",
             "gridcolor": "white",
             "linecolor": "white",
             "minorgridcolor": "white",
             "startlinecolor": "#2a3f5f"
            },
            "baxis": {
             "endlinecolor": "#2a3f5f",
             "gridcolor": "white",
             "linecolor": "white",
             "minorgridcolor": "white",
             "startlinecolor": "#2a3f5f"
            },
            "type": "carpet"
           }
          ],
          "choropleth": [
           {
            "colorbar": {
             "outlinewidth": 0,
             "ticks": ""
            },
            "type": "choropleth"
           }
          ],
          "contour": [
           {
            "colorbar": {
             "outlinewidth": 0,
             "ticks": ""
            },
            "colorscale": [
             [
              0,
              "#0d0887"
             ],
             [
              0.1111111111111111,
              "#46039f"
             ],
             [
              0.2222222222222222,
              "#7201a8"
             ],
             [
              0.3333333333333333,
              "#9c179e"
             ],
             [
              0.4444444444444444,
              "#bd3786"
             ],
             [
              0.5555555555555556,
              "#d8576b"
             ],
             [
              0.6666666666666666,
              "#ed7953"
             ],
             [
              0.7777777777777778,
              "#fb9f3a"
             ],
             [
              0.8888888888888888,
              "#fdca26"
             ],
             [
              1,
              "#f0f921"
             ]
            ],
            "type": "contour"
           }
          ],
          "contourcarpet": [
           {
            "colorbar": {
             "outlinewidth": 0,
             "ticks": ""
            },
            "type": "contourcarpet"
           }
          ],
          "heatmap": [
           {
            "colorbar": {
             "outlinewidth": 0,
             "ticks": ""
            },
            "colorscale": [
             [
              0,
              "#0d0887"
             ],
             [
              0.1111111111111111,
              "#46039f"
             ],
             [
              0.2222222222222222,
              "#7201a8"
             ],
             [
              0.3333333333333333,
              "#9c179e"
             ],
             [
              0.4444444444444444,
              "#bd3786"
             ],
             [
              0.5555555555555556,
              "#d8576b"
             ],
             [
              0.6666666666666666,
              "#ed7953"
             ],
             [
              0.7777777777777778,
              "#fb9f3a"
             ],
             [
              0.8888888888888888,
              "#fdca26"
             ],
             [
              1,
              "#f0f921"
             ]
            ],
            "type": "heatmap"
           }
          ],
          "histogram": [
           {
            "marker": {
             "pattern": {
              "fillmode": "overlay",
              "size": 10,
              "solidity": 0.2
             }
            },
            "type": "histogram"
           }
          ],
          "histogram2d": [
           {
            "colorbar": {
             "outlinewidth": 0,
             "ticks": ""
            },
            "colorscale": [
             [
              0,
              "#0d0887"
             ],
             [
              0.1111111111111111,
              "#46039f"
             ],
             [
              0.2222222222222222,
              "#7201a8"
             ],
             [
              0.3333333333333333,
              "#9c179e"
             ],
             [
              0.4444444444444444,
              "#bd3786"
             ],
             [
              0.5555555555555556,
              "#d8576b"
             ],
             [
              0.6666666666666666,
              "#ed7953"
             ],
             [
              0.7777777777777778,
              "#fb9f3a"
             ],
             [
              0.8888888888888888,
              "#fdca26"
             ],
             [
              1,
              "#f0f921"
             ]
            ],
            "type": "histogram2d"
           }
          ],
          "histogram2dcontour": [
           {
            "colorbar": {
             "outlinewidth": 0,
             "ticks": ""
            },
            "colorscale": [
             [
              0,
              "#0d0887"
             ],
             [
              0.1111111111111111,
              "#46039f"
             ],
             [
              0.2222222222222222,
              "#7201a8"
             ],
             [
              0.3333333333333333,
              "#9c179e"
             ],
             [
              0.4444444444444444,
              "#bd3786"
             ],
             [
              0.5555555555555556,
              "#d8576b"
             ],
             [
              0.6666666666666666,
              "#ed7953"
             ],
             [
              0.7777777777777778,
              "#fb9f3a"
             ],
             [
              0.8888888888888888,
              "#fdca26"
             ],
             [
              1,
              "#f0f921"
             ]
            ],
            "type": "histogram2dcontour"
           }
          ],
          "mesh3d": [
           {
            "colorbar": {
             "outlinewidth": 0,
             "ticks": ""
            },
            "type": "mesh3d"
           }
          ],
          "parcoords": [
           {
            "line": {
             "colorbar": {
              "outlinewidth": 0,
              "ticks": ""
             }
            },
            "type": "parcoords"
           }
          ],
          "pie": [
           {
            "automargin": true,
            "type": "pie"
           }
          ],
          "scatter": [
           {
            "fillpattern": {
             "fillmode": "overlay",
             "size": 10,
             "solidity": 0.2
            },
            "type": "scatter"
           }
          ],
          "scatter3d": [
           {
            "line": {
             "colorbar": {
              "outlinewidth": 0,
              "ticks": ""
             }
            },
            "marker": {
             "colorbar": {
              "outlinewidth": 0,
              "ticks": ""
             }
            },
            "type": "scatter3d"
           }
          ],
          "scattercarpet": [
           {
            "marker": {
             "colorbar": {
              "outlinewidth": 0,
              "ticks": ""
             }
            },
            "type": "scattercarpet"
           }
          ],
          "scattergeo": [
           {
            "marker": {
             "colorbar": {
              "outlinewidth": 0,
              "ticks": ""
             }
            },
            "type": "scattergeo"
           }
          ],
          "scattergl": [
           {
            "marker": {
             "colorbar": {
              "outlinewidth": 0,
              "ticks": ""
             }
            },
            "type": "scattergl"
           }
          ],
          "scattermap": [
           {
            "marker": {
             "colorbar": {
              "outlinewidth": 0,
              "ticks": ""
             }
            },
            "type": "scattermap"
           }
          ],
          "scattermapbox": [
           {
            "marker": {
             "colorbar": {
              "outlinewidth": 0,
              "ticks": ""
             }
            },
            "type": "scattermapbox"
           }
          ],
          "scatterpolar": [
           {
            "marker": {
             "colorbar": {
              "outlinewidth": 0,
              "ticks": ""
             }
            },
            "type": "scatterpolar"
           }
          ],
          "scatterpolargl": [
           {
            "marker": {
             "colorbar": {
              "outlinewidth": 0,
              "ticks": ""
             }
            },
            "type": "scatterpolargl"
           }
          ],
          "scatterternary": [
           {
            "marker": {
             "colorbar": {
              "outlinewidth": 0,
              "ticks": ""
             }
            },
            "type": "scatterternary"
           }
          ],
          "surface": [
           {
            "colorbar": {
             "outlinewidth": 0,
             "ticks": ""
            },
            "colorscale": [
             [
              0,
              "#0d0887"
             ],
             [
              0.1111111111111111,
              "#46039f"
             ],
             [
              0.2222222222222222,
              "#7201a8"
             ],
             [
              0.3333333333333333,
              "#9c179e"
             ],
             [
              0.4444444444444444,
              "#bd3786"
             ],
             [
              0.5555555555555556,
              "#d8576b"
             ],
             [
              0.6666666666666666,
              "#ed7953"
             ],
             [
              0.7777777777777778,
              "#fb9f3a"
             ],
             [
              0.8888888888888888,
              "#fdca26"
             ],
             [
              1,
              "#f0f921"
             ]
            ],
            "type": "surface"
           }
          ],
          "table": [
           {
            "cells": {
             "fill": {
              "color": "#EBF0F8"
             },
             "line": {
              "color": "white"
             }
            },
            "header": {
             "fill": {
              "color": "#C8D4E3"
             },
             "line": {
              "color": "white"
             }
            },
            "type": "table"
           }
          ]
         },
         "layout": {
          "annotationdefaults": {
           "arrowcolor": "#2a3f5f",
           "arrowhead": 0,
           "arrowwidth": 1
          },
          "autotypenumbers": "strict",
          "coloraxis": {
           "colorbar": {
            "outlinewidth": 0,
            "ticks": ""
           }
          },
          "colorscale": {
           "diverging": [
            [
             0,
             "#8e0152"
            ],
            [
             0.1,
             "#c51b7d"
            ],
            [
             0.2,
             "#de77ae"
            ],
            [
             0.3,
             "#f1b6da"
            ],
            [
             0.4,
             "#fde0ef"
            ],
            [
             0.5,
             "#f7f7f7"
            ],
            [
             0.6,
             "#e6f5d0"
            ],
            [
             0.7,
             "#b8e186"
            ],
            [
             0.8,
             "#7fbc41"
            ],
            [
             0.9,
             "#4d9221"
            ],
            [
             1,
             "#276419"
            ]
           ],
           "sequential": [
            [
             0,
             "#0d0887"
            ],
            [
             0.1111111111111111,
             "#46039f"
            ],
            [
             0.2222222222222222,
             "#7201a8"
            ],
            [
             0.3333333333333333,
             "#9c179e"
            ],
            [
             0.4444444444444444,
             "#bd3786"
            ],
            [
             0.5555555555555556,
             "#d8576b"
            ],
            [
             0.6666666666666666,
             "#ed7953"
            ],
            [
             0.7777777777777778,
             "#fb9f3a"
            ],
            [
             0.8888888888888888,
             "#fdca26"
            ],
            [
             1,
             "#f0f921"
            ]
           ],
           "sequentialminus": [
            [
             0,
             "#0d0887"
            ],
            [
             0.1111111111111111,
             "#46039f"
            ],
            [
             0.2222222222222222,
             "#7201a8"
            ],
            [
             0.3333333333333333,
             "#9c179e"
            ],
            [
             0.4444444444444444,
             "#bd3786"
            ],
            [
             0.5555555555555556,
             "#d8576b"
            ],
            [
             0.6666666666666666,
             "#ed7953"
            ],
            [
             0.7777777777777778,
             "#fb9f3a"
            ],
            [
             0.8888888888888888,
             "#fdca26"
            ],
            [
             1,
             "#f0f921"
            ]
           ]
          },
          "colorway": [
           "#636efa",
           "#EF553B",
           "#00cc96",
           "#ab63fa",
           "#FFA15A",
           "#19d3f3",
           "#FF6692",
           "#B6E880",
           "#FF97FF",
           "#FECB52"
          ],
          "font": {
           "color": "#2a3f5f"
          },
          "geo": {
           "bgcolor": "white",
           "lakecolor": "white",
           "landcolor": "#E5ECF6",
           "showlakes": true,
           "showland": true,
           "subunitcolor": "white"
          },
          "hoverlabel": {
           "align": "left"
          },
          "hovermode": "closest",
          "mapbox": {
           "style": "light"
          },
          "paper_bgcolor": "white",
          "plot_bgcolor": "#E5ECF6",
          "polar": {
           "angularaxis": {
            "gridcolor": "white",
            "linecolor": "white",
            "ticks": ""
           },
           "bgcolor": "#E5ECF6",
           "radialaxis": {
            "gridcolor": "white",
            "linecolor": "white",
            "ticks": ""
           }
          },
          "scene": {
           "xaxis": {
            "backgroundcolor": "#E5ECF6",
            "gridcolor": "white",
            "gridwidth": 2,
            "linecolor": "white",
            "showbackground": true,
            "ticks": "",
            "zerolinecolor": "white"
           },
           "yaxis": {
            "backgroundcolor": "#E5ECF6",
            "gridcolor": "white",
            "gridwidth": 2,
            "linecolor": "white",
            "showbackground": true,
            "ticks": "",
            "zerolinecolor": "white"
           },
           "zaxis": {
            "backgroundcolor": "#E5ECF6",
            "gridcolor": "white",
            "gridwidth": 2,
            "linecolor": "white",
            "showbackground": true,
            "ticks": "",
            "zerolinecolor": "white"
           }
          },
          "shapedefaults": {
           "line": {
            "color": "#2a3f5f"
           }
          },
          "ternary": {
           "aaxis": {
            "gridcolor": "white",
            "linecolor": "white",
            "ticks": ""
           },
           "baxis": {
            "gridcolor": "white",
            "linecolor": "white",
            "ticks": ""
           },
           "bgcolor": "#E5ECF6",
           "caxis": {
            "gridcolor": "white",
            "linecolor": "white",
            "ticks": ""
           }
          },
          "title": {
           "x": 0.05
          },
          "xaxis": {
           "automargin": true,
           "gridcolor": "white",
           "linecolor": "white",
           "ticks": "",
           "title": {
            "standoff": 15
           },
           "zerolinecolor": "white",
           "zerolinewidth": 2
          },
          "yaxis": {
           "automargin": true,
           "gridcolor": "white",
           "linecolor": "white",
           "ticks": "",
           "title": {
            "standoff": 15
           },
           "zerolinecolor": "white",
           "zerolinewidth": 2
          }
         }
        },
        "xaxis": {
         "anchor": "y",
         "domain": [
          0,
          1
         ],
         "title": {
          "text": "age"
         }
        },
        "yaxis": {
         "anchor": "x",
         "domain": [
          0,
          1
         ],
         "title": {
          "text": "count"
         }
        }
       }
      }
     },
     "metadata": {},
     "output_type": "display_data"
    }
   ],
   "source": [
    "# draw the plot of age column grouped by cp column using plotly\n",
    "fig_3 = px.histogram(data_frame=df,x=\"age\",color=\"cp\")\n",
    "fig_3.show()"
   ]
  },
  {
   "cell_type": "markdown",
   "id": "bc96da7b",
   "metadata": {
    "id": "YDH53GPWPzSJ",
    "papermill": {
     "duration": 0.046133,
     "end_time": "2024-05-18T13:04:39.317712",
     "exception": false,
     "start_time": "2024-05-18T13:04:39.271579",
     "status": "completed"
    },
    "tags": []
   },
   "source": [
    "### **`Observations`**\n",
    "  \n",
    "1. **`Prevalence of Chest Pain Types:`** The most common type of chest pain in the dataset is **`asymptomatic, with 496 occurrences`**. This suggests that a significant number of patients did not experience typical symptoms associated with heart conditions.\n",
    "   \n",
    "2. **`Age Distribution:`** The stacked bar chart indicates that asymptomatic chest pain is most prevalent across all age groups, especially around the age group of 55-60. This could imply a higher risk of undetected cardiac issues in this age bracket.\n",
    "   \n",
    "3. **`Comparison of Chest Pain Types:`** **Non-anginal pain is the second most common**, followed by atypical angina, and **typical angina is the least common**. This distribution might be useful for medical professionals to prioritize diagnostic testing and treatment strategies.\n",
    "   \n",
    "4. **`Dataset Source Distribution:`** The data comes from multiple sources, with the **majority being from Cleveland and Hungary**. This diversity in data sources can help in generalizing the findings across different populations."
   ]
  },
  {
   "cell_type": "markdown",
   "id": "4e6b9306",
   "metadata": {
    "id": "EcZ2-zKBQIQn",
    "papermill": {
     "duration": 0.046253,
     "end_time": "2024-05-18T13:04:39.410449",
     "exception": false,
     "start_time": "2024-05-18T13:04:39.364196",
     "status": "completed"
    },
    "tags": []
   },
   "source": [
    "# **<font color='blue'>Exploring `trestbps`\tResting blood pressure (in mm Hg on admission to the hospital) </font>**"
   ]
  },
  {
   "cell_type": "code",
   "execution_count": 304,
   "id": "804fd16b",
   "metadata": {
    "execution": {
     "iopub.execute_input": "2024-05-18T13:04:39.505617Z",
     "iopub.status.busy": "2024-05-18T13:04:39.505169Z",
     "iopub.status.idle": "2024-05-18T13:04:39.517940Z",
     "shell.execute_reply": "2024-05-18T13:04:39.516975Z"
    },
    "id": "1WFsu8N9OeDR",
    "outputId": "122c02ac-9914-491c-ef0e-5e5637cd27dd",
    "papermill": {
     "duration": 0.06389,
     "end_time": "2024-05-18T13:04:39.520684",
     "exception": false,
     "start_time": "2024-05-18T13:04:39.456794",
     "status": "completed"
    },
    "tags": []
   },
   "outputs": [
    {
     "data": {
      "text/plain": [
       "count    861.000000\n",
       "mean     132.132404\n",
       "std       19.066070\n",
       "min        0.000000\n",
       "25%      120.000000\n",
       "50%      130.000000\n",
       "75%      140.000000\n",
       "max      200.000000\n",
       "Name: trestbps, dtype: float64"
      ]
     },
     "execution_count": 304,
     "metadata": {},
     "output_type": "execute_result"
    }
   ],
   "source": [
    "# let's check summary of trestbps\n",
    "df[\"trestbps\"].describe()"
   ]
  },
  {
   "cell_type": "code",
   "execution_count": 305,
   "id": "636d2ffc",
   "metadata": {
    "execution": {
     "iopub.execute_input": "2024-05-18T13:04:39.615362Z",
     "iopub.status.busy": "2024-05-18T13:04:39.614570Z",
     "iopub.status.idle": "2024-05-18T13:04:40.120951Z",
     "shell.execute_reply": "2024-05-18T13:04:40.119787Z"
    },
    "id": "76chxmOOWTkh",
    "outputId": "82f96950-e2d8-4a73-f0cb-ea4cd630f03a",
    "papermill": {
     "duration": 0.55778,
     "end_time": "2024-05-18T13:04:40.124139",
     "exception": false,
     "start_time": "2024-05-18T13:04:39.566359",
     "status": "completed"
    },
    "tags": []
   },
   "outputs": [
    {
     "data": {
      "image/png": "[encoded data removed]",
      "text/plain": [
       "<Figure size 1600x900 with 1 Axes>"
      ]
     },
     "metadata": {},
     "output_type": "display_data"
    }
   ],
   "source": [
    "# Set the figure size to 16x9\n",
    "plt.figure(figsize=(16, 9))\n",
    "\n",
    "# Create a histplot of the trestbps column with a KDE overlay\n",
    "sns.histplot(data=df, x=\"trestbps\", kde=True, bins=50, color='c')\n",
    "\n",
    "# Display the plot\n",
    "plt.show()\n"
   ]
  },
  {
   "cell_type": "markdown",
   "id": "84c6ce53",
   "metadata": {
    "id": "vlKlSCo3ZXWS",
    "papermill": {
     "duration": 0.047397,
     "end_time": "2024-05-18T13:04:40.219500",
     "exception": false,
     "start_time": "2024-05-18T13:04:40.172103",
     "status": "completed"
    },
    "tags": []
   },
   "source": [
    "### **Observation about trestbps**\n",
    "\n",
    "- **Distribution and Shape:** The histogram displays the distribution of resting blood pressure (trestbps) measurements, revealing a right-skewed distribution with the majority of values clustering around 120-130 mm Hg. The kernel density estimate (KDE) overlay suggests a unimodal distribution with a peak near this range.\n",
    "\n",
    "- **Central Tendency and Spread:** The most common resting blood pressure readings are between 120 and 140 mm Hg, with the highest count observed around 130 mm Hg. There are fewer instances of extremely low or high blood pressure values, indicating that most patients' resting blood pressures fall within a relatively narrow range.\n",
    "\n",
    "- **Outliers and Variability:** There are a few outliers with extremely low (near 0 mm Hg) and high (above 180 mm Hg) resting blood pressures. These outliers are rare but indicate the presence of some variability and potential anomalies or special cases in the dataset."
   ]
  },
  {
   "cell_type": "markdown",
   "id": "7c85a7ca",
   "metadata": {
    "id": "r5nJ5orOajuP",
    "papermill": {
     "duration": 0.047066,
     "end_time": "2024-05-18T13:04:40.315883",
     "exception": false,
     "start_time": "2024-05-18T13:04:40.268817",
     "status": "completed"
    },
    "tags": []
   },
   "source": [
    "# **<font color='blue'>Exploring `chol`\tSerum cholesterol in mg/dl </font>**"
   ]
  },
  {
   "cell_type": "code",
   "execution_count": 306,
   "id": "555eadf2",
   "metadata": {
    "execution": {
     "iopub.execute_input": "2024-05-18T13:04:40.412468Z",
     "iopub.status.busy": "2024-05-18T13:04:40.412059Z",
     "iopub.status.idle": "2024-05-18T13:04:40.425048Z",
     "shell.execute_reply": "2024-05-18T13:04:40.423843Z"
    },
    "id": "XJR4cf3neDjC",
    "outputId": "5baa7084-cf3e-4dc4-fec7-a8f7e47e2c6c",
    "papermill": {
     "duration": 0.064151,
     "end_time": "2024-05-18T13:04:40.427317",
     "exception": false,
     "start_time": "2024-05-18T13:04:40.363166",
     "status": "completed"
    },
    "tags": []
   },
   "outputs": [
    {
     "data": {
      "text/plain": [
       "chol\n",
       "0.0      172\n",
       "220.0     10\n",
       "254.0     10\n",
       "223.0      9\n",
       "230.0      9\n",
       "        ... \n",
       "360.0      1\n",
       "412.0      1\n",
       "358.0      1\n",
       "321.0      1\n",
       "385.0      1\n",
       "Name: count, Length: 217, dtype: int64"
      ]
     },
     "execution_count": 306,
     "metadata": {},
     "output_type": "execute_result"
    }
   ],
   "source": [
    "df[\"chol\"].value_counts()"
   ]
  },
  {
   "cell_type": "code",
   "execution_count": 307,
   "id": "13797ff5",
   "metadata": {
    "execution": {
     "iopub.execute_input": "2024-05-18T13:04:40.526131Z",
     "iopub.status.busy": "2024-05-18T13:04:40.524985Z",
     "iopub.status.idle": "2024-05-18T13:04:40.536642Z",
     "shell.execute_reply": "2024-05-18T13:04:40.535705Z"
    },
    "id": "BpmlnHImWUD1",
    "outputId": "3a84f3d1-7e68-4e78-ece3-cf1e51eb3719",
    "papermill": {
     "duration": 0.064015,
     "end_time": "2024-05-18T13:04:40.538862",
     "exception": false,
     "start_time": "2024-05-18T13:04:40.474847",
     "status": "completed"
    },
    "tags": []
   },
   "outputs": [
    {
     "data": {
      "text/plain": [
       "count    890.000000\n",
       "mean     199.130337\n",
       "std      110.780810\n",
       "min        0.000000\n",
       "25%      175.000000\n",
       "50%      223.000000\n",
       "75%      268.000000\n",
       "max      603.000000\n",
       "Name: chol, dtype: float64"
      ]
     },
     "execution_count": 307,
     "metadata": {},
     "output_type": "execute_result"
    }
   ],
   "source": [
    "# let's check summary of chol\n",
    "df[\"chol\"].describe()"
   ]
  },
  {
   "cell_type": "code",
   "execution_count": 308,
   "id": "742272bc",
   "metadata": {
    "execution": {
     "iopub.execute_input": "2024-05-18T13:04:40.636333Z",
     "iopub.status.busy": "2024-05-18T13:04:40.635882Z",
     "iopub.status.idle": "2024-05-18T13:04:41.111878Z",
     "shell.execute_reply": "2024-05-18T13:04:41.111001Z"
    },
    "id": "TYn0q63BeGKC",
    "outputId": "024cf9bf-6996-48f9-fdde-5c321708b7c5",
    "papermill": {
     "duration": 0.527356,
     "end_time": "2024-05-18T13:04:41.114205",
     "exception": false,
     "start_time": "2024-05-18T13:04:40.586849",
     "status": "completed"
    },
    "tags": []
   },
   "outputs": [
    {
     "data": {
      "image/png": "[encoded data removed]",
      "text/plain": [
       "<Figure size 1600x900 with 1 Axes>"
      ]
     },
     "metadata": {},
     "output_type": "display_data"
    }
   ],
   "source": [
    "# Set the figure size to 16x9\n",
    "plt.figure(figsize=(16, 9))\n",
    "\n",
    "# Create a histplot of the chol column with a KDE overlay\n",
    "sns.histplot(data=df, x=\"chol\", kde=True, bins=50, color='m')\n",
    "\n",
    "# Display the plot\n",
    "plt.show()"
   ]
  },
  {
   "cell_type": "markdown",
   "id": "24b2ccde",
   "metadata": {
    "id": "ZryPyBaDfRa7",
    "papermill": {
     "duration": 0.05012,
     "end_time": "2024-05-18T13:04:41.213645",
     "exception": false,
     "start_time": "2024-05-18T13:04:41.163525",
     "status": "completed"
    },
    "tags": []
   },
   "source": [
    "### **Observations about chol**\n",
    "\n",
    "- **High Frequency of Zero Values:** The histogram shows a significant spike at 0 mg/dl, indicating that a large number of entries have a serum cholesterol value recorded as zero, which could be due to missing or erroneous data.\n",
    "\n",
    "- **Normal Distribution Among Non-Zero Values:** Excluding the zero values, the distribution of serum cholesterol appears roughly normal, with most values concentrated between 150 and 300 mg/dl, peaking around 250 mg/dl.\n",
    "\n",
    "- **Right-Skewed Tail:** The distribution has a long tail to the right, showing that while most individuals have serum cholesterol levels below 400 mg/dl, there are some outliers with much higher cholesterol levels, extending up to 600 mg/dl."
   ]
  },
  {
   "cell_type": "markdown",
   "id": "b922ca20",
   "metadata": {
    "id": "jS3BOGGZfrWj",
    "papermill": {
     "duration": 0.048249,
     "end_time": "2024-05-18T13:04:41.310665",
     "exception": false,
     "start_time": "2024-05-18T13:04:41.262416",
     "status": "completed"
    },
    "tags": []
   },
   "source": [
    "# **<font color='blue'>Exploring `fbs`\tIf fasting blood sugar > 120 mg/dl (True/False) </font>**\n",
    "\n",
    "\n"
   ]
  },
  {
   "cell_type": "code",
   "execution_count": 309,
   "id": "c023b9af",
   "metadata": {
    "execution": {
     "iopub.execute_input": "2024-05-18T13:04:41.409885Z",
     "iopub.status.busy": "2024-05-18T13:04:41.409160Z",
     "iopub.status.idle": "2024-05-18T13:04:41.416864Z",
     "shell.execute_reply": "2024-05-18T13:04:41.416076Z"
    },
    "id": "uf3MUg0xeb-v",
    "outputId": "3b36a4d6-dc38-40d2-83b8-eac37368be33",
    "papermill": {
     "duration": 0.059888,
     "end_time": "2024-05-18T13:04:41.419034",
     "exception": false,
     "start_time": "2024-05-18T13:04:41.359146",
     "status": "completed"
    },
    "tags": []
   },
   "outputs": [
    {
     "data": {
      "text/plain": [
       "fbs\n",
       "False    692\n",
       "True     138\n",
       "Name: count, dtype: int64"
      ]
     },
     "execution_count": 309,
     "metadata": {},
     "output_type": "execute_result"
    }
   ],
   "source": [
    "df[\"fbs\"].value_counts()"
   ]
  },
  {
   "cell_type": "markdown",
   "id": "e7c40fb5",
   "metadata": {
    "id": "EqMWzzdxjkSr",
    "papermill": {
     "duration": 0.048092,
     "end_time": "2024-05-18T13:04:41.515977",
     "exception": false,
     "start_time": "2024-05-18T13:04:41.467885",
     "status": "completed"
    },
    "tags": []
   },
   "source": [
    "### **Let's Visualize fbs**"
   ]
  },
  {
   "cell_type": "code",
   "execution_count": 310,
   "id": "0bab9fe3",
   "metadata": {
    "execution": {
     "iopub.execute_input": "2024-05-18T13:04:41.615642Z",
     "iopub.status.busy": "2024-05-18T13:04:41.614918Z",
     "iopub.status.idle": "2024-05-18T13:04:41.913115Z",
     "shell.execute_reply": "2024-05-18T13:04:41.911647Z"
    },
    "id": "MPPLUP44f-lj",
    "outputId": "67f671fa-59c9-4db6-8bcf-8da0055993bc",
    "papermill": {
     "duration": 0.3513,
     "end_time": "2024-05-18T13:04:41.916019",
     "exception": false,
     "start_time": "2024-05-18T13:04:41.564719",
     "status": "completed"
    },
    "tags": []
   },
   "outputs": [
    {
     "data": {
      "image/png": "[encoded data removed]",
      "text/plain": [
       "<Figure size 1600x900 with 1 Axes>"
      ]
     },
     "metadata": {},
     "output_type": "display_data"
    }
   ],
   "source": [
    "categories = ['False', 'True']\n",
    "counts = [692, 138]\n",
    "\n",
    "# Create a bar chart\n",
    "plt.figure(figsize=(16, 9))  # Set the plot size\n",
    "plt.bar(categories, counts, color=['red', 'green'])  # Different colors for True and False\n",
    "plt.xlabel('Categories')\n",
    "plt.ylabel('Count')\n",
    "plt.title('Bar Chart: False vs. True')\n",
    "plt.show()\n"
   ]
  },
  {
   "cell_type": "markdown",
   "id": "6b35d322",
   "metadata": {
    "id": "qbhdNCvijCrZ",
    "papermill": {
     "duration": 0.048964,
     "end_time": "2024-05-18T13:04:42.014585",
     "exception": false,
     "start_time": "2024-05-18T13:04:41.965621",
     "status": "completed"
    },
    "tags": []
   },
   "source": [
    "#### **Observations About fbs**\n",
    "Here are three key points to interpret the modified bar chart:\n",
    "\n",
    "**Categories and Counts:**\n",
    "\n",
    "- The chart represents two categories: “False” and “True.”\n",
    "- The vertical bars show the count or frequency of each category.\n",
    "- In this specific data, there were 692 occurrences of “False” and 138 occurrences of “True.”\n",
    "\n",
    "**Color Differentiation:**\n",
    "\n",
    "- The bars are colored differently to distinguish between the two categories.\n",
    "- The red bars represent “False,” while the green bars represent “True.”"
   ]
  },
  {
   "cell_type": "markdown",
   "id": "6f3147d0",
   "metadata": {
    "id": "mmSAq1EDjf5i",
    "papermill": {
     "duration": 0.048604,
     "end_time": "2024-05-18T13:04:42.112408",
     "exception": false,
     "start_time": "2024-05-18T13:04:42.063804",
     "status": "completed"
    },
    "tags": []
   },
   "source": [
    "# **<font color='blue'>Exploring `restecg` Resting electrocardiographic results (Values: normal, stt abnormality, lv hypertrophy) </font>**\n",
    "\n",
    "Here’s a brief explanation for each value of the “restecg” feature in the context of resting electrocardiographic results:\n",
    "\n",
    "- **Normal:** Indicates a standard resting ECG without any significant abnormalities.\n",
    "\n",
    "- **ST-T Wave Abnormality:** Refers to T-wave inversions and/or ST elevation or depression greater than 0.05 mV.\n",
    "\n",
    "- **Probable or Definite Left Ventricular Hypertrophy:** Suggests an enlarged left ventricle based on Estes’ criteria1. LVH is associated with increased heart muscle mass."
   ]
  },
  {
   "cell_type": "code",
   "execution_count": 311,
   "id": "976f29e3",
   "metadata": {
    "execution": {
     "iopub.execute_input": "2024-05-18T13:04:42.216558Z",
     "iopub.status.busy": "2024-05-18T13:04:42.216164Z",
     "iopub.status.idle": "2024-05-18T13:04:42.225115Z",
     "shell.execute_reply": "2024-05-18T13:04:42.223934Z"
    },
    "id": "64JKSNNAiJyt",
    "outputId": "a54e7aee-3a5a-4ba7-e8dc-21023e822964",
    "papermill": {
     "duration": 0.064851,
     "end_time": "2024-05-18T13:04:42.227629",
     "exception": false,
     "start_time": "2024-05-18T13:04:42.162778",
     "status": "completed"
    },
    "tags": []
   },
   "outputs": [
    {
     "data": {
      "text/plain": [
       "restecg\n",
       "normal              551\n",
       "lv hypertrophy      188\n",
       "st-t abnormality    179\n",
       "Name: count, dtype: int64"
      ]
     },
     "execution_count": 311,
     "metadata": {},
     "output_type": "execute_result"
    }
   ],
   "source": [
    "df[\"restecg\"].value_counts()"
   ]
  },
  {
   "cell_type": "markdown",
   "id": "70789b9e",
   "metadata": {
    "id": "l20ramzdmIuT",
    "papermill": {
     "duration": 0.048873,
     "end_time": "2024-05-18T13:04:42.331421",
     "exception": false,
     "start_time": "2024-05-18T13:04:42.282548",
     "status": "completed"
    },
    "tags": []
   },
   "source": [
    "### **Let's Visualize restecg**"
   ]
  },
  {
   "cell_type": "code",
   "execution_count": 312,
   "id": "83c53b0b",
   "metadata": {
    "execution": {
     "iopub.execute_input": "2024-05-18T13:04:42.456247Z",
     "iopub.status.busy": "2024-05-18T13:04:42.454835Z",
     "iopub.status.idle": "2024-05-18T13:04:42.752709Z",
     "shell.execute_reply": "2024-05-18T13:04:42.751533Z"
    },
    "id": "hLq8KymOlPp-",
    "outputId": "f07a12cc-6ea4-4f6f-c9ad-e0efa3e183d7",
    "papermill": {
     "duration": 0.370094,
     "end_time": "2024-05-18T13:04:42.755253",
     "exception": false,
     "start_time": "2024-05-18T13:04:42.385159",
     "status": "completed"
    },
    "tags": []
   },
   "outputs": [
    {
     "data": {
      "image/png": "[encoded data removed]",
      "text/plain": [
       "<Figure size 1600x900 with 1 Axes>"
      ]
     },
     "metadata": {},
     "output_type": "display_data"
    }
   ],
   "source": [
    "import matplotlib.pyplot as plt\n",
    "\n",
    "values = [\"Normal\", \"LV Hypertrophy\", \"ST-T Abnormality\"]\n",
    "counts = [551, 188, 179]\n",
    "\n",
    "# Custom colors for bars\n",
    "colors = [\"skyblue\", \"salmon\", \"limegreen\"]\n",
    "\n",
    "# Create the bar chart\n",
    "plt.figure(figsize=(16, 9))\n",
    "plt.bar(values, counts, color=colors)\n",
    "plt.xlabel(\"Restecg Values\")\n",
    "plt.ylabel(\"Counts\")\n",
    "plt.title(\"Restecg Distribution\")\n",
    "plt.show()\n",
    "\n"
   ]
  },
  {
   "cell_type": "markdown",
   "id": "705701ef",
   "metadata": {
    "id": "4usLI_x8mxqL",
    "papermill": {
     "duration": 0.048904,
     "end_time": "2024-05-18T13:04:42.853701",
     "exception": false,
     "start_time": "2024-05-18T13:04:42.804797",
     "status": "completed"
    },
    "tags": []
   },
   "source": [
    "### **Observations about restecg**\n",
    "Here’s the interpretation of the bar chart:\n",
    "\n",
    "**Restecg Values Distribution:**\n",
    "\n",
    "The chart represents the distribution of three different Restecg values: - - - - “Normal,” “LV Hypertrophy,” and “ST-T Abnormality.”\n",
    "- The majority of cases fall into the “Normal” category, with 551 occurrences.\n",
    "- “LV Hypertrophy” and “ST-T Abnormality” have fewer occurrences, with 188 and 179 cases, respectively.\n",
    "\n",
    "**Color-Coded Bars:**\n",
    "\n",
    "- Each bar corresponds to one of the Restecg values.\n",
    "- The “Normal” bar is colored in sky blue, “LV Hypertrophy” in salmon, and “ST-T Abnormality” in lime green."
   ]
  },
  {
   "cell_type": "markdown",
   "id": "95af6048",
   "metadata": {
    "id": "AqcB86ZpnSdT",
    "papermill": {
     "duration": 0.049239,
     "end_time": "2024-05-18T13:04:42.952480",
     "exception": false,
     "start_time": "2024-05-18T13:04:42.903241",
     "status": "completed"
    },
    "tags": []
   },
   "source": [
    "# **<font color='blue'>Exploring `thalch` Maximum heart rate achieved </font>**"
   ]
  },
  {
   "cell_type": "code",
   "execution_count": 313,
   "id": "cf942691",
   "metadata": {
    "execution": {
     "iopub.execute_input": "2024-05-18T13:04:43.056178Z",
     "iopub.status.busy": "2024-05-18T13:04:43.054701Z",
     "iopub.status.idle": "2024-05-18T13:04:43.065988Z",
     "shell.execute_reply": "2024-05-18T13:04:43.064821Z"
    },
    "id": "_MuEmOmglqXp",
    "outputId": "ae7877e1-e22f-4f3e-d942-c1766f874e55",
    "papermill": {
     "duration": 0.065305,
     "end_time": "2024-05-18T13:04:43.068307",
     "exception": false,
     "start_time": "2024-05-18T13:04:43.003002",
     "status": "completed"
    },
    "tags": []
   },
   "outputs": [
    {
     "data": {
      "text/plain": [
       "thalch\n",
       "150.0    43\n",
       "140.0    41\n",
       "120.0    35\n",
       "130.0    30\n",
       "160.0    26\n",
       "         ..\n",
       "195.0     1\n",
       "91.0      1\n",
       "87.0      1\n",
       "192.0     1\n",
       "73.0      1\n",
       "Name: count, Length: 119, dtype: int64"
      ]
     },
     "execution_count": 313,
     "metadata": {},
     "output_type": "execute_result"
    }
   ],
   "source": [
    "df[\"thalch\"].value_counts()"
   ]
  },
  {
   "cell_type": "code",
   "execution_count": 314,
   "id": "1ee52911",
   "metadata": {
    "execution": {
     "iopub.execute_input": "2024-05-18T13:04:43.171990Z",
     "iopub.status.busy": "2024-05-18T13:04:43.170696Z",
     "iopub.status.idle": "2024-05-18T13:04:43.183359Z",
     "shell.execute_reply": "2024-05-18T13:04:43.182192Z"
    },
    "id": "1PZekBfWn76I",
    "outputId": "b86e28c2-be55-41e7-89bc-48408525e45e",
    "papermill": {
     "duration": 0.067719,
     "end_time": "2024-05-18T13:04:43.185672",
     "exception": false,
     "start_time": "2024-05-18T13:04:43.117953",
     "status": "completed"
    },
    "tags": []
   },
   "outputs": [
    {
     "data": {
      "text/plain": [
       "count    865.000000\n",
       "mean     137.545665\n",
       "std       25.926276\n",
       "min       60.000000\n",
       "25%      120.000000\n",
       "50%      140.000000\n",
       "75%      157.000000\n",
       "max      202.000000\n",
       "Name: thalch, dtype: float64"
      ]
     },
     "execution_count": 314,
     "metadata": {},
     "output_type": "execute_result"
    }
   ],
   "source": [
    "# let's check summary of thalch\n",
    "df[\"thalch\"].describe()"
   ]
  },
  {
   "cell_type": "markdown",
   "id": "cc483043",
   "metadata": {
    "id": "7K4WSMQCpC6q",
    "papermill": {
     "duration": 0.053552,
     "end_time": "2024-05-18T13:04:43.289403",
     "exception": false,
     "start_time": "2024-05-18T13:04:43.235851",
     "status": "completed"
    },
    "tags": []
   },
   "source": [
    "### **Let's Visualize thalch**"
   ]
  },
  {
   "cell_type": "code",
   "execution_count": 315,
   "id": "69f8c8b8",
   "metadata": {
    "execution": {
     "iopub.execute_input": "2024-05-18T13:04:43.394032Z",
     "iopub.status.busy": "2024-05-18T13:04:43.392666Z",
     "iopub.status.idle": "2024-05-18T13:04:43.892755Z",
     "shell.execute_reply": "2024-05-18T13:04:43.891806Z"
    },
    "id": "tqw7xRgxoMmV",
    "outputId": "0d5ed812-064e-4006-f34a-0a9c3e1437c6",
    "papermill": {
     "duration": 0.554697,
     "end_time": "2024-05-18T13:04:43.895047",
     "exception": false,
     "start_time": "2024-05-18T13:04:43.340350",
     "status": "completed"
    },
    "tags": []
   },
   "outputs": [
    {
     "data": {
      "image/png": "[encoded data removed]",
      "text/plain": [
       "<Figure size 1600x900 with 1 Axes>"
      ]
     },
     "metadata": {},
     "output_type": "display_data"
    }
   ],
   "source": [
    "# Set the figure size to 16x9\n",
    "plt.figure(figsize=(16, 9))\n",
    "\n",
    "# Create a histplot of the thalch column with a KDE overlay\n",
    "sns.histplot(data=df, x=\"thalch\", kde=True, bins=50, color='r')\n",
    "\n",
    "# Display the plot\n",
    "plt.show()"
   ]
  },
  {
   "cell_type": "markdown",
   "id": "1d6b921b",
   "metadata": {
    "id": "-uaeHguQpJaT",
    "papermill": {
     "duration": 0.050842,
     "end_time": "2024-05-18T13:04:43.996830",
     "exception": false,
     "start_time": "2024-05-18T13:04:43.945988",
     "status": "completed"
    },
    "tags": []
   },
   "source": [
    "#### **Observations about thalch**\n",
    "\n",
    "Here are three key points to interpret the graph representing the maximum heart rate (thalach) achieved according to the heart disease dataset:\n",
    "\n",
    "**Distribution Peaks:**\n",
    "  - The graph shows the distribution of maximum heart rates achieved by individuals.\n",
    "  - Peaks occur around 140 and 160 thalach, indicating that a significant number of participants reached these maximum heart rates.\n",
    "\n",
    "**Common Maximum Heart Rates:**\n",
    "\n",
    "  - The dataset suggests that many individuals achieved a maximum heart rate of approximately 140 or 160 beats per minute.\n",
    "\n",
    "  - These values are commonly observed in the population studied.\n",
    "\n",
    "**Variability:**\n",
    "\n",
    "  - The spread of maximum heart rates varies, with some participants achieving higher or lower thalach values.\n",
    "  - Understanding this variability is essential for assessing cardiovascular health and fitness."
   ]
  },
  {
   "cell_type": "markdown",
   "id": "0ca3f185",
   "metadata": {
    "id": "hu0Htf1ypqo_",
    "papermill": {
     "duration": 0.050997,
     "end_time": "2024-05-18T13:04:44.099209",
     "exception": false,
     "start_time": "2024-05-18T13:04:44.048212",
     "status": "completed"
    },
    "tags": []
   },
   "source": [
    "# **<font color='blue'>Exploring `exang` Exercise-induced angina (True/ False) </font>**"
   ]
  },
  {
   "cell_type": "code",
   "execution_count": 316,
   "id": "122d9f85",
   "metadata": {
    "execution": {
     "iopub.execute_input": "2024-05-18T13:04:44.204662Z",
     "iopub.status.busy": "2024-05-18T13:04:44.204212Z",
     "iopub.status.idle": "2024-05-18T13:04:44.213917Z",
     "shell.execute_reply": "2024-05-18T13:04:44.213003Z"
    },
    "id": "8y6ei22fodTM",
    "outputId": "67d1464e-c2d7-4f03-94a3-159f2cceb180",
    "papermill": {
     "duration": 0.066032,
     "end_time": "2024-05-18T13:04:44.216045",
     "exception": false,
     "start_time": "2024-05-18T13:04:44.150013",
     "status": "completed"
    },
    "tags": []
   },
   "outputs": [
    {
     "data": {
      "text/plain": [
       "exang\n",
       "False    528\n",
       "True     337\n",
       "Name: count, dtype: int64"
      ]
     },
     "execution_count": 316,
     "metadata": {},
     "output_type": "execute_result"
    }
   ],
   "source": [
    "df[\"exang\"].value_counts()"
   ]
  },
  {
   "cell_type": "markdown",
   "id": "b3fa2ae8",
   "metadata": {
    "id": "QFV2iYRhrbga",
    "papermill": {
     "duration": 0.054482,
     "end_time": "2024-05-18T13:04:44.321598",
     "exception": false,
     "start_time": "2024-05-18T13:04:44.267116",
     "status": "completed"
    },
    "tags": []
   },
   "source": [
    "#### **Let's visualize exang**"
   ]
  },
  {
   "cell_type": "code",
   "execution_count": 317,
   "id": "2e257e36",
   "metadata": {
    "execution": {
     "iopub.execute_input": "2024-05-18T13:04:44.426620Z",
     "iopub.status.busy": "2024-05-18T13:04:44.426165Z",
     "iopub.status.idle": "2024-05-18T13:04:44.889027Z",
     "shell.execute_reply": "2024-05-18T13:04:44.887806Z"
    },
    "id": "wGiVXv30qAjH",
    "outputId": "e8366fff-3f76-45b7-dbab-8bb3ad53e20d",
    "papermill": {
     "duration": 0.518461,
     "end_time": "2024-05-18T13:04:44.891371",
     "exception": false,
     "start_time": "2024-05-18T13:04:44.372910",
     "status": "completed"
    },
    "tags": []
   },
   "outputs": [
    {
     "data": {
      "image/png": "[encoded data removed]",
      "text/plain": [
       "<Figure size 1600x900 with 1 Axes>"
      ]
     },
     "metadata": {},
     "output_type": "display_data"
    }
   ],
   "source": [
    "import matplotlib.pyplot as plt\n",
    "\n",
    "# Data\n",
    "labels = ['False', 'True']\n",
    "sizes = [528, 337]\n",
    "colors = ['#66b3ff', '#ff9999']  # Awesome colors\n",
    "explode = (0, 0.1)  # Slightly explode the 'True' slice for emphasis\n",
    "\n",
    "# Create a pie chart\n",
    "plt.figure(figsize=(16, 9))\n",
    "plt.pie(sizes, explode=explode, labels=labels, colors=colors, autopct='%1.1f%%', shadow=True, startangle=140)\n",
    "\n",
    "# Equal aspect ratio ensures that pie is drawn as a circle.\n",
    "plt.axis('equal')\n",
    "\n",
    "# Title\n",
    "plt.title('Exercise-induced Angina (exang)')\n",
    "\n",
    "# Show the plot\n",
    "plt.show()\n"
   ]
  },
  {
   "cell_type": "markdown",
   "id": "be8a7719",
   "metadata": {
    "id": "VwCIalCMq2eM",
    "papermill": {
     "duration": 0.050614,
     "end_time": "2024-05-18T13:04:44.992390",
     "exception": false,
     "start_time": "2024-05-18T13:04:44.941776",
     "status": "completed"
    },
    "tags": []
   },
   "source": [
    "### **Observations about exang**\n",
    "\n",
    "- **Prevalence of Exercise-induced Angina:** The majority of the individuals (528 out of 865, approximately 61.0%) do not experience exercise-induced angina, indicating that a larger portion of the population studied does not suffer from this condition.\n",
    "\n",
    "- **Significant Minority Affected:** A notable minority (337 out of 865, approximately 39.0%) do report experiencing exercise-induced angina, highlighting the importance of considering this condition in the population.\n",
    "\n",
    "- **Visual Emphasis on Affected Group:** The pie chart's slight explosion of the 'True' slice visually emphasizes the significant proportion of individuals who do experience exercise-induced angina, drawing attention to the importance of addressing and managing this condition in healthcare settings."
   ]
  },
  {
   "cell_type": "markdown",
   "id": "a73120cc",
   "metadata": {
    "id": "UpAg3pRyrYDM",
    "papermill": {
     "duration": 0.052492,
     "end_time": "2024-05-18T13:04:45.095473",
     "exception": false,
     "start_time": "2024-05-18T13:04:45.042981",
     "status": "completed"
    },
    "tags": []
   },
   "source": [
    "# **<font color='blue'>Exploring `oldpeak` ST depression induced by exercise relative to rest </font>**\n"
   ]
  },
  {
   "cell_type": "code",
   "execution_count": 318,
   "id": "01223fa6",
   "metadata": {
    "execution": {
     "iopub.execute_input": "2024-05-18T13:04:45.205071Z",
     "iopub.status.busy": "2024-05-18T13:04:45.204267Z",
     "iopub.status.idle": "2024-05-18T13:04:45.216868Z",
     "shell.execute_reply": "2024-05-18T13:04:45.215643Z"
    },
    "id": "4MCX_h01roC9",
    "outputId": "3cd4dd90-9f2f-4481-8518-58c2c95202bd",
    "papermill": {
     "duration": 0.071107,
     "end_time": "2024-05-18T13:04:45.219585",
     "exception": false,
     "start_time": "2024-05-18T13:04:45.148478",
     "status": "completed"
    },
    "tags": []
   },
   "outputs": [
    {
     "data": {
      "text/plain": [
       "oldpeak\n",
       " 0.0    370\n",
       " 1.0     83\n",
       " 2.0     76\n",
       " 1.5     48\n",
       " 3.0     28\n",
       " 0.5     19\n",
       " 1.2     17\n",
       " 2.5     16\n",
       " 1.4     15\n",
       " 0.8     15\n",
       " 1.6     14\n",
       " 0.2     14\n",
       " 0.6     14\n",
       " 1.8     12\n",
       " 0.4     10\n",
       " 0.1      9\n",
       " 4.0      8\n",
       " 2.6      7\n",
       " 2.8      7\n",
       " 1.3      5\n",
       " 2.2      5\n",
       " 0.7      5\n",
       " 1.9      5\n",
       " 0.3      5\n",
       " 3.6      4\n",
       " 2.4      4\n",
       " 1.1      4\n",
       " 0.9      4\n",
       " 3.4      3\n",
       " 1.7      2\n",
       "-1.0      2\n",
       " 4.2      2\n",
       " 2.3      2\n",
       " 2.1      2\n",
       "-0.5      2\n",
       " 3.2      2\n",
       " 3.5      2\n",
       "-0.8      1\n",
       "-0.1      1\n",
       "-0.9      1\n",
       "-2.0      1\n",
       "-0.7      1\n",
       "-2.6      1\n",
       " 6.2      1\n",
       "-1.5      1\n",
       "-1.1      1\n",
       " 5.0      1\n",
       " 4.4      1\n",
       " 3.8      1\n",
       " 2.9      1\n",
       " 5.6      1\n",
       " 3.1      1\n",
       " 3.7      1\n",
       "Name: count, dtype: int64"
      ]
     },
     "execution_count": 318,
     "metadata": {},
     "output_type": "execute_result"
    }
   ],
   "source": [
    "df[\"oldpeak\"].value_counts()"
   ]
  },
  {
   "cell_type": "code",
   "execution_count": 319,
   "id": "6879fae2",
   "metadata": {
    "execution": {
     "iopub.execute_input": "2024-05-18T13:04:45.331165Z",
     "iopub.status.busy": "2024-05-18T13:04:45.330231Z",
     "iopub.status.idle": "2024-05-18T13:04:45.342685Z",
     "shell.execute_reply": "2024-05-18T13:04:45.341383Z"
    },
    "id": "KEm-5WUpsKdw",
    "outputId": "3bcd580f-541f-43ad-dee4-7b1514db9d71",
    "papermill": {
     "duration": 0.072493,
     "end_time": "2024-05-18T13:04:45.345196",
     "exception": false,
     "start_time": "2024-05-18T13:04:45.272703",
     "status": "completed"
    },
    "tags": []
   },
   "outputs": [
    {
     "data": {
      "text/plain": [
       "count    858.000000\n",
       "mean       0.878788\n",
       "std        1.091226\n",
       "min       -2.600000\n",
       "25%        0.000000\n",
       "50%        0.500000\n",
       "75%        1.500000\n",
       "max        6.200000\n",
       "Name: oldpeak, dtype: float64"
      ]
     },
     "execution_count": 319,
     "metadata": {},
     "output_type": "execute_result"
    }
   ],
   "source": [
    "# let's check summary of oldpeak\n",
    "df[\"oldpeak\"].describe()"
   ]
  },
  {
   "cell_type": "code",
   "execution_count": 320,
   "id": "060aebc2",
   "metadata": {
    "execution": {
     "iopub.execute_input": "2024-05-18T13:04:45.456057Z",
     "iopub.status.busy": "2024-05-18T13:04:45.455573Z",
     "iopub.status.idle": "2024-05-18T13:04:45.931112Z",
     "shell.execute_reply": "2024-05-18T13:04:45.929670Z"
    },
    "id": "LPFwWNjhsZx7",
    "outputId": "c1b3b88f-bc0b-4a0e-e21c-b09f28a03b02",
    "papermill": {
     "duration": 0.535479,
     "end_time": "2024-05-18T13:04:45.934056",
     "exception": false,
     "start_time": "2024-05-18T13:04:45.398577",
     "status": "completed"
    },
    "tags": []
   },
   "outputs": [
    {
     "data": {
      "image/png": "[encoded data removed]",
      "text/plain": [
       "<Figure size 1600x900 with 1 Axes>"
      ]
     },
     "metadata": {},
     "output_type": "display_data"
    }
   ],
   "source": [
    "# Set the figure size to 16x9\n",
    "plt.figure(figsize=(16, 9))\n",
    "\n",
    "# Create a histplot of the thalch column with a KDE overlay\n",
    "sns.histplot(data=df, x=\"oldpeak\", kde=True, bins=50, color='g')\n",
    "\n",
    "# Display the plot\n",
    "plt.show()"
   ]
  },
  {
   "cell_type": "markdown",
   "id": "4a3afdc6",
   "metadata": {
    "id": "BCDzl4f6tcMU",
    "papermill": {
     "duration": 0.052621,
     "end_time": "2024-05-18T13:04:46.041468",
     "exception": false,
     "start_time": "2024-05-18T13:04:45.988847",
     "status": "completed"
    },
    "tags": []
   },
   "source": [
    "### **Observations about oldpeak**\n",
    "Here are three key points to interpret “oldpeak ST depression induced by exercise relative to rest”:\n",
    "\n",
    "**Definition:**\n",
    "\n",
    "- “Oldpeak ST depression” refers to the amount of ST segment depression observed on an electrocardiogram (ECG) during exercise compared to the resting state.\n",
    "- It’s a measure of how the heart’s electrical activity changes after physical exertion.\n",
    "\n",
    "**Clinical Significance:**\n",
    "\n",
    "- Greater ST depression during exercise can indicate reduced blood flow to the heart muscle.\n",
    "- Clinicians use it as a diagnostic tool to assess coronary artery disease, ischemia, or other cardiac conditions.\n",
    "\n",
    "**Measurement:**\n",
    "\n",
    "- Oldpeak ST depression is quantified in millimeters (mm) on the ECG.\n",
    "- A higher value indicates more significant ST segment depression, which warrants further investigation."
   ]
  },
  {
   "cell_type": "markdown",
   "id": "bbd32e0b",
   "metadata": {
    "id": "XcFUxVCVuC4y",
    "papermill": {
     "duration": 0.053005,
     "end_time": "2024-05-18T13:04:46.147464",
     "exception": false,
     "start_time": "2024-05-18T13:04:46.094459",
     "status": "completed"
    },
    "tags": []
   },
   "source": [
    "# **<font color='blue'>Exploring `slope` The slope of the peak exercise ST segment </font>**"
   ]
  },
  {
   "cell_type": "code",
   "execution_count": 321,
   "id": "96f2335b",
   "metadata": {
    "execution": {
     "iopub.execute_input": "2024-05-18T13:04:46.258906Z",
     "iopub.status.busy": "2024-05-18T13:04:46.258419Z",
     "iopub.status.idle": "2024-05-18T13:04:46.268722Z",
     "shell.execute_reply": "2024-05-18T13:04:46.267720Z"
    },
    "id": "FYE7rgzQsd23",
    "outputId": "c62202f4-f982-42f3-886d-78005940a0af",
    "papermill": {
     "duration": 0.068534,
     "end_time": "2024-05-18T13:04:46.270973",
     "exception": false,
     "start_time": "2024-05-18T13:04:46.202439",
     "status": "completed"
    },
    "tags": []
   },
   "outputs": [
    {
     "data": {
      "text/plain": [
       "slope\n",
       "flat           345\n",
       "upsloping      203\n",
       "downsloping     63\n",
       "Name: count, dtype: int64"
      ]
     },
     "execution_count": 321,
     "metadata": {},
     "output_type": "execute_result"
    }
   ],
   "source": [
    "df[\"slope\"].value_counts()"
   ]
  },
  {
   "cell_type": "markdown",
   "id": "48afff79",
   "metadata": {
    "id": "UE19JOowvcC0",
    "papermill": {
     "duration": 0.0527,
     "end_time": "2024-05-18T13:04:46.380303",
     "exception": false,
     "start_time": "2024-05-18T13:04:46.327603",
     "status": "completed"
    },
    "tags": []
   },
   "source": [
    "### **Let's Visualize slope**"
   ]
  },
  {
   "cell_type": "code",
   "execution_count": 322,
   "id": "d6575f77",
   "metadata": {
    "execution": {
     "iopub.execute_input": "2024-05-18T13:04:46.489587Z",
     "iopub.status.busy": "2024-05-18T13:04:46.488856Z",
     "iopub.status.idle": "2024-05-18T13:04:46.514939Z",
     "shell.execute_reply": "2024-05-18T13:04:46.513468Z"
    },
    "id": "xhgGjhJJu3gy",
    "outputId": "156a2386-fb5d-4ea9-dee6-77049e0355b6",
    "papermill": {
     "duration": 0.083597,
     "end_time": "2024-05-18T13:04:46.517571",
     "exception": false,
     "start_time": "2024-05-18T13:04:46.433974",
     "status": "completed"
    },
    "tags": []
   },
   "outputs": [
    {
     "data": {
      "application/vnd.plotly.v1+json": {
       "config": {
        "plotlyServerURL": "https://plot.ly"
       },
       "data": [
        {
         "mode": "lines+markers",
         "name": "Slope",
         "type": "scatter",
         "x": [
          "flat",
          "upsloping",
          "downsloping"
         ],
         "y": [
          345,
          203,
          63
         ]
        }
       ],
       "layout": {
        "showlegend": true,
        "template": {
         "data": {
          "bar": [
           {
            "error_x": {
             "color": "#2a3f5f"
            },
            "error_y": {
             "color": "#2a3f5f"
            },
            "marker": {
             "line": {
              "color": "#E5ECF6",
              "width": 0.5
             },
             "pattern": {
              "fillmode": "overlay",
              "size": 10,
              "solidity": 0.2
             }
            },
            "type": "bar"
           }
          ],
          "barpolar": [
           {
            "marker": {
             "line": {
              "color": "#E5ECF6",
              "width": 0.5
             },
             "pattern": {
              "fillmode": "overlay",
              "size": 10,
              "solidity": 0.2
             }
            },
            "type": "barpolar"
           }
          ],
          "carpet": [
           {
            "aaxis": {
             "endlinecolor": "#2a3f5f",
             "gridcolor": "white",
             "linecolor": "white",
             "minorgridcolor": "white",
             "startlinecolor": "#2a3f5f"
            },
            "baxis": {
             "endlinecolor": "#2a3f5f",
             "gridcolor": "white",
             "linecolor": "white",
             "minorgridcolor": "white",
             "startlinecolor": "#2a3f5f"
            },
            "type": "carpet"
           }
          ],
          "choropleth": [
           {
            "colorbar": {
             "outlinewidth": 0,
             "ticks": ""
            },
            "type": "choropleth"
           }
          ],
          "contour": [
           {
            "colorbar": {
             "outlinewidth": 0,
             "ticks": ""
            },
            "colorscale": [
             [
              0,
              "#0d0887"
             ],
             [
              0.1111111111111111,
              "#46039f"
             ],
             [
              0.2222222222222222,
              "#7201a8"
             ],
             [
              0.3333333333333333,
              "#9c179e"
             ],
             [
              0.4444444444444444,
              "#bd3786"
             ],
             [
              0.5555555555555556,
              "#d8576b"
             ],
             [
              0.6666666666666666,
              "#ed7953"
             ],
             [
              0.7777777777777778,
              "#fb9f3a"
             ],
             [
              0.8888888888888888,
              "#fdca26"
             ],
             [
              1,
              "#f0f921"
             ]
            ],
            "type": "contour"
           }
          ],
          "contourcarpet": [
           {
            "colorbar": {
             "outlinewidth": 0,
             "ticks": ""
            },
            "type": "contourcarpet"
           }
          ],
          "heatmap": [
           {
            "colorbar": {
             "outlinewidth": 0,
             "ticks": ""
            },
            "colorscale": [
             [
              0,
              "#0d0887"
             ],
             [
              0.1111111111111111,
              "#46039f"
             ],
             [
              0.2222222222222222,
              "#7201a8"
             ],
             [
              0.3333333333333333,
              "#9c179e"
             ],
             [
              0.4444444444444444,
              "#bd3786"
             ],
             [
              0.5555555555555556,
              "#d8576b"
             ],
             [
              0.6666666666666666,
              "#ed7953"
             ],
             [
              0.7777777777777778,
              "#fb9f3a"
             ],
             [
              0.8888888888888888,
              "#fdca26"
             ],
             [
              1,
              "#f0f921"
             ]
            ],
            "type": "heatmap"
           }
          ],
          "histogram": [
           {
            "marker": {
             "pattern": {
              "fillmode": "overlay",
              "size": 10,
              "solidity": 0.2
             }
            },
            "type": "histogram"
           }
          ],
          "histogram2d": [
           {
            "colorbar": {
             "outlinewidth": 0,
             "ticks": ""
            },
            "colorscale": [
             [
              0,
              "#0d0887"
             ],
             [
              0.1111111111111111,
              "#46039f"
             ],
             [
              0.2222222222222222,
              "#7201a8"
             ],
             [
              0.3333333333333333,
              "#9c179e"
             ],
             [
              0.4444444444444444,
              "#bd3786"
             ],
             [
              0.5555555555555556,
              "#d8576b"
             ],
             [
              0.6666666666666666,
              "#ed7953"
             ],
             [
              0.7777777777777778,
              "#fb9f3a"
             ],
             [
              0.8888888888888888,
              "#fdca26"
             ],
             [
              1,
              "#f0f921"
             ]
            ],
            "type": "histogram2d"
           }
          ],
          "histogram2dcontour": [
           {
            "colorbar": {
             "outlinewidth": 0,
             "ticks": ""
            },
            "colorscale": [
             [
              0,
              "#0d0887"
             ],
             [
              0.1111111111111111,
              "#46039f"
             ],
             [
              0.2222222222222222,
              "#7201a8"
             ],
             [
              0.3333333333333333,
              "#9c179e"
             ],
             [
              0.4444444444444444,
              "#bd3786"
             ],
             [
              0.5555555555555556,
              "#d8576b"
             ],
             [
              0.6666666666666666,
              "#ed7953"
             ],
             [
              0.7777777777777778,
              "#fb9f3a"
             ],
             [
              0.8888888888888888,
              "#fdca26"
             ],
             [
              1,
              "#f0f921"
             ]
            ],
            "type": "histogram2dcontour"
           }
          ],
          "mesh3d": [
           {
            "colorbar": {
             "outlinewidth": 0,
             "ticks": ""
            },
            "type": "mesh3d"
           }
          ],
          "parcoords": [
           {
            "line": {
             "colorbar": {
              "outlinewidth": 0,
              "ticks": ""
             }
            },
            "type": "parcoords"
           }
          ],
          "pie": [
           {
            "automargin": true,
            "type": "pie"
           }
          ],
          "scatter": [
           {
            "fillpattern": {
             "fillmode": "overlay",
             "size": 10,
             "solidity": 0.2
            },
            "type": "scatter"
           }
          ],
          "scatter3d": [
           {
            "line": {
             "colorbar": {
              "outlinewidth": 0,
              "ticks": ""
             }
            },
            "marker": {
             "colorbar": {
              "outlinewidth": 0,
              "ticks": ""
             }
            },
            "type": "scatter3d"
           }
          ],
          "scattercarpet": [
           {
            "marker": {
             "colorbar": {
              "outlinewidth": 0,
              "ticks": ""
             }
            },
            "type": "scattercarpet"
           }
          ],
          "scattergeo": [
           {
            "marker": {
             "colorbar": {
              "outlinewidth": 0,
              "ticks": ""
             }
            },
            "type": "scattergeo"
           }
          ],
          "scattergl": [
           {
            "marker": {
             "colorbar": {
              "outlinewidth": 0,
              "ticks": ""
             }
            },
            "type": "scattergl"
           }
          ],
          "scattermap": [
           {
            "marker": {
             "colorbar": {
              "outlinewidth": 0,
              "ticks": ""
             }
            },
            "type": "scattermap"
           }
          ],
          "scattermapbox": [
           {
            "marker": {
             "colorbar": {
              "outlinewidth": 0,
              "ticks": ""
             }
            },
            "type": "scattermapbox"
           }
          ],
          "scatterpolar": [
           {
            "marker": {
             "colorbar": {
              "outlinewidth": 0,
              "ticks": ""
             }
            },
            "type": "scatterpolar"
           }
          ],
          "scatterpolargl": [
           {
            "marker": {
             "colorbar": {
              "outlinewidth": 0,
              "ticks": ""
             }
            },
            "type": "scatterpolargl"
           }
          ],
          "scatterternary": [
           {
            "marker": {
             "colorbar": {
              "outlinewidth": 0,
              "ticks": ""
             }
            },
            "type": "scatterternary"
           }
          ],
          "surface": [
           {
            "colorbar": {
             "outlinewidth": 0,
             "ticks": ""
            },
            "colorscale": [
             [
              0,
              "#0d0887"
             ],
             [
              0.1111111111111111,
              "#46039f"
             ],
             [
              0.2222222222222222,
              "#7201a8"
             ],
             [
              0.3333333333333333,
              "#9c179e"
             ],
             [
              0.4444444444444444,
              "#bd3786"
             ],
             [
              0.5555555555555556,
              "#d8576b"
             ],
             [
              0.6666666666666666,
              "#ed7953"
             ],
             [
              0.7777777777777778,
              "#fb9f3a"
             ],
             [
              0.8888888888888888,
              "#fdca26"
             ],
             [
              1,
              "#f0f921"
             ]
            ],
            "type": "surface"
           }
          ],
          "table": [
           {
            "cells": {
             "fill": {
              "color": "#EBF0F8"
             },
             "line": {
              "color": "white"
             }
            },
            "header": {
             "fill": {
              "color": "#C8D4E3"
             },
             "line": {
              "color": "white"
             }
            },
            "type": "table"
           }
          ]
         },
         "layout": {
          "annotationdefaults": {
           "arrowcolor": "#2a3f5f",
           "arrowhead": 0,
           "arrowwidth": 1
          },
          "autotypenumbers": "strict",
          "coloraxis": {
           "colorbar": {
            "outlinewidth": 0,
            "ticks": ""
           }
          },
          "colorscale": {
           "diverging": [
            [
             0,
             "#8e0152"
            ],
            [
             0.1,
             "#c51b7d"
            ],
            [
             0.2,
             "#de77ae"
            ],
            [
             0.3,
             "#f1b6da"
            ],
            [
             0.4,
             "#fde0ef"
            ],
            [
             0.5,
             "#f7f7f7"
            ],
            [
             0.6,
             "#e6f5d0"
            ],
            [
             0.7,
             "#b8e186"
            ],
            [
             0.8,
             "#7fbc41"
            ],
            [
             0.9,
             "#4d9221"
            ],
            [
             1,
             "#276419"
            ]
           ],
           "sequential": [
            [
             0,
             "#0d0887"
            ],
            [
             0.1111111111111111,
             "#46039f"
            ],
            [
             0.2222222222222222,
             "#7201a8"
            ],
            [
             0.3333333333333333,
             "#9c179e"
            ],
            [
             0.4444444444444444,
             "#bd3786"
            ],
            [
             0.5555555555555556,
             "#d8576b"
            ],
            [
             0.6666666666666666,
             "#ed7953"
            ],
            [
             0.7777777777777778,
             "#fb9f3a"
            ],
            [
             0.8888888888888888,
             "#fdca26"
            ],
            [
             1,
             "#f0f921"
            ]
           ],
           "sequentialminus": [
            [
             0,
             "#0d0887"
            ],
            [
             0.1111111111111111,
             "#46039f"
            ],
            [
             0.2222222222222222,
             "#7201a8"
            ],
            [
             0.3333333333333333,
             "#9c179e"
            ],
            [
             0.4444444444444444,
             "#bd3786"
            ],
            [
             0.5555555555555556,
             "#d8576b"
            ],
            [
             0.6666666666666666,
             "#ed7953"
            ],
            [
             0.7777777777777778,
             "#fb9f3a"
            ],
            [
             0.8888888888888888,
             "#fdca26"
            ],
            [
             1,
             "#f0f921"
            ]
           ]
          },
          "colorway": [
           "#636efa",
           "#EF553B",
           "#00cc96",
           "#ab63fa",
           "#FFA15A",
           "#19d3f3",
           "#FF6692",
           "#B6E880",
           "#FF97FF",
           "#FECB52"
          ],
          "font": {
           "color": "#2a3f5f"
          },
          "geo": {
           "bgcolor": "white",
           "lakecolor": "white",
           "landcolor": "#E5ECF6",
           "showlakes": true,
           "showland": true,
           "subunitcolor": "white"
          },
          "hoverlabel": {
           "align": "left"
          },
          "hovermode": "closest",
          "mapbox": {
           "style": "light"
          },
          "paper_bgcolor": "white",
          "plot_bgcolor": "#E5ECF6",
          "polar": {
           "angularaxis": {
            "gridcolor": "white",
            "linecolor": "white",
            "ticks": ""
           },
           "bgcolor": "#E5ECF6",
           "radialaxis": {
            "gridcolor": "white",
            "linecolor": "white",
            "ticks": ""
           }
          },
          "scene": {
           "xaxis": {
            "backgroundcolor": "#E5ECF6",
            "gridcolor": "white",
            "gridwidth": 2,
            "linecolor": "white",
            "showbackground": true,
            "ticks": "",
            "zerolinecolor": "white"
           },
           "yaxis": {
            "backgroundcolor": "#E5ECF6",
            "gridcolor": "white",
            "gridwidth": 2,
            "linecolor": "white",
            "showbackground": true,
            "ticks": "",
            "zerolinecolor": "white"
           },
           "zaxis": {
            "backgroundcolor": "#E5ECF6",
            "gridcolor": "white",
            "gridwidth": 2,
            "linecolor": "white",
            "showbackground": true,
            "ticks": "",
            "zerolinecolor": "white"
           }
          },
          "shapedefaults": {
           "line": {
            "color": "#2a3f5f"
           }
          },
          "ternary": {
           "aaxis": {
            "gridcolor": "white",
            "linecolor": "white",
            "ticks": ""
           },
           "baxis": {
            "gridcolor": "white",
            "linecolor": "white",
            "ticks": ""
           },
           "bgcolor": "#E5ECF6",
           "caxis": {
            "gridcolor": "white",
            "linecolor": "white",
            "ticks": ""
           }
          },
          "title": {
           "x": 0.05
          },
          "xaxis": {
           "automargin": true,
           "gridcolor": "white",
           "linecolor": "white",
           "ticks": "",
           "title": {
            "standoff": 15
           },
           "zerolinecolor": "white",
           "zerolinewidth": 2
          },
          "yaxis": {
           "automargin": true,
           "gridcolor": "white",
           "linecolor": "white",
           "ticks": "",
           "title": {
            "standoff": 15
           },
           "zerolinecolor": "white",
           "zerolinewidth": 2
          }
         }
        },
        "title": {
         "text": "Slope of the Peak Exercise ST Segment"
        },
        "xaxis": {
         "title": {
          "text": "Slope Type"
         }
        },
        "yaxis": {
         "title": {
          "text": "Count"
         }
        }
       }
      }
     },
     "metadata": {},
     "output_type": "display_data"
    }
   ],
   "source": [
    "import plotly.graph_objects as go\n",
    "\n",
    "# Data\n",
    "slope_data = {\n",
    "    \"flat\": 345,\n",
    "    \"upsloping\": 203,\n",
    "    \"downsloping\": 63\n",
    "}\n",
    "\n",
    "# Create the figure\n",
    "fig = go.Figure()\n",
    "\n",
    "# Add a scatter plot (line plot)\n",
    "fig.add_trace(go.Scatter(x=list(slope_data.keys()), y=list(slope_data.values()), mode='lines+markers', name='Slope'))\n",
    "\n",
    "# Customize the plot\n",
    "fig.update_layout(\n",
    "    title=\"Slope of the Peak Exercise ST Segment\",\n",
    "    xaxis_title=\"Slope Type\",\n",
    "    yaxis_title=\"Count\",\n",
    "    showlegend=True\n",
    ")\n",
    "\n",
    "# Show the plot\n",
    "fig.show()\n"
   ]
  },
  {
   "cell_type": "markdown",
   "id": "fd60bcc9",
   "metadata": {
    "id": "W322X6V6vHLe",
    "papermill": {
     "duration": 0.053714,
     "end_time": "2024-05-18T13:04:46.626703",
     "exception": false,
     "start_time": "2024-05-18T13:04:46.572989",
     "status": "completed"
    },
    "tags": []
   },
   "source": [
    "#### **Obsrvations about slope**\n",
    "\n",
    " Here are the key points from the line plot of the slope of the peak exercise ST segment:\n",
    "\n",
    "- **Flat Slope:** The most common slope type observed in the dataset is “flat,” with a count of 345.\n",
    "- **Upsloping Slope:** The second most frequent slope type is “upsloping,” which appears 203 times.\n",
    "- **Downsloping Slope:** The least common slope type is “downsloping,” occurring only 63 times.\n",
    "\n",
    "This information summarizes the distribution of slope types based on the provided data."
   ]
  },
  {
   "cell_type": "markdown",
   "id": "4321bce5",
   "metadata": {
    "id": "MiG1779gvkTN",
    "papermill": {
     "duration": 0.053282,
     "end_time": "2024-05-18T13:04:46.733828",
     "exception": false,
     "start_time": "2024-05-18T13:04:46.680546",
     "status": "completed"
    },
    "tags": []
   },
   "source": [
    "# **<font color='blue'>Exploring `ca` Number of major vessels (0-3) colored by fluoroscopy </font>**\n"
   ]
  },
  {
   "cell_type": "code",
   "execution_count": 323,
   "id": "c100af61",
   "metadata": {
    "execution": {
     "iopub.execute_input": "2024-05-18T13:04:46.843060Z",
     "iopub.status.busy": "2024-05-18T13:04:46.842639Z",
     "iopub.status.idle": "2024-05-18T13:04:46.851891Z",
     "shell.execute_reply": "2024-05-18T13:04:46.850754Z"
    },
    "id": "NmUKougFu4eR",
    "outputId": "853025c2-f709-4e10-824f-1d098165b551",
    "papermill": {
     "duration": 0.066774,
     "end_time": "2024-05-18T13:04:46.854153",
     "exception": false,
     "start_time": "2024-05-18T13:04:46.787379",
     "status": "completed"
    },
    "tags": []
   },
   "outputs": [
    {
     "data": {
      "text/plain": [
       "ca\n",
       "0.0    181\n",
       "1.0     67\n",
       "2.0     41\n",
       "3.0     20\n",
       "Name: count, dtype: int64"
      ]
     },
     "execution_count": 323,
     "metadata": {},
     "output_type": "execute_result"
    }
   ],
   "source": [
    "df[\"ca\"].value_counts()"
   ]
  },
  {
   "cell_type": "markdown",
   "id": "21e13e43",
   "metadata": {
    "id": "c70Xsvj1xyAl",
    "papermill": {
     "duration": 0.052206,
     "end_time": "2024-05-18T13:04:46.960263",
     "exception": false,
     "start_time": "2024-05-18T13:04:46.908057",
     "status": "completed"
    },
    "tags": []
   },
   "source": [
    "### **Let's Visualize ca**"
   ]
  },
  {
   "cell_type": "code",
   "execution_count": 324,
   "id": "7b78fcc9",
   "metadata": {
    "execution": {
     "iopub.execute_input": "2024-05-18T13:04:47.069104Z",
     "iopub.status.busy": "2024-05-18T13:04:47.067653Z",
     "iopub.status.idle": "2024-05-18T13:04:47.437390Z",
     "shell.execute_reply": "2024-05-18T13:04:47.435955Z"
    },
    "id": "Qr6syT3wvvVg",
    "outputId": "3e7d7fa4-8d96-46fe-f967-0c15e28dfa65",
    "papermill": {
     "duration": 0.427392,
     "end_time": "2024-05-18T13:04:47.440461",
     "exception": false,
     "start_time": "2024-05-18T13:04:47.013069",
     "status": "completed"
    },
    "tags": []
   },
   "outputs": [
    {
     "data": {
      "image/png": "[encoded data removed]",
      "text/plain": [
       "<Figure size 1600x900 with 1 Axes>"
      ]
     },
     "metadata": {},
     "output_type": "display_data"
    }
   ],
   "source": [
    "import matplotlib.pyplot as plt\n",
    "\n",
    "# Data\n",
    "categories = [0.0, 1.0, 2.0, 3.0]\n",
    "counts = [181, 67, 41, 20]\n",
    "colors = ['red', 'green', 'blue', 'purple']\n",
    "\n",
    "# Create the figure with the specified size\n",
    "plt.figure(figsize=(16, 9))\n",
    "\n",
    "# Create the histogram with specified colors\n",
    "plt.bar(categories, counts, color=colors, edgecolor=\"black\")\n",
    "\n",
    "# Labels and title\n",
    "plt.xlabel(\"Number of Major Vessels\")\n",
    "plt.ylabel(\"Count\")\n",
    "plt.title(\"Histogram of Major Vessels Colored by Fluoroscopy\")\n",
    "\n",
    "# Show the plot\n",
    "plt.show()\n"
   ]
  },
  {
   "cell_type": "markdown",
   "id": "6b5d21e3",
   "metadata": {
    "id": "pALpsLX8yAlK",
    "papermill": {
     "duration": 0.054094,
     "end_time": "2024-05-18T13:04:47.553017",
     "exception": false,
     "start_time": "2024-05-18T13:04:47.498923",
     "status": "completed"
    },
    "tags": []
   },
   "source": [
    "### **Observations about ca**\n",
    "\n",
    "\n",
    "- **Visualization of Vessel Distribution:** The histogram displays the distribution of major vessels in four distinct categories (0, 1, 2, 3), each represented by a different color (red, green, blue, purple). This visual differentiation helps in quickly identifying the count of major vessels for each category.\n",
    "\n",
    "- **Majority Category:** The majority of the data points (181 counts) fall into the category with 0 major vessels, indicating that most cases observed have no major vessels detected.\n",
    "\n",
    "- **Decreasing Trend:** There is a noticeable decreasing trend in the counts as the number of major vessels increases, with the counts dropping from 181 for 0 vessels to just 20 for 3 vessels. This suggests that higher counts of major vessels are less common in the dataset."
   ]
  },
  {
   "cell_type": "markdown",
   "id": "632b2b2c",
   "metadata": {
    "id": "FUqV5HyRyWwT",
    "papermill": {
     "duration": 0.054079,
     "end_time": "2024-05-18T13:04:47.661326",
     "exception": false,
     "start_time": "2024-05-18T13:04:47.607247",
     "status": "completed"
    },
    "tags": []
   },
   "source": [
    "# **<font color='blue'>Exploring `thal` Thalassemia (Values: normal, fixed defect, reversible defect) </font>**"
   ]
  },
  {
   "cell_type": "code",
   "execution_count": 325,
   "id": "ff13bf47",
   "metadata": {
    "execution": {
     "iopub.execute_input": "2024-05-18T13:04:47.772635Z",
     "iopub.status.busy": "2024-05-18T13:04:47.772165Z",
     "iopub.status.idle": "2024-05-18T13:04:47.781979Z",
     "shell.execute_reply": "2024-05-18T13:04:47.781007Z"
    },
    "id": "CD4DLHYqwm9r",
    "outputId": "dcb915bb-d2b7-4b20-887a-da1c6a919d47",
    "papermill": {
     "duration": 0.068456,
     "end_time": "2024-05-18T13:04:47.784397",
     "exception": false,
     "start_time": "2024-05-18T13:04:47.715941",
     "status": "completed"
    },
    "tags": []
   },
   "outputs": [
    {
     "data": {
      "text/plain": [
       "thal\n",
       "normal               196\n",
       "reversable defect    192\n",
       "fixed defect          46\n",
       "Name: count, dtype: int64"
      ]
     },
     "execution_count": 325,
     "metadata": {},
     "output_type": "execute_result"
    }
   ],
   "source": [
    "df[\"thal\"].value_counts()"
   ]
  },
  {
   "cell_type": "code",
   "execution_count": 326,
   "id": "e433806c",
   "metadata": {
    "execution": {
     "iopub.execute_input": "2024-05-18T13:04:47.896166Z",
     "iopub.status.busy": "2024-05-18T13:04:47.895591Z",
     "iopub.status.idle": "2024-05-18T13:04:48.204800Z",
     "shell.execute_reply": "2024-05-18T13:04:48.203434Z"
    },
    "id": "THpwErPnyoGs",
    "outputId": "7797dbb1-aa8b-4d75-abfb-b75bfb4574b9",
    "papermill": {
     "duration": 0.369907,
     "end_time": "2024-05-18T13:04:48.208467",
     "exception": false,
     "start_time": "2024-05-18T13:04:47.838560",
     "status": "completed"
    },
    "tags": []
   },
   "outputs": [
    {
     "data": {
      "image/png": "[encoded data removed]",
      "text/plain": [
       "<Figure size 1600x900 with 1 Axes>"
      ]
     },
     "metadata": {},
     "output_type": "display_data"
    }
   ],
   "source": [
    "import seaborn as sns\n",
    "import matplotlib.pyplot as plt\n",
    "\n",
    "\n",
    "\n",
    "# Data\n",
    "thal_values = ['normal'] * 196 + ['reversible defect'] * 192 + ['fixed defect'] * 46\n",
    "\n",
    "# Plot\n",
    "plt.figure(figsize=(16, 9))\n",
    "sns.countplot(y=thal_values, palette=['green', 'orange', 'red'])\n",
    "plt.xlabel('Count')\n",
    "plt.ylabel('Thalassemia Type')\n",
    "plt.title('Distribution of Thalassemia Types')\n",
    "plt.show()\n",
    "\n"
   ]
  },
  {
   "cell_type": "markdown",
   "id": "8db6308d",
   "metadata": {
    "id": "pwIlqxbu2FC9",
    "papermill": {
     "duration": 0.057287,
     "end_time": "2024-05-18T13:04:48.321567",
     "exception": false,
     "start_time": "2024-05-18T13:04:48.264280",
     "status": "completed"
    },
    "tags": []
   },
   "source": [
    "### **Observations about thal**\n",
    "\n",
    "- **Normal Thalassemia Type:** The 'normal' category has the highest count with 196 occurrences, indicating that this type is the most prevalent among the dataset.\n",
    "\n",
    "- **Reversible Defect:** The 'reversible defect' category follows closely with 192 occurrences, making it nearly as common as the normal type, suggesting a significant prevalence of this condition.\n",
    "\n",
    "- **Fixed Defect:** The 'fixed defect' category has the lowest count with 46 occurrences, indicating that this type is relatively rare compared to the other two categories."
   ]
  },
  {
   "cell_type": "markdown",
   "id": "b9fa4de5",
   "metadata": {
    "id": "anPHJv7y2UfC",
    "papermill": {
     "duration": 0.055051,
     "end_time": "2024-05-18T13:04:48.432006",
     "exception": false,
     "start_time": "2024-05-18T13:04:48.376955",
     "status": "completed"
    },
    "tags": []
   },
   "source": [
    "# **<font color='blue'>Exploring `num` The predicted attribute, target [0=no heart disease; 1,2,3,4 = stages of heart disease ]) </font>**\n"
   ]
  },
  {
   "cell_type": "code",
   "execution_count": 327,
   "id": "446437d0",
   "metadata": {
    "execution": {
     "iopub.execute_input": "2024-05-18T13:04:48.546394Z",
     "iopub.status.busy": "2024-05-18T13:04:48.545410Z",
     "iopub.status.idle": "2024-05-18T13:04:48.553865Z",
     "shell.execute_reply": "2024-05-18T13:04:48.552774Z"
    },
    "id": "k0NOEk9u13hU",
    "outputId": "a5844f06-f6d7-4318-b9cc-5e4512e5f7e0",
    "papermill": {
     "duration": 0.068599,
     "end_time": "2024-05-18T13:04:48.556666",
     "exception": false,
     "start_time": "2024-05-18T13:04:48.488067",
     "status": "completed"
    },
    "tags": []
   },
   "outputs": [
    {
     "data": {
      "text/plain": [
       "num\n",
       "0    411\n",
       "1    265\n",
       "2    109\n",
       "3    107\n",
       "4     28\n",
       "Name: count, dtype: int64"
      ]
     },
     "execution_count": 327,
     "metadata": {},
     "output_type": "execute_result"
    }
   ],
   "source": [
    "df[\"num\"].value_counts()"
   ]
  },
  {
   "cell_type": "code",
   "execution_count": 328,
   "id": "243f9bc3",
   "metadata": {
    "execution": {
     "iopub.execute_input": "2024-05-18T13:04:48.666830Z",
     "iopub.status.busy": "2024-05-18T13:04:48.665976Z",
     "iopub.status.idle": "2024-05-18T13:04:48.983006Z",
     "shell.execute_reply": "2024-05-18T13:04:48.981547Z"
    },
    "id": "3BHERp7e4H8v",
    "outputId": "567471b9-463a-4055-bec9-9b08df53b59f",
    "papermill": {
     "duration": 0.375817,
     "end_time": "2024-05-18T13:04:48.986436",
     "exception": false,
     "start_time": "2024-05-18T13:04:48.610619",
     "status": "completed"
    },
    "tags": []
   },
   "outputs": [
    {
     "data": {
      "image/png": "[encoded data removed]",
      "text/plain": [
       "<Figure size 1600x900 with 1 Axes>"
      ]
     },
     "metadata": {},
     "output_type": "display_data"
    }
   ],
   "source": [
    "import matplotlib.pyplot as plt\n",
    "\n",
    "# Data\n",
    "labels = ['No Heart Disease (0)', 'Stage 1 (1)', 'Stage 2 (2)', 'Stage 3 (3)', 'Stage 4 (4)']\n",
    "sizes = [411, 265, 109, 107, 28]\n",
    "colors = ['#1f77b4', '#ff7f0e', '#2ca02c', '#d62728', '#9467bd']\n",
    "explode = (0.1, 0, 0, 0, 0)  # explode the 1st slice (No Heart Disease)\n",
    "\n",
    "# Plot\n",
    "plt.figure(figsize=(16, 9))\n",
    "plt.pie(sizes, explode=explode, labels=labels, colors=colors, autopct='%1.1f%%', shadow=True, startangle=140)\n",
    "plt.title('Distribution of Heart Disease Stages')\n",
    "plt.axis('equal')  # Equal aspect ratio ensures that pie is drawn as a circle.\n",
    "plt.show()\n",
    "\n"
   ]
  },
  {
   "cell_type": "markdown",
   "id": "f92729cf",
   "metadata": {
    "id": "LsazYJbK3qwj",
    "papermill": {
     "duration": 0.056885,
     "end_time": "2024-05-18T13:04:49.100298",
     "exception": false,
     "start_time": "2024-05-18T13:04:49.043413",
     "status": "completed"
    },
    "tags": []
   },
   "source": [
    "#### **Observations abouta num**\n",
    " Let’s interpret the target values for heart disease prediction:\n",
    "\n",
    "- **No Heart Disease (0)**: This corresponds to individuals with no heart disease.\n",
    "- **Stages of Heart Disease (1, 2, 3, 4)**: These values represent different stages of heart disease. The higher the value, the more severe the condition.\n",
    "  - **Stage 1 (1)**: Indicates mild heart disease.\n",
    "  - **Stage 2 (2)**: Represents moderate heart disease.\n",
    "  - **Stage 3 (3)**: Indicates a more advanced stage.\n",
    "  - **Stage 4 (4)**: Corresponds to severe heart disease.\n"
   ]
  },
  {
   "cell_type": "markdown",
   "id": "9ac63d7a",
   "metadata": {
    "id": "wHknM9sJ7bTg",
    "papermill": {
     "duration": 0.058467,
     "end_time": "2024-05-18T13:04:49.216592",
     "exception": false,
     "start_time": "2024-05-18T13:04:49.158125",
     "status": "completed"
    },
    "tags": []
   },
   "source": [
    "# **<font color='blue'>Dealing with Missing Values in Dataset</font>**\n"
   ]
  },
  {
   "cell_type": "markdown",
   "id": "69b1c2f1",
   "metadata": {
    "id": "N56c8yoD81Z2",
    "papermill": {
     "duration": 0.057932,
     "end_time": "2024-05-18T13:04:49.331521",
     "exception": false,
     "start_time": "2024-05-18T13:04:49.273589",
     "status": "completed"
    },
    "tags": []
   },
   "source": [
    "### **Let's visualize to see missing values in this dataset**"
   ]
  },
  {
   "cell_type": "code",
   "execution_count": 329,
   "id": "4d175702",
   "metadata": {
    "execution": {
     "iopub.execute_input": "2024-05-18T13:04:49.458607Z",
     "iopub.status.busy": "2024-05-18T13:04:49.458142Z",
     "iopub.status.idle": "2024-05-18T13:04:49.836140Z",
     "shell.execute_reply": "2024-05-18T13:04:49.835172Z"
    },
    "id": "rB6Cs0-u89CB",
    "outputId": "d128f83a-2886-416d-feed-3b68246c57b6",
    "papermill": {
     "duration": 0.442173,
     "end_time": "2024-05-18T13:04:49.838308",
     "exception": false,
     "start_time": "2024-05-18T13:04:49.396135",
     "status": "completed"
    },
    "tags": []
   },
   "outputs": [
    {
     "data": {
      "image/png": "[encoded data removed]",
      "text/plain": [
       "<Figure size 2000x1000 with 1 Axes>"
      ]
     },
     "metadata": {},
     "output_type": "display_data"
    }
   ],
   "source": [
    "import matplotlib.pyplot as plt\n",
    "import seaborn as sns\n",
    "\n",
    "plt.figure(figsize=(20,10))\n",
    "sns.heatmap(df.isnull(), yticklabels=False, cbar=False, cmap='viridis')\n",
    "plt.title('Missing Values')\n",
    "plt.show()"
   ]
  },
  {
   "cell_type": "code",
   "execution_count": 330,
   "id": "cd46bb3d",
   "metadata": {
    "execution": {
     "iopub.execute_input": "2024-05-18T13:04:49.958431Z",
     "iopub.status.busy": "2024-05-18T13:04:49.957676Z",
     "iopub.status.idle": "2024-05-18T13:04:49.967099Z",
     "shell.execute_reply": "2024-05-18T13:04:49.965781Z"
    },
    "id": "n6ygyG8g72b0",
    "outputId": "aee38971-84ef-4826-9a02-e31a4e5d76a2",
    "papermill": {
     "duration": 0.072708,
     "end_time": "2024-05-18T13:04:49.969613",
     "exception": false,
     "start_time": "2024-05-18T13:04:49.896905",
     "status": "completed"
    },
    "tags": []
   },
   "outputs": [
    {
     "data": {
      "text/plain": [
       "id            0\n",
       "age           0\n",
       "sex           0\n",
       "dataset       0\n",
       "cp            0\n",
       "trestbps     59\n",
       "chol         30\n",
       "fbs          90\n",
       "restecg       2\n",
       "thalch       55\n",
       "exang        55\n",
       "oldpeak      62\n",
       "slope       309\n",
       "ca          611\n",
       "thal        486\n",
       "num           0\n",
       "dtype: int64"
      ]
     },
     "execution_count": 330,
     "metadata": {},
     "output_type": "execute_result"
    }
   ],
   "source": [
    "# Let check colmns with missing values\n",
    "df.isnull().sum()"
   ]
  },
  {
   "cell_type": "markdown",
   "id": "0f2b7c46",
   "metadata": {
    "id": "EMnkLdeN9cFd",
    "papermill": {
     "duration": 0.058132,
     "end_time": "2024-05-18T13:04:50.086583",
     "exception": false,
     "start_time": "2024-05-18T13:04:50.028451",
     "status": "completed"
    },
    "tags": []
   },
   "source": [
    "#### **Observations about missing values**\n",
    "\n",
    "| Feature   | Description                                    | Missing Values |\n",
    "|-----------|------------------------------------------------|----------------|\n",
    "| trestbps  | Resting Blood Pressure                         | 59             |\n",
    "| chol      | Serum Cholesterol Level                        | 30             |\n",
    "| fbs       | Fasting Blood Sugar                            | 90             |\n",
    "| restecg   | Resting Electrocardiographic Results           | 2              |\n",
    "| thalch    | Maximum Heart Rate Achieved                    | 55             |\n",
    "| exang     | Exercise-Induced Angina                        | 55             |\n",
    "| oldpeak   | ST Depression Induced by Exercise Relative to Rest | 62          |\n",
    "| slope     | Slope of the Peak Exercise ST Segment          | 309            |\n",
    "| ca        | Number of Major Vessels Colored by Fluoroscopy | 611            |\n",
    "| thal      | Thalassemia Type                               | 486            |\n",
    "\n",
    "\n",
    "\n",
    "\n"
   ]
  },
  {
   "cell_type": "markdown",
   "id": "9af3bffb",
   "metadata": {
    "id": "gykaBPE4AQ_e",
    "papermill": {
     "duration": 0.060275,
     "end_time": "2024-05-18T13:04:50.205554",
     "exception": false,
     "start_time": "2024-05-18T13:04:50.145279",
     "status": "completed"
    },
    "tags": []
   },
   "source": [
    "Lt's  Drop the Irrelevant Columns. There are 13 columns that are relevant for medical parameters ,which will be used to predict the target feature num (the intensity of the heart disease)."
   ]
  },
  {
   "cell_type": "markdown",
   "id": "700dac53",
   "metadata": {
    "id": "NW8XveU27sxz",
    "papermill": {
     "duration": 0.061003,
     "end_time": "2024-05-18T13:04:50.325894",
     "exception": false,
     "start_time": "2024-05-18T13:04:50.264891",
     "status": "completed"
    },
    "tags": []
   },
   "source": [
    "### **Convert column with missing values into a list**"
   ]
  },
  {
   "cell_type": "code",
   "execution_count": 331,
   "id": "343e7d4a",
   "metadata": {
    "execution": {
     "iopub.execute_input": "2024-05-18T13:04:50.446644Z",
     "iopub.status.busy": "2024-05-18T13:04:50.446197Z",
     "iopub.status.idle": "2024-05-18T13:04:50.458152Z",
     "shell.execute_reply": "2024-05-18T13:04:50.457201Z"
    },
    "id": "N6WnNILM7RPS",
    "outputId": "7c83d524-d186-43e2-8289-2a1e17841bc8",
    "papermill": {
     "duration": 0.0757,
     "end_time": "2024-05-18T13:04:50.460385",
     "exception": false,
     "start_time": "2024-05-18T13:04:50.384685",
     "status": "completed"
    },
    "tags": []
   },
   "outputs": [
    {
     "data": {
      "text/plain": [
       "['trestbps',\n",
       " 'chol',\n",
       " 'fbs',\n",
       " 'restecg',\n",
       " 'thalch',\n",
       " 'exang',\n",
       " 'oldpeak',\n",
       " 'slope',\n",
       " 'ca',\n",
       " 'thal']"
      ]
     },
     "execution_count": 331,
     "metadata": {},
     "output_type": "execute_result"
    }
   ],
   "source": [
    "missing_data_cols = df.isnull().sum()[df.isnull().sum() > 0].index.to_list()\n",
    "missing_data_cols"
   ]
  },
  {
   "cell_type": "markdown",
   "id": "8601881c",
   "metadata": {
    "id": "qQ6C6YxOA--_",
    "papermill": {
     "duration": 0.058326,
     "end_time": "2024-05-18T13:04:50.577970",
     "exception": false,
     "start_time": "2024-05-18T13:04:50.519644",
     "status": "completed"
    },
    "tags": []
   },
   "source": [
    "### **Seperating columns based upon their data types**"
   ]
  },
  {
   "cell_type": "code",
   "execution_count": 332,
   "id": "c2d4804a",
   "metadata": {
    "execution": {
     "iopub.execute_input": "2024-05-18T13:04:50.698623Z",
     "iopub.status.busy": "2024-05-18T13:04:50.697454Z",
     "iopub.status.idle": "2024-05-18T13:04:50.704417Z",
     "shell.execute_reply": "2024-05-18T13:04:50.703094Z"
    },
    "id": "8rxIS5ye7vb3",
    "papermill": {
     "duration": 0.070464,
     "end_time": "2024-05-18T13:04:50.707186",
     "exception": false,
     "start_time": "2024-05-18T13:04:50.636722",
     "status": "completed"
    },
    "tags": []
   },
   "outputs": [],
   "source": [
    "categorical_cols = [\"thal\",\"ca\",\"exang\",\"slope\",\"restecg\",\"fbs\",\"cp\",\"sex\",\"num\"]\n",
    "bool_cols = [\"fbs\",\"exang\"]\n",
    "numeric_cols = [\"oldpeak\",\"thalch\",\"chol\",\"trestbps\",\"age\"]"
   ]
  },
  {
   "cell_type": "markdown",
   "id": "c3cda84b",
   "metadata": {
    "id": "L19At9EXBMPs",
    "papermill": {
     "duration": 0.058688,
     "end_time": "2024-05-18T13:04:50.824788",
     "exception": false,
     "start_time": "2024-05-18T13:04:50.766100",
     "status": "completed"
    },
    "tags": []
   },
   "source": [
    "------------------\n",
    "\n",
    "## **The only Function to impute missing values**\n",
    "\n",
    "The only purpose of this function was to automate the process. Here is the further explanation\n",
    "\n",
    "- **`Imputing Missing Data:`** The code is designed to handle missing data imputation, specifically for categorical and continuous variables separately.\n",
    "- **`Iterative Imputation:`** It utilizes an iterative imputer with RandomForestRegressor estimator to predict and fill in missing values iteratively.\n",
    "- **`Model-based Approach:`** For both categorical and continuous variables, it employs RandomForest models (either Classifier or Regressor) to predict missing values based on the other features.\n",
    "- **`Evaluation and Application:`** It evaluates the imputation accuracy for categorical variables using accuracy score and for continuous variables using metrics like MAE, RMSE, and R2. Finally, it applies the imputation to the dataset and returns the imputed column.\n",
    "\n",
    "\n",
    "-----------------"
   ]
  },
  {
   "cell_type": "code",
   "execution_count": 333,
   "id": "08337c56",
   "metadata": {
    "execution": {
     "iopub.execute_input": "2024-05-18T13:04:50.944842Z",
     "iopub.status.busy": "2024-05-18T13:04:50.944363Z",
     "iopub.status.idle": "2024-05-18T13:04:50.974361Z",
     "shell.execute_reply": "2024-05-18T13:04:50.973078Z"
    },
    "id": "zqDcrVTcBCZY",
    "papermill": {
     "duration": 0.093704,
     "end_time": "2024-05-18T13:04:50.977149",
     "exception": false,
     "start_time": "2024-05-18T13:04:50.883445",
     "status": "completed"
    },
    "tags": []
   },
   "outputs": [],
   "source": [
    "def impute_categorical_missing_data(passed_col):\n",
    "    df_null = df[df[passed_col].isnull()]\n",
    "    df_not_null = df[df[passed_col].notnull()]\n",
    "    X = df_not_null.drop(passed_col, axis=1)\n",
    "    y = df_not_null[passed_col]\n",
    "    other_missing_cols = [col for col in missing_data_cols if col != passed_col]\n",
    "    label_encoder = LabelEncoder()\n",
    "    for col in X.columns:\n",
    "        if X[col].dtype == 'object' or X[col].dtype == 'category':\n",
    "            X[col] = label_encoder.fit_transform(X[col])\n",
    "    if passed_col in bool_cols:\n",
    "        y = label_encoder.fit_transform(y)\n",
    "    iterative_imputer = IterativeImputer(estimator=RandomForestRegressor(random_state=42), add_indicator=True)\n",
    "    for col in other_missing_cols:\n",
    "        if X[col].isnull().sum() > 0:\n",
    "            col_with_missing_values = X[col].values.reshape(-1, 1)\n",
    "            imputed_values = iterative_imputer.fit_transform(col_with_missing_values)\n",
    "            X[col] = imputed_values[:, 0]\n",
    "    X_train, X_test, y_train, y_test = train_test_split(X, y, test_size=0.2, random_state=42)\n",
    "    rf_classifier = RandomForestClassifier()\n",
    "    rf_classifier.fit(X_train, y_train)\n",
    "    y_pred = rf_classifier.predict(X_test)\n",
    "    acc_score = accuracy_score(y_test, y_pred)\n",
    "    print(\"The feature '\"+ passed_col+ \"' has been imputed with\", round((acc_score * 100), 2), \"accuracy\\n\")\n",
    "    X = df_null.drop(passed_col, axis=1)\n",
    "    for col in X.columns:\n",
    "        if X[col].dtype == 'object' or X[col].dtype == 'category':\n",
    "            X[col] = label_encoder.fit_transform(X[col])\n",
    "    for col in other_missing_cols:\n",
    "        if X[col].isnull().sum() > 0:\n",
    "            col_with_missing_values = X[col].values.reshape(-1, 1)\n",
    "            imputed_values = iterative_imputer.fit_transform(col_with_missing_values)\n",
    "            X[col] = imputed_values[:, 0]\n",
    "    if len(df_null) > 0:\n",
    "        df_null[passed_col] = rf_classifier.predict(X)\n",
    "        if passed_col in bool_cols:\n",
    "            df_null[passed_col] = df_null[passed_col].map({0: False, 1: True})\n",
    "    df_combined = pd.concat([df_not_null, df_null])\n",
    "    return df_combined[passed_col]\n",
    "\n",
    "def impute_continuous_missing_data(passed_col):\n",
    "    df_null = df[df[passed_col].isnull()]\n",
    "    df_not_null = df[df[passed_col].notnull()]\n",
    "    X = df_not_null.drop(passed_col, axis=1)\n",
    "    y = df_not_null[passed_col]\n",
    "    other_missing_cols = [col for col in missing_data_cols if col != passed_col]\n",
    "    label_encoder = LabelEncoder()\n",
    "    for col in X.columns:\n",
    "        if X[col].dtype == 'object' or X[col].dtype == 'category':\n",
    "            X[col] = label_encoder.fit_transform(X[col])\n",
    "    iterative_imputer = IterativeImputer(estimator=RandomForestRegressor(random_state=42), add_indicator=True)\n",
    "    for col in other_missing_cols:\n",
    "        if X[col].isnull().sum() > 0:\n",
    "            col_with_missing_values = X[col].values.reshape(-1, 1)\n",
    "            imputed_values = iterative_imputer.fit_transform(col_with_missing_values)\n",
    "            X[col] = imputed_values[:, 0]\n",
    "    X_train, X_test, y_train, y_test = train_test_split(X, y, test_size=0.2, random_state=42)\n",
    "    rf_regressor = RandomForestRegressor()\n",
    "    rf_regressor.fit(X_train, y_train)\n",
    "    y_pred = rf_regressor.predict(X_test)\n",
    "    print(\"MAE =\", mean_absolute_error(y_test, y_pred), \"\\n\")\n",
    "    # RMSE fix for all versions:\n",
    "    mse = mean_squared_error(y_test, y_pred)\n",
    "    rmse = np.sqrt(mse)\n",
    "    print(\"RMSE =\", rmse, \"\\n\")\n",
    "    print(\"R2 =\", r2_score(y_test, y_pred), \"\\n\")\n",
    "    X = df_null.drop(passed_col, axis=1)\n",
    "    for col in X.columns:\n",
    "        if X[col].dtype == 'object' or X[col].dtype == 'category':\n",
    "            X[col] = label_encoder.fit_transform(X[col])\n",
    "    for col in other_missing_cols:\n",
    "        if X[col].isnull().sum() > 0:\n",
    "            col_with_missing_values = X[col].values.reshape(-1, 1)\n",
    "            imputed_values = iterative_imputer.fit_transform(col_with_missing_values)\n",
    "            X[col] = imputed_values[:, 0]\n",
    "    if len(df_null) > 0:\n",
    "        df_null[passed_col] = rf_regressor.predict(X)\n",
    "    df_combined = pd.concat([df_not_null, df_null])\n",
    "    return df_combined[passed_col]"
   ]
  },
  {
   "cell_type": "markdown",
   "id": "efe1411c",
   "metadata": {
    "id": "cbEUhKfnBpJb",
    "papermill": {
     "duration": 0.058743,
     "end_time": "2024-05-18T13:04:51.093894",
     "exception": false,
     "start_time": "2024-05-18T13:04:51.035151",
     "status": "completed"
    },
    "tags": []
   },
   "source": [
    "### **Let's Check Missing Values Again**"
   ]
  },
  {
   "cell_type": "code",
   "execution_count": 334,
   "id": "f576cebc",
   "metadata": {
    "execution": {
     "iopub.execute_input": "2024-05-18T13:04:51.212535Z",
     "iopub.status.busy": "2024-05-18T13:04:51.212145Z",
     "iopub.status.idle": "2024-05-18T13:04:51.222983Z",
     "shell.execute_reply": "2024-05-18T13:04:51.221811Z"
    },
    "id": "OSe-H6OIBa8Z",
    "outputId": "3f1be4dd-5854-4743-a1dc-f699ef7055dd",
    "papermill": {
     "duration": 0.073381,
     "end_time": "2024-05-18T13:04:51.225200",
     "exception": false,
     "start_time": "2024-05-18T13:04:51.151819",
     "status": "completed"
    },
    "tags": []
   },
   "outputs": [
    {
     "data": {
      "text/plain": [
       "ca          611\n",
       "thal        486\n",
       "slope       309\n",
       "fbs          90\n",
       "oldpeak      62\n",
       "trestbps     59\n",
       "thalch       55\n",
       "exang        55\n",
       "chol         30\n",
       "restecg       2\n",
       "id            0\n",
       "age           0\n",
       "sex           0\n",
       "dataset       0\n",
       "cp            0\n",
       "num           0\n",
       "dtype: int64"
      ]
     },
     "execution_count": 334,
     "metadata": {},
     "output_type": "execute_result"
    }
   ],
   "source": [
    "df.isnull().sum().sort_values(ascending=False)"
   ]
  },
  {
   "cell_type": "markdown",
   "id": "2a4e263f",
   "metadata": {
    "id": "Ts7QLb76BxYb",
    "papermill": {
     "duration": 0.060677,
     "end_time": "2024-05-18T13:04:51.344162",
     "exception": false,
     "start_time": "2024-05-18T13:04:51.283485",
     "status": "completed"
    },
    "tags": []
   },
   "source": [
    "### **Let's impute missing values using our function**"
   ]
  },
  {
   "cell_type": "code",
   "execution_count": 335,
   "id": "29c83363",
   "metadata": {
    "execution": {
     "iopub.execute_input": "2024-05-18T13:04:51.463088Z",
     "iopub.status.busy": "2024-05-18T13:04:51.462271Z",
     "iopub.status.idle": "2024-05-18T13:04:55.553916Z",
     "shell.execute_reply": "2024-05-18T13:04:55.552181Z"
    },
    "id": "Y_ksaKomBrvr",
    "outputId": "593a03df-bf43-467d-ac18-198396b02c5f",
    "papermill": {
     "duration": 4.154194,
     "end_time": "2024-05-18T13:04:55.556624",
     "exception": false,
     "start_time": "2024-05-18T13:04:51.402430",
     "status": "completed"
    },
    "tags": []
   },
   "outputs": [
    {
     "name": "stdout",
     "output_type": "stream",
     "text": [
      "Missing Values trestbps : 6.41%\n",
      "MAE = 13.354219653179191 \n",
      "\n",
      "RMSE = 17.16294923926524 \n",
      "\n",
      "R2 = 0.08026728800149219 \n",
      "\n",
      "Missing Values chol : 3.26%\n",
      "MAE = 44.43808988764046 \n",
      "\n",
      "RMSE = 63.51933960118592 \n",
      "\n",
      "R2 = 0.6803824678885186 \n",
      "\n",
      "Missing Values fbs : 9.78%\n",
      "The feature 'fbs' has been imputed with 79.52 accuracy\n",
      "\n",
      "Missing Values restecg : 0.22%\n",
      "The feature 'restecg' has been imputed with 64.13 accuracy\n",
      "\n",
      "Missing Values thalch : 5.98%\n",
      "MAE = 16.492716763005777 \n",
      "\n",
      "RMSE = 21.334448628120107 \n",
      "\n",
      "R2 = 0.33816129698272235 \n",
      "\n",
      "Missing Values exang : 5.98%\n",
      "The feature 'exang' has been imputed with 79.19 accuracy\n",
      "\n",
      "Missing Values oldpeak : 6.74%\n",
      "MAE = 0.5549941860465116 \n",
      "\n",
      "RMSE = 0.7823870042495623 \n",
      "\n",
      "R2 = 0.4168219063932346 \n",
      "\n",
      "Missing Values slope : 33.59%\n",
      "The feature 'slope' has been imputed with 69.11 accuracy\n",
      "\n",
      "Missing Values ca : 66.41%\n",
      "The feature 'ca' has been imputed with 66.13 accuracy\n",
      "\n",
      "Missing Values thal : 52.83%\n",
      "The feature 'thal' has been imputed with 77.01 accuracy\n",
      "\n"
     ]
    }
   ],
   "source": [
    "# remove warning\n",
    "import warnings\n",
    "warnings.filterwarnings('ignore')\n",
    "\n",
    "# impute missing values using our functions\n",
    "for col in missing_data_cols:\n",
    "    print(\"Missing Values\", col, \":\", str(round((df[col].isnull().sum() / len(df)) * 100, 2))+\"%\")\n",
    "    if col in categorical_cols:\n",
    "        df[col] = impute_categorical_missing_data(col)\n",
    "    elif col in numeric_cols:\n",
    "        df[col] = impute_continuous_missing_data(col)\n",
    "    else:\n",
    "        pass"
   ]
  },
  {
   "cell_type": "markdown",
   "id": "b120df94",
   "metadata": {
    "id": "zZfpyCZEB_1R",
    "papermill": {
     "duration": 0.060123,
     "end_time": "2024-05-18T13:04:55.678047",
     "exception": false,
     "start_time": "2024-05-18T13:04:55.617924",
     "status": "completed"
    },
    "tags": []
   },
   "source": [
    "### **Let's check missing values again**"
   ]
  },
  {
   "cell_type": "code",
   "execution_count": 336,
   "id": "f05525d9",
   "metadata": {
    "execution": {
     "iopub.execute_input": "2024-05-18T13:04:55.803380Z",
     "iopub.status.busy": "2024-05-18T13:04:55.802895Z",
     "iopub.status.idle": "2024-05-18T13:04:55.815079Z",
     "shell.execute_reply": "2024-05-18T13:04:55.813870Z"
    },
    "id": "h6QQ-IPQB4hB",
    "outputId": "6ef6c501-948b-4749-d2ee-a5c21bbf5b2f",
    "papermill": {
     "duration": 0.078085,
     "end_time": "2024-05-18T13:04:55.817620",
     "exception": false,
     "start_time": "2024-05-18T13:04:55.739535",
     "status": "completed"
    },
    "tags": []
   },
   "outputs": [
    {
     "data": {
      "text/plain": [
       "id          0\n",
       "age         0\n",
       "sex         0\n",
       "dataset     0\n",
       "cp          0\n",
       "trestbps    0\n",
       "chol        0\n",
       "fbs         0\n",
       "restecg     0\n",
       "thalch      0\n",
       "exang       0\n",
       "oldpeak     0\n",
       "slope       0\n",
       "ca          0\n",
       "thal        0\n",
       "num         0\n",
       "dtype: int64"
      ]
     },
     "execution_count": 336,
     "metadata": {},
     "output_type": "execute_result"
    }
   ],
   "source": [
    "df.isnull().sum().sort_values(ascending=False)"
   ]
  },
  {
   "cell_type": "markdown",
   "id": "94cb0abe",
   "metadata": {
    "papermill": {
     "duration": 0.060968,
     "end_time": "2024-05-18T13:04:55.939503",
     "exception": false,
     "start_time": "2024-05-18T13:04:55.878535",
     "status": "completed"
    },
    "tags": []
   },
   "source": [
    "# **<font color='blue'>Dealing with Outliers in Dataset</font>**\n"
   ]
  },
  {
   "cell_type": "markdown",
   "id": "ba7e39e7",
   "metadata": {
    "id": "NMRzvWgHCS50",
    "papermill": {
     "duration": 0.060409,
     "end_time": "2024-05-18T13:04:56.060922",
     "exception": false,
     "start_time": "2024-05-18T13:04:56.000513",
     "status": "completed"
    },
    "tags": []
   },
   "source": [
    "### **Create box plots for all numeric columns using for loop and subplot**"
   ]
  },
  {
   "cell_type": "code",
   "execution_count": 337,
   "id": "dd7229f9",
   "metadata": {
    "execution": {
     "iopub.execute_input": "2024-05-18T13:04:56.186865Z",
     "iopub.status.busy": "2024-05-18T13:04:56.186394Z",
     "iopub.status.idle": "2024-05-18T13:04:57.076256Z",
     "shell.execute_reply": "2024-05-18T13:04:57.074978Z"
    },
    "id": "KuZTIDqJCPGB",
    "outputId": "7a39f9a0-70a1-4f08-ee56-cc7e74f99cf6",
    "papermill": {
     "duration": 0.955711,
     "end_time": "2024-05-18T13:04:57.078643",
     "exception": false,
     "start_time": "2024-05-18T13:04:56.122932",
     "status": "completed"
    },
    "tags": []
   },
   "outputs": [
    {
     "data": {
      "image/png": "[encoded data removed]",
      "text/plain": [
       "<Figure size 2000x2000 with 5 Axes>"
      ]
     },
     "metadata": {},
     "output_type": "display_data"
    }
   ],
   "source": [
    "# create box plots for all numeric columns using for loop and subplot\n",
    "plt.figure(figsize=(20, 20))\n",
    "\n",
    "colors = ['red', 'green', 'blue', 'orange', 'purple']\n",
    "\n",
    "for i, col in enumerate(numeric_cols):\n",
    "    plt.subplot(3, 2, i+1)\n",
    "    sns.boxplot(x=df[col], color=colors[i])\n",
    "    plt.title(col)\n",
    "plt.show()\n",
    "\n"
   ]
  },
  {
   "cell_type": "markdown",
   "id": "50d49ba2",
   "metadata": {
    "id": "jWclQy8RCr_k",
    "papermill": {
     "duration": 0.058465,
     "end_time": "2024-05-18T13:04:57.196404",
     "exception": false,
     "start_time": "2024-05-18T13:04:57.137939",
     "status": "completed"
    },
    "tags": []
   },
   "source": [
    "#### **Remove row where trestbps is 0**"
   ]
  },
  {
   "cell_type": "code",
   "execution_count": 338,
   "id": "91fde30e",
   "metadata": {
    "execution": {
     "iopub.execute_input": "2024-05-18T13:04:57.318490Z",
     "iopub.status.busy": "2024-05-18T13:04:57.317559Z",
     "iopub.status.idle": "2024-05-18T13:04:57.326696Z",
     "shell.execute_reply": "2024-05-18T13:04:57.325288Z"
    },
    "id": "-Xolv2wSCmQb",
    "papermill": {
     "duration": 0.072938,
     "end_time": "2024-05-18T13:04:57.329183",
     "exception": false,
     "start_time": "2024-05-18T13:04:57.256245",
     "status": "completed"
    },
    "tags": []
   },
   "outputs": [],
   "source": [
    "# print the row from df where trestbps value is 0\n",
    "df[df['trestbps'] == 0]\n",
    "# remove this row from data\n",
    "df = df[df['trestbps'] != 0]"
   ]
  },
  {
   "cell_type": "markdown",
   "id": "e2139f36",
   "metadata": {
    "papermill": {
     "duration": 0.058213,
     "end_time": "2024-05-18T13:04:57.447606",
     "exception": false,
     "start_time": "2024-05-18T13:04:57.389393",
     "status": "completed"
    },
    "tags": []
   },
   "source": [
    "#### **Why not to remove outliers yet?**\n",
    "\n",
    "- Keeping outliers in the dataset can be advantageous for predictive modeling purposes. \n",
    "- They offer valuable insights into the data, aiding in the comprehension of variable relationships. \n",
    "- Additionally, outliers serve as indicators of potential data errors, enhancing the overall quality of analysis and interpretation."
   ]
  },
  {
   "cell_type": "markdown",
   "id": "c44602a7",
   "metadata": {},
   "source": [
    "# **<font color='blue'>Perform Statistical Test to Select Best Features for our Predictive Model</font>**\n"
   ]
  },
  {
   "cell_type": "markdown",
   "id": "83dc7481",
   "metadata": {},
   "source": [
    "## **1. Chi-Square Test (Categorical Features):**\n",
    "\n",
    "- Use for categorical variables like `sex, cp, fbs, restecg, exang, slope, thal, ca`.\n",
    "- This test evaluates if there’s a significant association between categorical variables and the target."
   ]
  },
  {
   "cell_type": "code",
   "execution_count": 339,
   "id": "f131a1c0",
   "metadata": {},
   "outputs": [],
   "source": [
    "# Make a copy of our data\n",
    "\n",
    "dataset = df.copy()"
   ]
  },
  {
   "cell_type": "code",
   "execution_count": 340,
   "id": "968af652",
   "metadata": {},
   "outputs": [],
   "source": [
    "# List of columns to encode\n",
    "categorical_columns_for_chi_squared_test = ['sex', 'cp', 'restecg', 'exang', 'slope', 'thal']"
   ]
  },
  {
   "cell_type": "code",
   "execution_count": 341,
   "id": "8eec5556",
   "metadata": {},
   "outputs": [],
   "source": [
    "# Label encode each categorical column\n",
    "label_enc = LabelEncoder()\n",
    "for col in categorical_columns_for_chi_squared_test:\n",
    "    dataset[col] = label_enc.fit_transform(dataset[col])"
   ]
  },
  {
   "cell_type": "code",
   "execution_count": 342,
   "id": "1dd4af75",
   "metadata": {},
   "outputs": [],
   "source": [
    "# Define X1 (independent variables) and y1 (target)\n",
    "X1 = dataset[['sex', 'cp', 'fbs', 'restecg', 'exang', 'slope', 'thal', 'ca']]\n",
    "y1 = dataset['num']"
   ]
  },
  {
   "cell_type": "code",
   "execution_count": 343,
   "id": "d7d16aa6",
   "metadata": {},
   "outputs": [
    {
     "name": "stdout",
     "output_type": "stream",
     "text": [
      "   Feature       Score\n",
      "7       ca  344.674590\n",
      "1       cp  161.895552\n",
      "4    exang  110.510748\n",
      "5    slope   53.385658\n",
      "6     thal   24.571764\n",
      "0      sex   18.455590\n",
      "2      fbs   15.656211\n",
      "3  restecg    3.492008\n"
     ]
    }
   ],
   "source": [
    "# Perform Chi-Square test\n",
    "chi_scores = chi2(X1, y1)\n",
    "chi2_scores = pd.DataFrame({\"Feature\": X1.columns, \"Score\": chi_scores[0]})\n",
    "print(chi2_scores.sort_values(by=\"Score\", ascending=False))"
   ]
  },
  {
   "cell_type": "markdown",
   "id": "4c185b0c",
   "metadata": {},
   "source": [
    "\n",
    "\n",
    "The output of the Chi-Square test shows the **Chi-Square statistic (Score)** for each feature, indicating how strongly each feature is associated with the target variable (`num`), which represents heart disease diagnosis. Here's what the scores tell us:\n",
    "\n",
    "- **Higher Scores**: The higher the Chi-Square score, the stronger the association between the feature and the target variable. Features with higher scores are more relevant for predicting the target.\n",
    "- **Lower Scores**: Features with lower scores have a weaker relationship with the target variable.\n",
    "\n",
    "### Interpreting Your Results:\n",
    "1. **`ca` (coronary arteries)**: This feature has the highest score (431.67), indicating it is the most important predictor for heart disease in your dataset.\n",
    "2. **`cp` (chest pain type)**: With a score of 161.89, this is the second most important feature, indicating a strong association with the target.\n",
    "3. **`exang` (exercise-induced angina)**: This feature also has a high score (107.60), showing significant relevance.\n",
    "4. **`slope` (slope of the peak exercise ST segment)** and **`thal` (thalassemia)**: These features have moderate relevance (51.72 and 19.87, respectively).\n",
    "5. **`sex` (gender)** and **`fbs` (fasting blood sugar)**: These have lower scores (18.45 and 15.65), meaning they are less strongly associated with heart disease compared to other features.\n",
    "6. **`restecg` (resting electrocardiographic results)**: This feature has the lowest score (3.45), indicating it is the least important feature according to the Chi-Square test.\n",
    "\n",
    "### Next Steps:\n",
    "- You may want to prioritize features with higher Chi-Square scores (like `ca`, `cp`, `exang`) for model building, as they are more predictive of heart disease.\n",
    "- Features with low scores (e.g., `restecg`) might be less useful, but it's important to combine this information with domain knowledge and model performance testing to make final feature selection decisions.\n",
    "\n",
    "Would you like to proceed with building the prediction model using the most relevant features?\n",
    "\n",
    "------"
   ]
  },
  {
   "cell_type": "markdown",
   "id": "dd528bce",
   "metadata": {},
   "source": [
    "## **2. ANOVA F-test (Numerical Features):**\n",
    "\n",
    "- Use for continuous numerical variables like age, trestbps, chol, thalch, oldpeak.\n",
    "- This test compares the means of different groups of the target variable to assess if the feature helps separate classes."
   ]
  },
  {
   "cell_type": "code",
   "execution_count": 344,
   "id": "0e2b9830",
   "metadata": {},
   "outputs": [],
   "source": [
    "# Selecting numerical features\n",
    "X_num_for_f_test = dataset[['age', 'trestbps', 'chol', 'thalch', 'oldpeak']]"
   ]
  },
  {
   "cell_type": "code",
   "execution_count": 345,
   "id": "8d2c6121",
   "metadata": {},
   "outputs": [],
   "source": [
    "# Defining the target column\n",
    "y_for_f_test = dataset['num']"
   ]
  },
  {
   "cell_type": "code",
   "execution_count": 346,
   "id": "efe6c7cf",
   "metadata": {},
   "outputs": [],
   "source": [
    "# Performing the ANOVA F-test\n",
    "f_scores, p_values = f_classif(X_num_for_f_test, y_for_f_test)"
   ]
  },
  {
   "cell_type": "code",
   "execution_count": 347,
   "id": "2216fdcc",
   "metadata": {},
   "outputs": [],
   "source": [
    "# Creating a DataFrame to store F-scores\n",
    "f_scores_df = pd.DataFrame({'Feature': X_num_for_f_test.columns, 'F-Score': f_scores})"
   ]
  },
  {
   "cell_type": "code",
   "execution_count": 348,
   "id": "f19e08a0",
   "metadata": {},
   "outputs": [
    {
     "name": "stdout",
     "output_type": "stream",
     "text": [
      "    Feature    F-Score\n",
      "4   oldpeak  58.104825\n",
      "3    thalch  45.231467\n",
      "0       age  31.249724\n",
      "2      chol  17.825589\n",
      "1  trestbps   5.145541\n"
     ]
    }
   ],
   "source": [
    "# Sorting and displaying the F-scores\n",
    "print(f_scores_df.sort_values(by='F-Score', ascending=False))"
   ]
  },
  {
   "cell_type": "markdown",
   "id": "e0cc5e68",
   "metadata": {},
   "source": [
    "\n",
    "\n",
    "The results of your ANOVA F-test show the relevance of each numerical feature in predicting heart disease (target variable `num`). Here's how to interpret the **F-Scores**:\n",
    "\n",
    "### Interpretation:\n",
    "\n",
    "1. **`oldpeak` (ST depression)**: With the highest F-score (58.56), this feature is the most important numerical predictor. It indicates the degree of ST depression induced by exercise and has a strong relationship with the target variable.\n",
    "  \n",
    "2. **`thalch` (maximum heart rate achieved)**: The second highest score (45.05) suggests that this feature is also highly relevant in predicting heart disease.\n",
    "\n",
    "3. **`age`**: With a score of 31.25, age is a significant factor, indicating that older individuals may have a higher or lower risk of heart disease based on this feature.\n",
    "\n",
    "4. **`chol` (cholesterol)**: This feature has a moderate F-score (17.87), suggesting that while it’s relevant, it's not as strong a predictor as the top three features.\n",
    "\n",
    "5. **`trestbps` (resting blood pressure)**: The lowest score (4.83) implies this feature has the weakest relationship with the target and may be less important in the model.\n",
    "\n",
    "### Conclusion:\n",
    "You may want to prioritize **`oldpeak`**, **`thalch`**, and **`age`** when building your prediction model, as these features are the most relevant according to the F-test. **`chol`** and **`trestbps`** may still be included, but they have less predictive power.\n",
    "\n",
    "Would you like to proceed with feature selection and model building now?\n",
    "\n",
    "-----"
   ]
  },
  {
   "cell_type": "markdown",
   "id": "4bfcbc74",
   "metadata": {},
   "source": [
    "## **Which Features to Keep and Which to Drop on Basis of Statistical Tests**\n",
    "\n",
    "\n",
    "Based on the results from both the **Chi-Square Test** for categorical features and the **ANOVA F-test** for numerical features, you can prioritize the most important features for building your heart disease prediction model.\n",
    "\n",
    "### **Top Features to Keep:**\n",
    "\n",
    "#### 1. **Categorical Features** (from the Chi-Square test):\n",
    "- **`ca` (number of major vessels colored by fluoroscopy)** – Highest score (431.67), indicating the strongest association.\n",
    "- **`cp` (chest pain type)** – Score (161.89), a strong predictor.\n",
    "- **`exang` (exercise-induced angina)** – Score (107.60), highly relevant.\n",
    "- **`slope` (slope of the peak exercise ST segment)** – Score (51.72), moderately important.\n",
    "- **`thal` (thalassemia)** – Score (19.87), also relevant.\n",
    "\n",
    "You may choose to drop `restecg` and `fbs` since they have much lower scores and may not add much value to the model.\n",
    "\n",
    "#### 2. **Numerical Features** (from the ANOVA F-test):\n",
    "- **`oldpeak` (ST depression induced by exercise)** – F-score (58.56), the most important numerical feature.\n",
    "- **`thalch` (maximum heart rate achieved)** – F-score (45.05), very relevant.\n",
    "- **`age`** – F-score (31.25), also quite important.\n",
    "- **`chol` (cholesterol level)** – F-score (17.87), moderately important.\n",
    "- **`trestbps` (resting blood pressure)** – F-score (4.83), the least important numerical feature, though you can still keep it if needed.\n",
    "\n",
    "### **Final Set of Features to Keep:**\n",
    "- **Categorical**: `ca`, `cp`, `exang`, `slope`, `thal`\n",
    "- **Numerical**: `oldpeak`, `thalch`, `age`, `chol`, `trestbps`\n",
    "\n",
    "### **Optional Drop:**\n",
    "- **`fbs`** and **`restecg`** (categorical) due to low Chi-Square scores.\n",
    "- **`trestbps`** (numerical) can also be dropped if you'd like to simplify the model further, as its F-score is low.\n",
    "\n",
    "With these features, you can build an effective heart disease prediction model. Would you like to move on to the model-building phase using these features?"
   ]
  },
  {
   "cell_type": "markdown",
   "id": "e4dfc672",
   "metadata": {
    "papermill": {
     "duration": 0.058909,
     "end_time": "2024-05-18T13:04:57.565389",
     "exception": false,
     "start_time": "2024-05-18T13:04:57.506480",
     "status": "completed"
    },
    "tags": []
   },
   "source": [
    "# **<font color='blue'>Machine Learning on this Dataset</font>**\n"
   ]
  },
  {
   "cell_type": "code",
   "execution_count": 349,
   "id": "03c3b538",
   "metadata": {
    "execution": {
     "iopub.execute_input": "2024-05-18T13:04:57.689189Z",
     "iopub.status.busy": "2024-05-18T13:04:57.688301Z",
     "iopub.status.idle": "2024-05-18T13:04:57.695578Z",
     "shell.execute_reply": "2024-05-18T13:04:57.694279Z"
    },
    "papermill": {
     "duration": 0.071272,
     "end_time": "2024-05-18T13:04:57.697989",
     "exception": false,
     "start_time": "2024-05-18T13:04:57.626717",
     "status": "completed"
    },
    "tags": []
   },
   "outputs": [
    {
     "data": {
      "text/plain": [
       "Index(['id', 'age', 'sex', 'dataset', 'cp', 'trestbps', 'chol', 'fbs',\n",
       "       'restecg', 'thalch', 'exang', 'oldpeak', 'slope', 'ca', 'thal', 'num'],\n",
       "      dtype='object')"
      ]
     },
     "execution_count": 349,
     "metadata": {},
     "output_type": "execute_result"
    }
   ],
   "source": [
    "# let's take a look at names of the columns in this dataset again\n",
    "df.columns"
   ]
  },
  {
   "cell_type": "code",
   "execution_count": 350,
   "id": "1e56e978",
   "metadata": {},
   "outputs": [],
   "source": [
    "# List of final features to keep\n",
    "final_features = ['ca', 'cp', 'exang', 'slope', 'thal', 'oldpeak', 'thalch', 'age', 'chol', 'trestbps']"
   ]
  },
  {
   "cell_type": "code",
   "execution_count": 351,
   "id": "bd2bb204",
   "metadata": {},
   "outputs": [],
   "source": [
    "# Selecting only the final set of features along with the target column 'num'\n",
    "final_dataset = dataset[final_features + ['num']]"
   ]
  },
  {
   "cell_type": "code",
   "execution_count": 352,
   "id": "811098d2",
   "metadata": {},
   "outputs": [
    {
     "data": {
      "text/html": [
       "<div>\n",
       "<style scoped>\n",
       "    .dataframe tbody tr th:only-of-type {\n",
       "        vertical-align: middle;\n",
       "    }\n",
       "\n",
       "    .dataframe tbody tr th {\n",
       "        vertical-align: top;\n",
       "    }\n",
       "\n",
       "    .dataframe thead th {\n",
       "        text-align: right;\n",
       "    }\n",
       "</style>\n",
       "<table border=\"1\" class=\"dataframe\">\n",
       "  <thead>\n",
       "    <tr style=\"text-align: right;\">\n",
       "      <th></th>\n",
       "      <th>ca</th>\n",
       "      <th>cp</th>\n",
       "      <th>exang</th>\n",
       "      <th>slope</th>\n",
       "      <th>thal</th>\n",
       "      <th>oldpeak</th>\n",
       "      <th>thalch</th>\n",
       "      <th>age</th>\n",
       "      <th>chol</th>\n",
       "      <th>trestbps</th>\n",
       "      <th>num</th>\n",
       "    </tr>\n",
       "  </thead>\n",
       "  <tbody>\n",
       "    <tr>\n",
       "      <th>0</th>\n",
       "      <td>0.0</td>\n",
       "      <td>3</td>\n",
       "      <td>0</td>\n",
       "      <td>0</td>\n",
       "      <td>0</td>\n",
       "      <td>2.3</td>\n",
       "      <td>150.0</td>\n",
       "      <td>63</td>\n",
       "      <td>233.0</td>\n",
       "      <td>145.0</td>\n",
       "      <td>0</td>\n",
       "    </tr>\n",
       "    <tr>\n",
       "      <th>1</th>\n",
       "      <td>3.0</td>\n",
       "      <td>0</td>\n",
       "      <td>1</td>\n",
       "      <td>1</td>\n",
       "      <td>1</td>\n",
       "      <td>1.5</td>\n",
       "      <td>108.0</td>\n",
       "      <td>67</td>\n",
       "      <td>286.0</td>\n",
       "      <td>160.0</td>\n",
       "      <td>2</td>\n",
       "    </tr>\n",
       "    <tr>\n",
       "      <th>2</th>\n",
       "      <td>2.0</td>\n",
       "      <td>0</td>\n",
       "      <td>1</td>\n",
       "      <td>1</td>\n",
       "      <td>2</td>\n",
       "      <td>2.6</td>\n",
       "      <td>129.0</td>\n",
       "      <td>67</td>\n",
       "      <td>229.0</td>\n",
       "      <td>120.0</td>\n",
       "      <td>1</td>\n",
       "    </tr>\n",
       "    <tr>\n",
       "      <th>3</th>\n",
       "      <td>0.0</td>\n",
       "      <td>2</td>\n",
       "      <td>0</td>\n",
       "      <td>0</td>\n",
       "      <td>1</td>\n",
       "      <td>3.5</td>\n",
       "      <td>187.0</td>\n",
       "      <td>37</td>\n",
       "      <td>250.0</td>\n",
       "      <td>130.0</td>\n",
       "      <td>0</td>\n",
       "    </tr>\n",
       "    <tr>\n",
       "      <th>4</th>\n",
       "      <td>0.0</td>\n",
       "      <td>1</td>\n",
       "      <td>0</td>\n",
       "      <td>2</td>\n",
       "      <td>1</td>\n",
       "      <td>1.4</td>\n",
       "      <td>172.0</td>\n",
       "      <td>41</td>\n",
       "      <td>204.0</td>\n",
       "      <td>130.0</td>\n",
       "      <td>0</td>\n",
       "    </tr>\n",
       "  </tbody>\n",
       "</table>\n",
       "</div>"
      ],
      "text/plain": [
       "    ca  cp  exang  slope  thal  oldpeak  thalch  age   chol  trestbps  num\n",
       "0  0.0   3      0      0     0      2.3   150.0   63  233.0     145.0    0\n",
       "1  3.0   0      1      1     1      1.5   108.0   67  286.0     160.0    2\n",
       "2  2.0   0      1      1     2      2.6   129.0   67  229.0     120.0    1\n",
       "3  0.0   2      0      0     1      3.5   187.0   37  250.0     130.0    0\n",
       "4  0.0   1      0      2     1      1.4   172.0   41  204.0     130.0    0"
      ]
     },
     "execution_count": 352,
     "metadata": {},
     "output_type": "execute_result"
    }
   ],
   "source": [
    "# Display the first few rows of the updated dataset\n",
    "final_dataset.head()"
   ]
  },
  {
   "cell_type": "code",
   "execution_count": 353,
   "id": "e41479b3",
   "metadata": {},
   "outputs": [],
   "source": [
    "final_dataset = df"
   ]
  },
  {
   "cell_type": "markdown",
   "id": "baf73dbc",
   "metadata": {
    "papermill": {
     "duration": 0.062558,
     "end_time": "2024-05-18T13:04:57.819510",
     "exception": false,
     "start_time": "2024-05-18T13:04:57.756952",
     "status": "completed"
    },
    "tags": []
   },
   "source": [
    "### **Target Column**"
   ]
  },
  {
   "cell_type": "code",
   "execution_count": 354,
   "id": "74d187a5",
   "metadata": {
    "execution": {
     "iopub.execute_input": "2024-05-18T13:04:57.944717Z",
     "iopub.status.busy": "2024-05-18T13:04:57.944002Z",
     "iopub.status.idle": "2024-05-18T13:04:57.951967Z",
     "shell.execute_reply": "2024-05-18T13:04:57.950789Z"
    },
    "papermill": {
     "duration": 0.073204,
     "end_time": "2024-05-18T13:04:57.954386",
     "exception": false,
     "start_time": "2024-05-18T13:04:57.881182",
     "status": "completed"
    },
    "tags": []
   },
   "outputs": [
    {
     "data": {
      "text/plain": [
       "num\n",
       "0    411\n",
       "1    265\n",
       "2    109\n",
       "3    106\n",
       "4     28\n",
       "Name: count, dtype: int64"
      ]
     },
     "execution_count": 354,
     "metadata": {},
     "output_type": "execute_result"
    }
   ],
   "source": [
    "# let's take a look at num column\n",
    "df[\"num\"].value_counts()"
   ]
  },
  {
   "cell_type": "markdown",
   "id": "4257e9eb",
   "metadata": {
    "papermill": {
     "duration": 0.060972,
     "end_time": "2024-05-18T13:04:58.076979",
     "exception": false,
     "start_time": "2024-05-18T13:04:58.016007",
     "status": "completed"
    },
    "tags": []
   },
   "source": [
    "The Target Column is `num` which is the predicted attribute. We will use this column to predict the heart disease. \n",
    "The unique values in this column are: **`[0, 1, 2, 3, 4], which states that there are 5 types of heart diseases`**.\n",
    "* `0 = no heart disease`\n",
    "* `1 = mild heart disease`\n",
    "* `2 = moderate heart disease `\n",
    "* `3 = severe heart disease`\n",
    "* `4 = critical heart disease `"
   ]
  },
  {
   "cell_type": "markdown",
   "id": "4d688f84",
   "metadata": {
    "papermill": {
     "duration": 0.061627,
     "end_time": "2024-05-18T13:04:58.200028",
     "exception": false,
     "start_time": "2024-05-18T13:04:58.138401",
     "status": "completed"
    },
    "tags": []
   },
   "source": [
    "#### **Split data into X and y**"
   ]
  },
  {
   "cell_type": "code",
   "execution_count": 355,
   "id": "0be043c7",
   "metadata": {
    "execution": {
     "iopub.execute_input": "2024-05-18T13:04:58.326001Z",
     "iopub.status.busy": "2024-05-18T13:04:58.325589Z",
     "iopub.status.idle": "2024-05-18T13:04:58.331521Z",
     "shell.execute_reply": "2024-05-18T13:04:58.330717Z"
    },
    "papermill": {
     "duration": 0.071645,
     "end_time": "2024-05-18T13:04:58.333855",
     "exception": false,
     "start_time": "2024-05-18T13:04:58.262210",
     "status": "completed"
    },
    "tags": []
   },
   "outputs": [],
   "source": [
    "# split data into X and y\n",
    "X = df.drop(['num'], axis=1)\n",
    "y = df['num']"
   ]
  },
  {
   "cell_type": "markdown",
   "id": "5bb32689",
   "metadata": {
    "papermill": {
     "duration": 0.060817,
     "end_time": "2024-05-18T13:04:58.459356",
     "exception": false,
     "start_time": "2024-05-18T13:04:58.398539",
     "status": "completed"
    },
    "tags": []
   },
   "source": [
    "### **Encode all catagorical columns using seperete label encoder for each and save it for inverse transform**"
   ]
  },
  {
   "cell_type": "code",
   "execution_count": 356,
   "id": "90858837",
   "metadata": {
    "execution": {
     "iopub.execute_input": "2024-05-18T13:04:58.584975Z",
     "iopub.status.busy": "2024-05-18T13:04:58.584186Z",
     "iopub.status.idle": "2024-05-18T13:04:58.603018Z",
     "shell.execute_reply": "2024-05-18T13:04:58.602047Z"
    },
    "papermill": {
     "duration": 0.084879,
     "end_time": "2024-05-18T13:04:58.605698",
     "exception": false,
     "start_time": "2024-05-18T13:04:58.520819",
     "status": "completed"
    },
    "tags": []
   },
   "outputs": [],
   "source": [
    "# Encode all catagorical columns using seperete label encoder for each and save it for inverse transform\n",
    "le = LabelEncoder()\n",
    "\n",
    "# using for loop \n",
    "for cols in X.columns:\n",
    "# Task: Separate Encoder for all cat and object columns and inverse transform at the end\n",
    "    label_encoder = LabelEncoder()\n",
    "\n",
    "    for col in X.columns:\n",
    "        if X[col].dtype == 'object' or X[col].dtype == 'category':\n",
    "            X[col] = label_encoder.fit_transform(X[col])\n",
    "        else:\n",
    "            pass\n",
    "    \n",
    "# split data into train test split\n",
    "X_train,X_test,y_train,y_test = train_test_split(X,y,test_size=0.2,random_state=42)"
   ]
  },
  {
   "cell_type": "markdown",
   "id": "20ba39a4",
   "metadata": {
    "papermill": {
     "duration": 0.06082,
     "end_time": "2024-05-18T13:04:58.728947",
     "exception": false,
     "start_time": "2024-05-18T13:04:58.668127",
     "status": "completed"
    },
    "tags": []
   },
   "source": [
    "#### **Here is the list of models that we will use for heart disease prediction.These models should be classifiers.We will use some of these models.**\n",
    "- Logistic Regression\n",
    "- Naive Bayse\n",
    "- Support vector machines (svm)\n",
    "- Decision Tree\n",
    "- Random Forest\n",
    "- KNN\n",
    "- XGboost\n",
    "- Adaboost\n",
    "- GradiantBoost\n",
    "- Catboost\n",
    "- LightGBM"
   ]
  },
  {
   "cell_type": "markdown",
   "id": "17deb864",
   "metadata": {
    "papermill": {
     "duration": 0.060795,
     "end_time": "2024-05-18T13:04:58.851132",
     "exception": false,
     "start_time": "2024-05-18T13:04:58.790337",
     "status": "completed"
    },
    "tags": []
   },
   "source": [
    "#### **Importing Machine Learning Libraries**"
   ]
  },
  {
   "cell_type": "code",
   "execution_count": 357,
   "id": "af06476b",
   "metadata": {
    "execution": {
     "iopub.execute_input": "2024-05-18T13:04:58.976698Z",
     "iopub.status.busy": "2024-05-18T13:04:58.975974Z",
     "iopub.status.idle": "2024-05-18T13:04:58.987524Z",
     "shell.execute_reply": "2024-05-18T13:04:58.986290Z"
    },
    "papermill": {
     "duration": 0.077704,
     "end_time": "2024-05-18T13:04:58.990419",
     "exception": false,
     "start_time": "2024-05-18T13:04:58.912715",
     "status": "completed"
    },
    "tags": []
   },
   "outputs": [],
   "source": [
    "# import all models\n",
    "from sklearn.linear_model import LogisticRegression\n",
    "from sklearn.neighbors import KNeighborsClassifier\n",
    "from sklearn.svm import SVC\n",
    "from sklearn.tree import DecisionTreeClassifier, plot_tree\n",
    "from sklearn.ensemble import RandomForestClassifier, AdaBoostClassifier, GradientBoostingClassifier\n",
    "from xgboost import XGBClassifier\n",
    "from sklearn.naive_bayes import GaussianNB\n",
    "# from lightgbm import LGBMClassifier\n",
    "\n",
    "# impot pipeline\n",
    "from sklearn.pipeline import Pipeline\n",
    "\n",
    "# import metrics\n",
    "from sklearn.metrics import accuracy_score, confusion_matrix, classification_report"
   ]
  },
  {
   "cell_type": "markdown",
   "id": "a8ed7e2e",
   "metadata": {
    "papermill": {
     "duration": 0.061079,
     "end_time": "2024-05-18T13:04:59.113267",
     "exception": false,
     "start_time": "2024-05-18T13:04:59.052188",
     "status": "completed"
    },
    "tags": []
   },
   "source": [
    "# **<font color='blue'>Let's Select the best model for prediction</font>**\n"
   ]
  },
  {
   "cell_type": "code",
   "execution_count": 358,
   "id": "879f7bf3",
   "metadata": {
    "execution": {
     "iopub.execute_input": "2024-05-18T13:04:59.238366Z",
     "iopub.status.busy": "2024-05-18T13:04:59.237390Z",
     "iopub.status.idle": "2024-05-18T13:05:11.540023Z",
     "shell.execute_reply": "2024-05-18T13:05:11.537659Z"
    },
    "papermill": {
     "duration": 12.367978,
     "end_time": "2024-05-18T13:05:11.542592",
     "exception": false,
     "start_time": "2024-05-18T13:04:59.174614",
     "status": "completed"
    },
    "tags": []
   },
   "outputs": [
    {
     "name": "stdout",
     "output_type": "stream",
     "text": [
      "Model: Random Forest\n",
      "Cross-validation Accuracy: 0.6693877551020407\n",
      "Test Accuracy: 0.625\n",
      "\n",
      "Model: Gradient Boosting\n",
      "Cross-validation Accuracy: 0.6544217687074829\n",
      "Test Accuracy: 0.6630434782608695\n",
      "\n",
      "Model: Support Vector Machine\n",
      "Cross-validation Accuracy: 0.582312925170068\n",
      "Test Accuracy: 0.5815217391304348\n",
      "\n",
      "Model: Logistic Regression\n",
      "Cross-validation Accuracy: 0.526530612244898\n",
      "Test Accuracy: 0.4945652173913043\n",
      "\n",
      "Model: K-Nearest Neighbors\n",
      "Cross-validation Accuracy: 0.5768707482993197\n",
      "Test Accuracy: 0.592391304347826\n",
      "\n",
      "Model: Decision Tree\n",
      "Cross-validation Accuracy: 0.6122448979591837\n",
      "Test Accuracy: 0.6304347826086957\n",
      "\n",
      "Model: Ada Boost\n",
      "Cross-validation Accuracy: 0.6421768707482993\n",
      "Test Accuracy: 0.6141304347826086\n",
      "\n",
      "Model: XG Boost\n",
      "Cross-validation Accuracy: 0.6462585034013605\n",
      "Test Accuracy: 0.6630434782608695\n",
      "\n",
      "Model: Naive Bayes\n",
      "Cross-validation Accuracy: 0.5836734693877551\n",
      "Test Accuracy: 0.5434782608695652\n",
      "\n",
      "Best Model: Pipeline(steps=[('model', GradientBoostingClassifier(random_state=42))])\n"
     ]
    }
   ],
   "source": [
    "# Create a list of models to evaluate\n",
    "models = [\n",
    "    ('Random Forest', RandomForestClassifier(random_state=42)),\n",
    "    ('Gradient Boosting', GradientBoostingClassifier(random_state=42)),\n",
    "    ('Support Vector Machine', SVC(random_state=42)),\n",
    "    ('Logistic Regression', LogisticRegression(random_state=42)),\n",
    "    ('K-Nearest Neighbors', KNeighborsClassifier()),\n",
    "    ('Decision Tree', DecisionTreeClassifier(random_state=42)),\n",
    "    ('Ada Boost', AdaBoostClassifier(random_state=42)),\n",
    "    ('XG Boost', XGBClassifier(random_state=42)),\n",
    "    ('Naive Bayes', GaussianNB())\n",
    "]\n",
    "\n",
    "best_model = None\n",
    "best_accuracy = 0.0\n",
    "\n",
    "# Iterate over the models and evaluate their performance\n",
    "for name, model in models:\n",
    "    # Create a pipeline for each model\n",
    "    pipeline = Pipeline([\n",
    "        # ('imputer', SimpleImputer(strategy='most_frequent')),\n",
    "        # ('encoder', OneHotEncoder(handle_unknown='ignore')),\n",
    "        ('model', model)\n",
    "    ])\n",
    "    \n",
    "    # Perform cross-validation\n",
    "    scores = cross_val_score(pipeline, X_train, y_train, cv=5)\n",
    "    \n",
    "    # Calculate mean accuracy\n",
    "    mean_accuracy = scores.mean()\n",
    "    \n",
    "    # Fit the pipeline on the training data\n",
    "    pipeline.fit(X_train, y_train)\n",
    "    \n",
    "    # Make predictions on the test data\n",
    "    y_pred = pipeline.predict(X_test)\n",
    "    \n",
    "    # Calculate accuracy score\n",
    "    accuracy = accuracy_score(y_test, y_pred)\n",
    "    \n",
    "    # Print the performance metrics\n",
    "    print(\"Model:\", name)\n",
    "    print(\"Cross-validation Accuracy:\", mean_accuracy)\n",
    "    print(\"Test Accuracy:\", accuracy)\n",
    "    print()\n",
    "    \n",
    "    # Check if the current model has the best accuracy\n",
    "    if accuracy > best_accuracy:\n",
    "        best_accuracy = accuracy\n",
    "        best_model = pipeline\n",
    "\n",
    "# Retrieve the best model\n",
    "print(\"Best Model:\", best_model)"
   ]
  },
  {
   "cell_type": "markdown",
   "id": "0077c994",
   "metadata": {
    "papermill": {
     "duration": 0.063753,
     "end_time": "2024-05-18T13:05:11.670554",
     "exception": false,
     "start_time": "2024-05-18T13:05:11.606801",
     "status": "completed"
    },
    "tags": []
   },
   "source": [
    "Based on my code, I determined the best model using the following criteria:\n",
    "\n",
    "1. **Cross-validation Accuracy**: I performed 5-fold cross-validation for each model to assess their performance on different subsets of the training data. The mean accuracy from these cross-validation scores was considered for comparison.\n",
    "\n",
    "2. **Test Accuracy**: After training each model, I evaluated its performance on the test set and calculated the test accuracy. This metric reflects how well the model generalizes to unseen data.\n",
    "\n",
    "3. **Best Accuracy Selection**: I compared the test accuracy of all the models and selected the one with the highest test accuracy as the best model. In this case, the Ada Boost model had the highest test accuracy of 0.6576, making it the best model based on my evaluation criteria.\n"
   ]
  },
  {
   "cell_type": "markdown",
   "id": "35b4f5c8",
   "metadata": {
    "papermill": {
     "duration": 0.062662,
     "end_time": "2024-05-18T13:05:11.796897",
     "exception": false,
     "start_time": "2024-05-18T13:05:11.734235",
     "status": "completed"
    },
    "tags": []
   },
   "source": [
    "# **<font color='blue'>Save the best model</font>**\n"
   ]
  },
  {
   "cell_type": "code",
   "execution_count": 359,
   "id": "b3af24a7",
   "metadata": {
    "execution": {
     "iopub.execute_input": "2024-05-18T13:05:11.924535Z",
     "iopub.status.busy": "2024-05-18T13:05:11.923906Z",
     "iopub.status.idle": "2024-05-18T13:05:11.929454Z",
     "shell.execute_reply": "2024-05-18T13:05:11.928265Z"
    },
    "papermill": {
     "duration": 0.072874,
     "end_time": "2024-05-18T13:05:11.932060",
     "exception": false,
     "start_time": "2024-05-18T13:05:11.859186",
     "status": "completed"
    },
    "tags": []
   },
   "outputs": [],
   "source": [
    "import pickle\n",
    "pickle.dump(best_model, open('heart_disease_model.pkl', 'wb'))"
   ]
  },
  {
   "cell_type": "markdown",
   "id": "4c957c77",
   "metadata": {
    "papermill": {
     "duration": 0.060239,
     "end_time": "2024-05-18T13:05:12.331800",
     "exception": false,
     "start_time": "2024-05-18T13:05:12.271561",
     "status": "completed"
    },
    "tags": []
   },
   "source": [
    "# **<font color='blue'>Conclusion</font>**  \n",
    "\n",
    "* Through comprehensive exploratory data analysis, I've gained deep insights into the dataset's structure, identifying patterns and potential challenges that guided subsequent steps.\n",
    "\n",
    "* Advanced feature engineering techniques have been successfully applied, enhancing the dataset's predictive power by extracting meaningful information and creating new features, thereby improving model performance.\n",
    "\n",
    "* Thorough data preprocessing, including handling missing values, outlier detection, and normalization, has ensured the dataset's readiness for modeling, contributing to robust and reliable predictions.\n",
    "\n",
    "* By employing various machine learning algorithms and evaluating their performance using cross-validation techniques and appropriate metrics, I've identified the most optimal model for binary classification tasks, ensuring accurate predictions on unseen data.\n",
    "\n",
    "* The selection of the best-performing model is backed by rigorous evaluation and validation, providing confidence in its ability to generalize well to new data and effectively address the classification problem at hand.\n",
    "\n",
    "* With the completion of these tasks, the groundwork has been laid for future predictive analytics endeavors, showcasing a systematic approach to data analysis and modeling aimed at delivering actionable insights and driving informed decision-making."
   ]
  },
  {
   "cell_type": "markdown",
   "id": "76852992",
   "metadata": {
    "papermill": {
     "duration": 0.072628,
     "end_time": "2024-05-18T13:05:12.476176",
     "exception": false,
     "start_time": "2024-05-18T13:05:12.403548",
     "status": "completed"
    },
    "tags": []
   },
   "source": [
    "# **<font color='blue'>Final Thought's</font>**    \n",
    "* This analysis is far from concluded; there's ample space for enhancements. \n",
    "* I'll continuously augment this notebook with various techniques to enhance model accuracy and provide further insights in the future."
   ]
  },
  {
   "cell_type": "code",
   "execution_count": 363,
   "id": "9fc41b94",
   "metadata": {},
   "outputs": [
    {
     "ename": "ValueError",
     "evalue": "The feature names should match those that were passed during fit.\nFeature names seen at fit time, yet now missing:\n- dataset\n- fbs\n- id\n- restecg\n- sex\n",
     "output_type": "error",
     "traceback": [
      "\u001b[1;31m---------------------------------------------------------------------------\u001b[0m",
      "\u001b[1;31mValueError\u001b[0m                                Traceback (most recent call last)",
      "Cell \u001b[1;32mIn[363], line 18\u001b[0m\n\u001b[0;32m     15\u001b[0m sample_data_encoded \u001b[38;5;241m=\u001b[39m sample_data[final_features]\n\u001b[0;32m     17\u001b[0m \u001b[38;5;66;03m# Make predictions\u001b[39;00m\n\u001b[1;32m---> 18\u001b[0m predicted \u001b[38;5;241m=\u001b[39m \u001b[43mbest_model\u001b[49m\u001b[38;5;241;43m.\u001b[39;49m\u001b[43mpredict\u001b[49m\u001b[43m(\u001b[49m\u001b[43msample_data_encoded\u001b[49m\u001b[43m)\u001b[49m\n\u001b[0;32m     20\u001b[0m \u001b[38;5;66;03m# Interpretation based on predicted value\u001b[39;00m\n\u001b[0;32m     21\u001b[0m \u001b[38;5;28;01mdef\u001b[39;00m\u001b[38;5;250m \u001b[39m\u001b[38;5;21minterpret_prediction\u001b[39m(prediction):\n",
      "File \u001b[1;32md:\\Codes\\ML-DL-AI workspace\\.conda\\lib\\site-packages\\sklearn\\pipeline.py:789\u001b[0m, in \u001b[0;36mPipeline.predict\u001b[1;34m(self, X, **params)\u001b[0m\n\u001b[0;32m    787\u001b[0m     \u001b[38;5;28;01mfor\u001b[39;00m _, name, transform \u001b[38;5;129;01min\u001b[39;00m \u001b[38;5;28mself\u001b[39m\u001b[38;5;241m.\u001b[39m_iter(with_final\u001b[38;5;241m=\u001b[39m\u001b[38;5;28;01mFalse\u001b[39;00m):\n\u001b[0;32m    788\u001b[0m         Xt \u001b[38;5;241m=\u001b[39m transform\u001b[38;5;241m.\u001b[39mtransform(Xt)\n\u001b[1;32m--> 789\u001b[0m     \u001b[38;5;28;01mreturn\u001b[39;00m \u001b[38;5;28mself\u001b[39m\u001b[38;5;241m.\u001b[39msteps[\u001b[38;5;241m-\u001b[39m\u001b[38;5;241m1\u001b[39m][\u001b[38;5;241m1\u001b[39m]\u001b[38;5;241m.\u001b[39mpredict(Xt, \u001b[38;5;241m*\u001b[39m\u001b[38;5;241m*\u001b[39mparams)\n\u001b[0;32m    791\u001b[0m \u001b[38;5;66;03m# metadata routing enabled\u001b[39;00m\n\u001b[0;32m    792\u001b[0m routed_params \u001b[38;5;241m=\u001b[39m process_routing(\u001b[38;5;28mself\u001b[39m, \u001b[38;5;124m\"\u001b[39m\u001b[38;5;124mpredict\u001b[39m\u001b[38;5;124m\"\u001b[39m, \u001b[38;5;241m*\u001b[39m\u001b[38;5;241m*\u001b[39mparams)\n",
      "File \u001b[1;32md:\\Codes\\ML-DL-AI workspace\\.conda\\lib\\site-packages\\sklearn\\ensemble\\_gb.py:1627\u001b[0m, in \u001b[0;36mGradientBoostingClassifier.predict\u001b[1;34m(self, X)\u001b[0m\n\u001b[0;32m   1612\u001b[0m \u001b[38;5;28;01mdef\u001b[39;00m\u001b[38;5;250m \u001b[39m\u001b[38;5;21mpredict\u001b[39m(\u001b[38;5;28mself\u001b[39m, X):\n\u001b[0;32m   1613\u001b[0m \u001b[38;5;250m    \u001b[39m\u001b[38;5;124;03m\"\"\"Predict class for X.\u001b[39;00m\n\u001b[0;32m   1614\u001b[0m \n\u001b[0;32m   1615\u001b[0m \u001b[38;5;124;03m    Parameters\u001b[39;00m\n\u001b[1;32m   (...)\u001b[0m\n\u001b[0;32m   1625\u001b[0m \u001b[38;5;124;03m        The predicted values.\u001b[39;00m\n\u001b[0;32m   1626\u001b[0m \u001b[38;5;124;03m    \"\"\"\u001b[39;00m\n\u001b[1;32m-> 1627\u001b[0m     raw_predictions \u001b[38;5;241m=\u001b[39m \u001b[38;5;28;43mself\u001b[39;49m\u001b[38;5;241;43m.\u001b[39;49m\u001b[43mdecision_function\u001b[49m\u001b[43m(\u001b[49m\u001b[43mX\u001b[49m\u001b[43m)\u001b[49m\n\u001b[0;32m   1628\u001b[0m     \u001b[38;5;28;01mif\u001b[39;00m raw_predictions\u001b[38;5;241m.\u001b[39mndim \u001b[38;5;241m==\u001b[39m \u001b[38;5;241m1\u001b[39m:  \u001b[38;5;66;03m# decision_function already squeezed it\u001b[39;00m\n\u001b[0;32m   1629\u001b[0m         encoded_classes \u001b[38;5;241m=\u001b[39m (raw_predictions \u001b[38;5;241m>\u001b[39m\u001b[38;5;241m=\u001b[39m \u001b[38;5;241m0\u001b[39m)\u001b[38;5;241m.\u001b[39mastype(\u001b[38;5;28mint\u001b[39m)\n",
      "File \u001b[1;32md:\\Codes\\ML-DL-AI workspace\\.conda\\lib\\site-packages\\sklearn\\ensemble\\_gb.py:1580\u001b[0m, in \u001b[0;36mGradientBoostingClassifier.decision_function\u001b[1;34m(self, X)\u001b[0m\n\u001b[0;32m   1561\u001b[0m \u001b[38;5;28;01mdef\u001b[39;00m\u001b[38;5;250m \u001b[39m\u001b[38;5;21mdecision_function\u001b[39m(\u001b[38;5;28mself\u001b[39m, X):\n\u001b[0;32m   1562\u001b[0m \u001b[38;5;250m    \u001b[39m\u001b[38;5;124;03m\"\"\"Compute the decision function of ``X``.\u001b[39;00m\n\u001b[0;32m   1563\u001b[0m \n\u001b[0;32m   1564\u001b[0m \u001b[38;5;124;03m    Parameters\u001b[39;00m\n\u001b[1;32m   (...)\u001b[0m\n\u001b[0;32m   1578\u001b[0m \u001b[38;5;124;03m        array of shape (n_samples,).\u001b[39;00m\n\u001b[0;32m   1579\u001b[0m \u001b[38;5;124;03m    \"\"\"\u001b[39;00m\n\u001b[1;32m-> 1580\u001b[0m     X \u001b[38;5;241m=\u001b[39m \u001b[43mvalidate_data\u001b[49m\u001b[43m(\u001b[49m\n\u001b[0;32m   1581\u001b[0m \u001b[43m        \u001b[49m\u001b[38;5;28;43mself\u001b[39;49m\u001b[43m,\u001b[49m\u001b[43m \u001b[49m\u001b[43mX\u001b[49m\u001b[43m,\u001b[49m\u001b[43m \u001b[49m\u001b[43mdtype\u001b[49m\u001b[38;5;241;43m=\u001b[39;49m\u001b[43mDTYPE\u001b[49m\u001b[43m,\u001b[49m\u001b[43m \u001b[49m\u001b[43morder\u001b[49m\u001b[38;5;241;43m=\u001b[39;49m\u001b[38;5;124;43m\"\u001b[39;49m\u001b[38;5;124;43mC\u001b[39;49m\u001b[38;5;124;43m\"\u001b[39;49m\u001b[43m,\u001b[49m\u001b[43m \u001b[49m\u001b[43maccept_sparse\u001b[49m\u001b[38;5;241;43m=\u001b[39;49m\u001b[38;5;124;43m\"\u001b[39;49m\u001b[38;5;124;43mcsr\u001b[39;49m\u001b[38;5;124;43m\"\u001b[39;49m\u001b[43m,\u001b[49m\u001b[43m \u001b[49m\u001b[43mreset\u001b[49m\u001b[38;5;241;43m=\u001b[39;49m\u001b[38;5;28;43;01mFalse\u001b[39;49;00m\n\u001b[0;32m   1582\u001b[0m \u001b[43m    \u001b[49m\u001b[43m)\u001b[49m\n\u001b[0;32m   1583\u001b[0m     raw_predictions \u001b[38;5;241m=\u001b[39m \u001b[38;5;28mself\u001b[39m\u001b[38;5;241m.\u001b[39m_raw_predict(X)\n\u001b[0;32m   1584\u001b[0m     \u001b[38;5;28;01mif\u001b[39;00m raw_predictions\u001b[38;5;241m.\u001b[39mshape[\u001b[38;5;241m1\u001b[39m] \u001b[38;5;241m==\u001b[39m \u001b[38;5;241m1\u001b[39m:\n",
      "File \u001b[1;32md:\\Codes\\ML-DL-AI workspace\\.conda\\lib\\site-packages\\sklearn\\utils\\validation.py:2929\u001b[0m, in \u001b[0;36mvalidate_data\u001b[1;34m(_estimator, X, y, reset, validate_separately, skip_check_array, **check_params)\u001b[0m\n\u001b[0;32m   2845\u001b[0m \u001b[38;5;28;01mdef\u001b[39;00m\u001b[38;5;250m \u001b[39m\u001b[38;5;21mvalidate_data\u001b[39m(\n\u001b[0;32m   2846\u001b[0m     _estimator,\n\u001b[0;32m   2847\u001b[0m     \u001b[38;5;241m/\u001b[39m,\n\u001b[1;32m   (...)\u001b[0m\n\u001b[0;32m   2853\u001b[0m     \u001b[38;5;241m*\u001b[39m\u001b[38;5;241m*\u001b[39mcheck_params,\n\u001b[0;32m   2854\u001b[0m ):\n\u001b[0;32m   2855\u001b[0m \u001b[38;5;250m    \u001b[39m\u001b[38;5;124;03m\"\"\"Validate input data and set or check feature names and counts of the input.\u001b[39;00m\n\u001b[0;32m   2856\u001b[0m \n\u001b[0;32m   2857\u001b[0m \u001b[38;5;124;03m    This helper function should be used in an estimator that requires input\u001b[39;00m\n\u001b[1;32m   (...)\u001b[0m\n\u001b[0;32m   2927\u001b[0m \u001b[38;5;124;03m        validated.\u001b[39;00m\n\u001b[0;32m   2928\u001b[0m \u001b[38;5;124;03m    \"\"\"\u001b[39;00m\n\u001b[1;32m-> 2929\u001b[0m     \u001b[43m_check_feature_names\u001b[49m\u001b[43m(\u001b[49m\u001b[43m_estimator\u001b[49m\u001b[43m,\u001b[49m\u001b[43m \u001b[49m\u001b[43mX\u001b[49m\u001b[43m,\u001b[49m\u001b[43m \u001b[49m\u001b[43mreset\u001b[49m\u001b[38;5;241;43m=\u001b[39;49m\u001b[43mreset\u001b[49m\u001b[43m)\u001b[49m\n\u001b[0;32m   2930\u001b[0m     tags \u001b[38;5;241m=\u001b[39m get_tags(_estimator)\n\u001b[0;32m   2931\u001b[0m     \u001b[38;5;28;01mif\u001b[39;00m y \u001b[38;5;129;01mis\u001b[39;00m \u001b[38;5;28;01mNone\u001b[39;00m \u001b[38;5;129;01mand\u001b[39;00m tags\u001b[38;5;241m.\u001b[39mtarget_tags\u001b[38;5;241m.\u001b[39mrequired:\n",
      "File \u001b[1;32md:\\Codes\\ML-DL-AI workspace\\.conda\\lib\\site-packages\\sklearn\\utils\\validation.py:2787\u001b[0m, in \u001b[0;36m_check_feature_names\u001b[1;34m(estimator, X, reset)\u001b[0m\n\u001b[0;32m   2784\u001b[0m \u001b[38;5;28;01mif\u001b[39;00m \u001b[38;5;129;01mnot\u001b[39;00m missing_names \u001b[38;5;129;01mand\u001b[39;00m \u001b[38;5;129;01mnot\u001b[39;00m unexpected_names:\n\u001b[0;32m   2785\u001b[0m     message \u001b[38;5;241m+\u001b[39m\u001b[38;5;241m=\u001b[39m \u001b[38;5;124m\"\u001b[39m\u001b[38;5;124mFeature names must be in the same order as they were in fit.\u001b[39m\u001b[38;5;130;01m\\n\u001b[39;00m\u001b[38;5;124m\"\u001b[39m\n\u001b[1;32m-> 2787\u001b[0m \u001b[38;5;28;01mraise\u001b[39;00m \u001b[38;5;167;01mValueError\u001b[39;00m(message)\n",
      "\u001b[1;31mValueError\u001b[0m: The feature names should match those that were passed during fit.\nFeature names seen at fit time, yet now missing:\n- dataset\n- fbs\n- id\n- restecg\n- sex\n"
     ]
    }
   ],
   "source": [
    "sample_data = pd.DataFrame({\n",
    "    'ca': [0],  # Assuming 0 corresponds to 'no major vessels'\n",
    "    'age': [55],\n",
    "    'trestbps': [130],\n",
    "    'chol': [245],\n",
    "    'thalch': [205],\n",
    "    'oldpeak': [1.0],\n",
    "    'cp': [3],  # Assuming 1 corresponds to 'typical angina'\n",
    "    'exang': [1],\n",
    "    'slope': [3],  # Assuming 2 corresponds to 'downsloping'\n",
    "    'thal': [4]  # Assuming 2 corresponds to 'fixed defect'\n",
    "})\n",
    "\n",
    "# Ensure sample data has the same columns as the training data\n",
    "sample_data_encoded = sample_data[final_features]\n",
    "\n",
    "# Make predictions\n",
    "predicted = best_model.predict(sample_data_encoded)\n",
    "\n",
    "# Interpretation based on predicted value\n",
    "def interpret_prediction(prediction):\n",
    "    if prediction[0] == 0:\n",
    "        return \"No Heart Disease\"\n",
    "    elif prediction[0] == 1:\n",
    "        return \"Stage 1 (Mild Heart Disease)\"\n",
    "    elif prediction[0] == 2:\n",
    "        return \"Stage 2 (Moderate Heart Disease)\"\n",
    "    elif prediction[0] == 3:\n",
    "        return \"Stage 3 (Advanced Heart Disease)\"\n",
    "    elif prediction[0] == 4:\n",
    "        return \"Stage 4 (Severe Heart Disease)\"\n",
    "    else:\n",
    "        return \"Unknown Stage\"\n",
    "\n",
    "# Print the result\n",
    "print(\"Prediction:\", interpret_prediction(predicted))"
   ]
  },
  {
   "cell_type": "code",
   "execution_count": null,
   "id": "93f76c95",
   "metadata": {},
   "outputs": [],
   "source": []
  }
 ],
 "metadata": {
  "colab": {
   "provenance": [],
   "toc_visible": true
  },
  "kaggle": {
   "accelerator": "none",
   "dataSources": [
    {
     "datasetId": 888463,
     "sourceId": 1508992,
     "sourceType": "datasetVersion"
    }
   ],
   "dockerImageVersionId": 30698,
   "isGpuEnabled": false,
   "isInternetEnabled": true,
   "language": "python",
   "sourceType": "notebook"
  },
  "kernelspec": {
   "display_name": ".conda",
   "language": "python",
   "name": "python3"
  },
  "language_info": {
   "codemirror_mode": {
    "name": "ipython",
    "version": 3
   },
   "file_extension": ".py",
   "mimetype": "text/x-python",
   "name": "python",
   "nbconvert_exporter": "python",
   "pygments_lexer": "ipython3",
   "version": "3.10.18"
  },
  "papermill": {
   "default_parameters": {},
   "duration": 49.653845,
   "end_time": "2024-05-18T13:05:13.460805",
   "environment_variables": {},
   "exception": null,
   "input_path": "__notebook__.ipynb",
   "output_path": "__notebook__.ipynb",
   "parameters": {},
   "start_time": "2024-05-18T13:04:23.806960",
   "version": "2.5.0"
  }
 },
 "nbformat": 4,
 "nbformat_minor": 5
}
